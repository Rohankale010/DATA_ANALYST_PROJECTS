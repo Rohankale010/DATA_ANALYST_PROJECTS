{
 "cells": [
  {
   "cell_type": "code",
   "execution_count": 1,
   "metadata": {},
   "outputs": [],
   "source": [
    "import pandas as pd\n",
    "from sklearn.linear_model import LogisticRegression\n",
    "from sklearn.ensemble import RandomForestClassifier\n",
    "from xgboost import XGBClassifier\n",
    "from lightgbm import LGBMClassifier\n",
    "from sklearn.metrics import classification_report,roc_auc_score\n",
    "import warnings\n",
    "warnings.filterwarnings(action='ignore')"
   ]
  },
  {
   "cell_type": "code",
   "execution_count": 2,
   "metadata": {},
   "outputs": [],
   "source": [
    "X_train=pd.read_csv('D:\\Projects\\DATA_ANALYST_PROJECTS\\Financial_Fraud_Detection\\data\\X_train.csv')\n",
    "X_test=pd.read_csv('D:\\Projects\\DATA_ANALYST_PROJECTS\\Financial_Fraud_Detection\\data\\X_test.csv')\n",
    "y_train=pd.read_csv('D:\\Projects\\DATA_ANALYST_PROJECTS\\Financial_Fraud_Detection\\data\\y_train.csv')\n",
    "y_test=pd.read_csv('D:\\Projects\\DATA_ANALYST_PROJECTS\\Financial_Fraud_Detection\\data\\y_test.csv')\n"
   ]
  },
  {
   "cell_type": "code",
   "execution_count": 3,
   "metadata": {},
   "outputs": [],
   "source": [
    "models={\n",
    "    'LogisticRegression':LogisticRegression(),\n",
    "    'RandomForest':RandomForestClassifier(n_estimators=100,random_state=42),\n",
    "    'XGBoost':XGBClassifier(use_label_encoder=False,eval_metric=\"logloss\"),\n",
    "    'LightGBM': LGBMClassifier()  \n",
    "}"
   ]
  },
  {
   "cell_type": "code",
   "execution_count": 5,
   "metadata": {},
   "outputs": [
    {
     "name": "stdout",
     "output_type": "stream",
     "text": [
      "Model : LogisticRegression\n",
      "Classification Report :\n",
      "               precision    recall  f1-score   support\n",
      "\n",
      "           0       0.92      0.97      0.95     56863\n",
      "           1       0.97      0.92      0.94     56863\n",
      "\n",
      "    accuracy                           0.95    113726\n",
      "   macro avg       0.95      0.95      0.95    113726\n",
      "weighted avg       0.95      0.95      0.95    113726\n",
      "\n",
      "AUC-ROC Score :\n",
      " 0.9892438837667636\n",
      "==================================================\n",
      "Model : RandomForest\n",
      "Classification Report :\n",
      "               precision    recall  f1-score   support\n",
      "\n",
      "           0       1.00      1.00      1.00     56863\n",
      "           1       1.00      1.00      1.00     56863\n",
      "\n",
      "    accuracy                           1.00    113726\n",
      "   macro avg       1.00      1.00      1.00    113726\n",
      "weighted avg       1.00      1.00      1.00    113726\n",
      "\n",
      "AUC-ROC Score :\n",
      " 0.9999997088205059\n",
      "==================================================\n",
      "Model : XGBoost\n",
      "Classification Report :\n",
      "               precision    recall  f1-score   support\n",
      "\n",
      "           0       1.00      1.00      1.00     56863\n",
      "           1       1.00      1.00      1.00     56863\n",
      "\n",
      "    accuracy                           1.00    113726\n",
      "   macro avg       1.00      1.00      1.00    113726\n",
      "weighted avg       1.00      1.00      1.00    113726\n",
      "\n",
      "AUC-ROC Score :\n",
      " 0.9999911217315604\n",
      "==================================================\n",
      "[LightGBM] [Info] Number of positive: 227452, number of negative: 227452\n",
      "[LightGBM] [Info] Auto-choosing row-wise multi-threading, the overhead of testing was 0.016607 seconds.\n",
      "You can set `force_row_wise=true` to remove the overhead.\n",
      "And if memory is not enough, you can set `force_col_wise=true`.\n",
      "[LightGBM] [Info] Total Bins 7395\n",
      "[LightGBM] [Info] Number of data points in the train set: 454904, number of used features: 29\n",
      "[LightGBM] [Info] [binary:BoostFromScore]: pavg=0.500000 -> initscore=0.000000\n",
      "Model : LightGBM\n",
      "Classification Report :\n",
      "               precision    recall  f1-score   support\n",
      "\n",
      "           0       1.00      1.00      1.00     56863\n",
      "           1       1.00      1.00      1.00     56863\n",
      "\n",
      "    accuracy                           1.00    113726\n",
      "   macro avg       1.00      1.00      1.00    113726\n",
      "weighted avg       1.00      1.00      1.00    113726\n",
      "\n",
      "AUC-ROC Score :\n",
      " 0.9997246162589752\n",
      "==================================================\n"
     ]
    }
   ],
   "source": [
    "# Train and evaluate each model\n",
    "for name,model in models.items():\n",
    "    model.fit(X_train,y_train)\n",
    "    y_pred=model.predict(X_test)\n",
    "    y_pred_proba=model.predict_proba(X_test)[:,1] # Get Probability for ROC\n",
    "\n",
    "    print(f'Model : {name}')\n",
    "    print(f'Classification Report :\\n {classification_report(y_test,y_pred)}')\n",
    "    print(f'AUC-ROC Score :\\n {roc_auc_score(y_test,y_pred_proba)}')\n",
    "    print('='*50)"
   ]
  },
  {
   "cell_type": "code",
   "execution_count": null,
   "metadata": {},
   "outputs": [],
   "source": []
  }
 ],
 "metadata": {
  "kernelspec": {
   "display_name": "base",
   "language": "python",
   "name": "python3"
  },
  "language_info": {
   "codemirror_mode": {
    "name": "ipython",
    "version": 3
   },
   "file_extension": ".py",
   "mimetype": "text/x-python",
   "name": "python",
   "nbconvert_exporter": "python",
   "pygments_lexer": "ipython3",
   "version": "3.9.13"
  }
 },
 "nbformat": 4,
 "nbformat_minor": 2
}
