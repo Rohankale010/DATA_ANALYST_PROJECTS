{
 "cells": [
  {
   "cell_type": "code",
   "execution_count": 1,
   "metadata": {},
   "outputs": [],
   "source": [
    "import pandas as pd\n",
    "import numpy as np\n",
    "import matplotlib.pyplot as plt\n",
    "import seaborn as sns\n",
    "import plotly.express as px\n",
    "from plotly.subplots import make_subplots\n",
    "from datetime import datetime\n",
    "import warnings\n",
    "warnings.filterwarnings('ignore')"
   ]
  },
  {
   "cell_type": "code",
   "execution_count": 2,
   "metadata": {},
   "outputs": [
    {
     "data": {
      "text/html": [
       "<div>\n",
       "<style scoped>\n",
       "    .dataframe tbody tr th:only-of-type {\n",
       "        vertical-align: middle;\n",
       "    }\n",
       "\n",
       "    .dataframe tbody tr th {\n",
       "        vertical-align: top;\n",
       "    }\n",
       "\n",
       "    .dataframe thead th {\n",
       "        text-align: right;\n",
       "    }\n",
       "</style>\n",
       "<table border=\"1\" class=\"dataframe\">\n",
       "  <thead>\n",
       "    <tr style=\"text-align: right;\">\n",
       "      <th></th>\n",
       "      <th>Sno</th>\n",
       "      <th>Date</th>\n",
       "      <th>Time</th>\n",
       "      <th>State/UnionTerritory</th>\n",
       "      <th>ConfirmedIndianNational</th>\n",
       "      <th>ConfirmedForeignNational</th>\n",
       "      <th>Cured</th>\n",
       "      <th>Deaths</th>\n",
       "      <th>Confirmed</th>\n",
       "    </tr>\n",
       "  </thead>\n",
       "  <tbody>\n",
       "    <tr>\n",
       "      <th>0</th>\n",
       "      <td>1</td>\n",
       "      <td>2020-01-30</td>\n",
       "      <td>6:00 PM</td>\n",
       "      <td>Kerala</td>\n",
       "      <td>1</td>\n",
       "      <td>0</td>\n",
       "      <td>0</td>\n",
       "      <td>0</td>\n",
       "      <td>1</td>\n",
       "    </tr>\n",
       "    <tr>\n",
       "      <th>1</th>\n",
       "      <td>2</td>\n",
       "      <td>2020-01-31</td>\n",
       "      <td>6:00 PM</td>\n",
       "      <td>Kerala</td>\n",
       "      <td>1</td>\n",
       "      <td>0</td>\n",
       "      <td>0</td>\n",
       "      <td>0</td>\n",
       "      <td>1</td>\n",
       "    </tr>\n",
       "    <tr>\n",
       "      <th>2</th>\n",
       "      <td>3</td>\n",
       "      <td>2020-02-01</td>\n",
       "      <td>6:00 PM</td>\n",
       "      <td>Kerala</td>\n",
       "      <td>2</td>\n",
       "      <td>0</td>\n",
       "      <td>0</td>\n",
       "      <td>0</td>\n",
       "      <td>2</td>\n",
       "    </tr>\n",
       "    <tr>\n",
       "      <th>3</th>\n",
       "      <td>4</td>\n",
       "      <td>2020-02-02</td>\n",
       "      <td>6:00 PM</td>\n",
       "      <td>Kerala</td>\n",
       "      <td>3</td>\n",
       "      <td>0</td>\n",
       "      <td>0</td>\n",
       "      <td>0</td>\n",
       "      <td>3</td>\n",
       "    </tr>\n",
       "    <tr>\n",
       "      <th>4</th>\n",
       "      <td>5</td>\n",
       "      <td>2020-02-03</td>\n",
       "      <td>6:00 PM</td>\n",
       "      <td>Kerala</td>\n",
       "      <td>3</td>\n",
       "      <td>0</td>\n",
       "      <td>0</td>\n",
       "      <td>0</td>\n",
       "      <td>3</td>\n",
       "    </tr>\n",
       "  </tbody>\n",
       "</table>\n",
       "</div>"
      ],
      "text/plain": [
       "   Sno        Date     Time State/UnionTerritory ConfirmedIndianNational  \\\n",
       "0    1  2020-01-30  6:00 PM               Kerala                       1   \n",
       "1    2  2020-01-31  6:00 PM               Kerala                       1   \n",
       "2    3  2020-02-01  6:00 PM               Kerala                       2   \n",
       "3    4  2020-02-02  6:00 PM               Kerala                       3   \n",
       "4    5  2020-02-03  6:00 PM               Kerala                       3   \n",
       "\n",
       "  ConfirmedForeignNational  Cured  Deaths  Confirmed  \n",
       "0                        0      0       0          1  \n",
       "1                        0      0       0          1  \n",
       "2                        0      0       0          2  \n",
       "3                        0      0       0          3  \n",
       "4                        0      0       0          3  "
      ]
     },
     "execution_count": 2,
     "metadata": {},
     "output_type": "execute_result"
    }
   ],
   "source": [
    "# Load the dataset\n",
    "covid_df=pd.read_csv('D:\\Projects\\DATA_ANALYST_PROJECTS\\Covid Analysis using Python\\data\\covid_19_india.csv')\n",
    "# Displaying the first few rows of dataset\n",
    "covid_df.head()"
   ]
  },
  {
   "cell_type": "code",
   "execution_count": 3,
   "metadata": {},
   "outputs": [
    {
     "name": "stdout",
     "output_type": "stream",
     "text": [
      "<class 'pandas.core.frame.DataFrame'>\n",
      "RangeIndex: 18110 entries, 0 to 18109\n",
      "Data columns (total 9 columns):\n",
      " #   Column                    Non-Null Count  Dtype \n",
      "---  ------                    --------------  ----- \n",
      " 0   Sno                       18110 non-null  int64 \n",
      " 1   Date                      18110 non-null  object\n",
      " 2   Time                      18110 non-null  object\n",
      " 3   State/UnionTerritory      18110 non-null  object\n",
      " 4   ConfirmedIndianNational   18110 non-null  object\n",
      " 5   ConfirmedForeignNational  18110 non-null  object\n",
      " 6   Cured                     18110 non-null  int64 \n",
      " 7   Deaths                    18110 non-null  int64 \n",
      " 8   Confirmed                 18110 non-null  int64 \n",
      "dtypes: int64(4), object(5)\n",
      "memory usage: 1.2+ MB\n"
     ]
    }
   ],
   "source": [
    "# Display the information of Dataset\n",
    "covid_df.info()"
   ]
  },
  {
   "cell_type": "code",
   "execution_count": 4,
   "metadata": {},
   "outputs": [
    {
     "data": {
      "text/html": [
       "<div>\n",
       "<style scoped>\n",
       "    .dataframe tbody tr th:only-of-type {\n",
       "        vertical-align: middle;\n",
       "    }\n",
       "\n",
       "    .dataframe tbody tr th {\n",
       "        vertical-align: top;\n",
       "    }\n",
       "\n",
       "    .dataframe thead th {\n",
       "        text-align: right;\n",
       "    }\n",
       "</style>\n",
       "<table border=\"1\" class=\"dataframe\">\n",
       "  <thead>\n",
       "    <tr style=\"text-align: right;\">\n",
       "      <th></th>\n",
       "      <th>Sno</th>\n",
       "      <th>Cured</th>\n",
       "      <th>Deaths</th>\n",
       "      <th>Confirmed</th>\n",
       "    </tr>\n",
       "  </thead>\n",
       "  <tbody>\n",
       "    <tr>\n",
       "      <th>count</th>\n",
       "      <td>18110.000000</td>\n",
       "      <td>1.811000e+04</td>\n",
       "      <td>18110.000000</td>\n",
       "      <td>1.811000e+04</td>\n",
       "    </tr>\n",
       "    <tr>\n",
       "      <th>mean</th>\n",
       "      <td>9055.500000</td>\n",
       "      <td>2.786375e+05</td>\n",
       "      <td>4052.402264</td>\n",
       "      <td>3.010314e+05</td>\n",
       "    </tr>\n",
       "    <tr>\n",
       "      <th>std</th>\n",
       "      <td>5228.051023</td>\n",
       "      <td>6.148909e+05</td>\n",
       "      <td>10919.076411</td>\n",
       "      <td>6.561489e+05</td>\n",
       "    </tr>\n",
       "    <tr>\n",
       "      <th>min</th>\n",
       "      <td>1.000000</td>\n",
       "      <td>0.000000e+00</td>\n",
       "      <td>0.000000</td>\n",
       "      <td>0.000000e+00</td>\n",
       "    </tr>\n",
       "    <tr>\n",
       "      <th>25%</th>\n",
       "      <td>4528.250000</td>\n",
       "      <td>3.360250e+03</td>\n",
       "      <td>32.000000</td>\n",
       "      <td>4.376750e+03</td>\n",
       "    </tr>\n",
       "    <tr>\n",
       "      <th>50%</th>\n",
       "      <td>9055.500000</td>\n",
       "      <td>3.336400e+04</td>\n",
       "      <td>588.000000</td>\n",
       "      <td>3.977350e+04</td>\n",
       "    </tr>\n",
       "    <tr>\n",
       "      <th>75%</th>\n",
       "      <td>13582.750000</td>\n",
       "      <td>2.788698e+05</td>\n",
       "      <td>3643.750000</td>\n",
       "      <td>3.001498e+05</td>\n",
       "    </tr>\n",
       "    <tr>\n",
       "      <th>max</th>\n",
       "      <td>18110.000000</td>\n",
       "      <td>6.159676e+06</td>\n",
       "      <td>134201.000000</td>\n",
       "      <td>6.363442e+06</td>\n",
       "    </tr>\n",
       "  </tbody>\n",
       "</table>\n",
       "</div>"
      ],
      "text/plain": [
       "                Sno         Cured         Deaths     Confirmed\n",
       "count  18110.000000  1.811000e+04   18110.000000  1.811000e+04\n",
       "mean    9055.500000  2.786375e+05    4052.402264  3.010314e+05\n",
       "std     5228.051023  6.148909e+05   10919.076411  6.561489e+05\n",
       "min        1.000000  0.000000e+00       0.000000  0.000000e+00\n",
       "25%     4528.250000  3.360250e+03      32.000000  4.376750e+03\n",
       "50%     9055.500000  3.336400e+04     588.000000  3.977350e+04\n",
       "75%    13582.750000  2.788698e+05    3643.750000  3.001498e+05\n",
       "max    18110.000000  6.159676e+06  134201.000000  6.363442e+06"
      ]
     },
     "execution_count": 4,
     "metadata": {},
     "output_type": "execute_result"
    }
   ],
   "source": [
    "# Summary Statistics\n",
    "covid_df.describe()"
   ]
  },
  {
   "cell_type": "code",
   "execution_count": 5,
   "metadata": {},
   "outputs": [
    {
     "data": {
      "text/html": [
       "<div>\n",
       "<style scoped>\n",
       "    .dataframe tbody tr th:only-of-type {\n",
       "        vertical-align: middle;\n",
       "    }\n",
       "\n",
       "    .dataframe tbody tr th {\n",
       "        vertical-align: top;\n",
       "    }\n",
       "\n",
       "    .dataframe thead th {\n",
       "        text-align: right;\n",
       "    }\n",
       "</style>\n",
       "<table border=\"1\" class=\"dataframe\">\n",
       "  <thead>\n",
       "    <tr style=\"text-align: right;\">\n",
       "      <th></th>\n",
       "      <th>Updated On</th>\n",
       "      <th>State</th>\n",
       "      <th>Total Doses Administered</th>\n",
       "      <th>Sessions</th>\n",
       "      <th>Sites</th>\n",
       "      <th>First Dose Administered</th>\n",
       "      <th>Second Dose Administered</th>\n",
       "      <th>Male (Doses Administered)</th>\n",
       "      <th>Female (Doses Administered)</th>\n",
       "      <th>Transgender (Doses Administered)</th>\n",
       "      <th>...</th>\n",
       "      <th>18-44 Years (Doses Administered)</th>\n",
       "      <th>45-60 Years (Doses Administered)</th>\n",
       "      <th>60+ Years (Doses Administered)</th>\n",
       "      <th>18-44 Years(Individuals Vaccinated)</th>\n",
       "      <th>45-60 Years(Individuals Vaccinated)</th>\n",
       "      <th>60+ Years(Individuals Vaccinated)</th>\n",
       "      <th>Male(Individuals Vaccinated)</th>\n",
       "      <th>Female(Individuals Vaccinated)</th>\n",
       "      <th>Transgender(Individuals Vaccinated)</th>\n",
       "      <th>Total Individuals Vaccinated</th>\n",
       "    </tr>\n",
       "  </thead>\n",
       "  <tbody>\n",
       "    <tr>\n",
       "      <th>0</th>\n",
       "      <td>16/01/2021</td>\n",
       "      <td>India</td>\n",
       "      <td>48276.0</td>\n",
       "      <td>3455.0</td>\n",
       "      <td>2957.0</td>\n",
       "      <td>48276.0</td>\n",
       "      <td>0.0</td>\n",
       "      <td>NaN</td>\n",
       "      <td>NaN</td>\n",
       "      <td>NaN</td>\n",
       "      <td>...</td>\n",
       "      <td>NaN</td>\n",
       "      <td>NaN</td>\n",
       "      <td>NaN</td>\n",
       "      <td>NaN</td>\n",
       "      <td>NaN</td>\n",
       "      <td>NaN</td>\n",
       "      <td>23757.0</td>\n",
       "      <td>24517.0</td>\n",
       "      <td>2.0</td>\n",
       "      <td>48276.0</td>\n",
       "    </tr>\n",
       "    <tr>\n",
       "      <th>1</th>\n",
       "      <td>17/01/2021</td>\n",
       "      <td>India</td>\n",
       "      <td>58604.0</td>\n",
       "      <td>8532.0</td>\n",
       "      <td>4954.0</td>\n",
       "      <td>58604.0</td>\n",
       "      <td>0.0</td>\n",
       "      <td>NaN</td>\n",
       "      <td>NaN</td>\n",
       "      <td>NaN</td>\n",
       "      <td>...</td>\n",
       "      <td>NaN</td>\n",
       "      <td>NaN</td>\n",
       "      <td>NaN</td>\n",
       "      <td>NaN</td>\n",
       "      <td>NaN</td>\n",
       "      <td>NaN</td>\n",
       "      <td>27348.0</td>\n",
       "      <td>31252.0</td>\n",
       "      <td>4.0</td>\n",
       "      <td>58604.0</td>\n",
       "    </tr>\n",
       "    <tr>\n",
       "      <th>2</th>\n",
       "      <td>18/01/2021</td>\n",
       "      <td>India</td>\n",
       "      <td>99449.0</td>\n",
       "      <td>13611.0</td>\n",
       "      <td>6583.0</td>\n",
       "      <td>99449.0</td>\n",
       "      <td>0.0</td>\n",
       "      <td>NaN</td>\n",
       "      <td>NaN</td>\n",
       "      <td>NaN</td>\n",
       "      <td>...</td>\n",
       "      <td>NaN</td>\n",
       "      <td>NaN</td>\n",
       "      <td>NaN</td>\n",
       "      <td>NaN</td>\n",
       "      <td>NaN</td>\n",
       "      <td>NaN</td>\n",
       "      <td>41361.0</td>\n",
       "      <td>58083.0</td>\n",
       "      <td>5.0</td>\n",
       "      <td>99449.0</td>\n",
       "    </tr>\n",
       "    <tr>\n",
       "      <th>3</th>\n",
       "      <td>19/01/2021</td>\n",
       "      <td>India</td>\n",
       "      <td>195525.0</td>\n",
       "      <td>17855.0</td>\n",
       "      <td>7951.0</td>\n",
       "      <td>195525.0</td>\n",
       "      <td>0.0</td>\n",
       "      <td>NaN</td>\n",
       "      <td>NaN</td>\n",
       "      <td>NaN</td>\n",
       "      <td>...</td>\n",
       "      <td>NaN</td>\n",
       "      <td>NaN</td>\n",
       "      <td>NaN</td>\n",
       "      <td>NaN</td>\n",
       "      <td>NaN</td>\n",
       "      <td>NaN</td>\n",
       "      <td>81901.0</td>\n",
       "      <td>113613.0</td>\n",
       "      <td>11.0</td>\n",
       "      <td>195525.0</td>\n",
       "    </tr>\n",
       "    <tr>\n",
       "      <th>4</th>\n",
       "      <td>20/01/2021</td>\n",
       "      <td>India</td>\n",
       "      <td>251280.0</td>\n",
       "      <td>25472.0</td>\n",
       "      <td>10504.0</td>\n",
       "      <td>251280.0</td>\n",
       "      <td>0.0</td>\n",
       "      <td>NaN</td>\n",
       "      <td>NaN</td>\n",
       "      <td>NaN</td>\n",
       "      <td>...</td>\n",
       "      <td>NaN</td>\n",
       "      <td>NaN</td>\n",
       "      <td>NaN</td>\n",
       "      <td>NaN</td>\n",
       "      <td>NaN</td>\n",
       "      <td>NaN</td>\n",
       "      <td>98111.0</td>\n",
       "      <td>153145.0</td>\n",
       "      <td>24.0</td>\n",
       "      <td>251280.0</td>\n",
       "    </tr>\n",
       "  </tbody>\n",
       "</table>\n",
       "<p>5 rows × 24 columns</p>\n",
       "</div>"
      ],
      "text/plain": [
       "   Updated On  State  Total Doses Administered  Sessions   Sites   \\\n",
       "0  16/01/2021  India                   48276.0    3455.0   2957.0   \n",
       "1  17/01/2021  India                   58604.0    8532.0   4954.0   \n",
       "2  18/01/2021  India                   99449.0   13611.0   6583.0   \n",
       "3  19/01/2021  India                  195525.0   17855.0   7951.0   \n",
       "4  20/01/2021  India                  251280.0   25472.0  10504.0   \n",
       "\n",
       "   First Dose Administered  Second Dose Administered  \\\n",
       "0                  48276.0                       0.0   \n",
       "1                  58604.0                       0.0   \n",
       "2                  99449.0                       0.0   \n",
       "3                 195525.0                       0.0   \n",
       "4                 251280.0                       0.0   \n",
       "\n",
       "   Male (Doses Administered)  Female (Doses Administered)  \\\n",
       "0                        NaN                          NaN   \n",
       "1                        NaN                          NaN   \n",
       "2                        NaN                          NaN   \n",
       "3                        NaN                          NaN   \n",
       "4                        NaN                          NaN   \n",
       "\n",
       "   Transgender (Doses Administered)  ...  18-44 Years (Doses Administered)  \\\n",
       "0                               NaN  ...                               NaN   \n",
       "1                               NaN  ...                               NaN   \n",
       "2                               NaN  ...                               NaN   \n",
       "3                               NaN  ...                               NaN   \n",
       "4                               NaN  ...                               NaN   \n",
       "\n",
       "   45-60 Years (Doses Administered)  60+ Years (Doses Administered)  \\\n",
       "0                               NaN                             NaN   \n",
       "1                               NaN                             NaN   \n",
       "2                               NaN                             NaN   \n",
       "3                               NaN                             NaN   \n",
       "4                               NaN                             NaN   \n",
       "\n",
       "   18-44 Years(Individuals Vaccinated)  45-60 Years(Individuals Vaccinated)  \\\n",
       "0                                  NaN                                  NaN   \n",
       "1                                  NaN                                  NaN   \n",
       "2                                  NaN                                  NaN   \n",
       "3                                  NaN                                  NaN   \n",
       "4                                  NaN                                  NaN   \n",
       "\n",
       "   60+ Years(Individuals Vaccinated)  Male(Individuals Vaccinated)  \\\n",
       "0                                NaN                       23757.0   \n",
       "1                                NaN                       27348.0   \n",
       "2                                NaN                       41361.0   \n",
       "3                                NaN                       81901.0   \n",
       "4                                NaN                       98111.0   \n",
       "\n",
       "   Female(Individuals Vaccinated)  Transgender(Individuals Vaccinated)  \\\n",
       "0                         24517.0                                  2.0   \n",
       "1                         31252.0                                  4.0   \n",
       "2                         58083.0                                  5.0   \n",
       "3                        113613.0                                 11.0   \n",
       "4                        153145.0                                 24.0   \n",
       "\n",
       "   Total Individuals Vaccinated  \n",
       "0                       48276.0  \n",
       "1                       58604.0  \n",
       "2                       99449.0  \n",
       "3                      195525.0  \n",
       "4                      251280.0  \n",
       "\n",
       "[5 rows x 24 columns]"
      ]
     },
     "execution_count": 5,
     "metadata": {},
     "output_type": "execute_result"
    }
   ],
   "source": [
    "# Load the dataset\n",
    "vaccine_df=pd.read_csv('D:\\Projects\\DATA_ANALYST_PROJECTS\\Covid Analysis using Python\\data\\covid_vaccine_statewise.csv')\n",
    "# Displaying the first few row of dataset\n",
    "vaccine_df.head()"
   ]
  },
  {
   "cell_type": "code",
   "execution_count": 6,
   "metadata": {},
   "outputs": [],
   "source": [
    "pd.set_option('display.max_columns',None)"
   ]
  },
  {
   "cell_type": "code",
   "execution_count": 7,
   "metadata": {},
   "outputs": [
    {
     "data": {
      "text/html": [
       "<div>\n",
       "<style scoped>\n",
       "    .dataframe tbody tr th:only-of-type {\n",
       "        vertical-align: middle;\n",
       "    }\n",
       "\n",
       "    .dataframe tbody tr th {\n",
       "        vertical-align: top;\n",
       "    }\n",
       "\n",
       "    .dataframe thead th {\n",
       "        text-align: right;\n",
       "    }\n",
       "</style>\n",
       "<table border=\"1\" class=\"dataframe\">\n",
       "  <thead>\n",
       "    <tr style=\"text-align: right;\">\n",
       "      <th></th>\n",
       "      <th>Updated On</th>\n",
       "      <th>State</th>\n",
       "      <th>Total Doses Administered</th>\n",
       "      <th>Sessions</th>\n",
       "      <th>Sites</th>\n",
       "      <th>First Dose Administered</th>\n",
       "      <th>Second Dose Administered</th>\n",
       "      <th>Male (Doses Administered)</th>\n",
       "      <th>Female (Doses Administered)</th>\n",
       "      <th>Transgender (Doses Administered)</th>\n",
       "      <th>Covaxin (Doses Administered)</th>\n",
       "      <th>CoviShield (Doses Administered)</th>\n",
       "      <th>Sputnik V (Doses Administered)</th>\n",
       "      <th>AEFI</th>\n",
       "      <th>18-44 Years (Doses Administered)</th>\n",
       "      <th>45-60 Years (Doses Administered)</th>\n",
       "      <th>60+ Years (Doses Administered)</th>\n",
       "      <th>18-44 Years(Individuals Vaccinated)</th>\n",
       "      <th>45-60 Years(Individuals Vaccinated)</th>\n",
       "      <th>60+ Years(Individuals Vaccinated)</th>\n",
       "      <th>Male(Individuals Vaccinated)</th>\n",
       "      <th>Female(Individuals Vaccinated)</th>\n",
       "      <th>Transgender(Individuals Vaccinated)</th>\n",
       "      <th>Total Individuals Vaccinated</th>\n",
       "    </tr>\n",
       "  </thead>\n",
       "  <tbody>\n",
       "    <tr>\n",
       "      <th>0</th>\n",
       "      <td>16/01/2021</td>\n",
       "      <td>India</td>\n",
       "      <td>48276.0</td>\n",
       "      <td>3455.0</td>\n",
       "      <td>2957.0</td>\n",
       "      <td>48276.0</td>\n",
       "      <td>0.0</td>\n",
       "      <td>NaN</td>\n",
       "      <td>NaN</td>\n",
       "      <td>NaN</td>\n",
       "      <td>579.0</td>\n",
       "      <td>47697.0</td>\n",
       "      <td>NaN</td>\n",
       "      <td>NaN</td>\n",
       "      <td>NaN</td>\n",
       "      <td>NaN</td>\n",
       "      <td>NaN</td>\n",
       "      <td>NaN</td>\n",
       "      <td>NaN</td>\n",
       "      <td>NaN</td>\n",
       "      <td>23757.0</td>\n",
       "      <td>24517.0</td>\n",
       "      <td>2.0</td>\n",
       "      <td>48276.0</td>\n",
       "    </tr>\n",
       "    <tr>\n",
       "      <th>1</th>\n",
       "      <td>17/01/2021</td>\n",
       "      <td>India</td>\n",
       "      <td>58604.0</td>\n",
       "      <td>8532.0</td>\n",
       "      <td>4954.0</td>\n",
       "      <td>58604.0</td>\n",
       "      <td>0.0</td>\n",
       "      <td>NaN</td>\n",
       "      <td>NaN</td>\n",
       "      <td>NaN</td>\n",
       "      <td>635.0</td>\n",
       "      <td>57969.0</td>\n",
       "      <td>NaN</td>\n",
       "      <td>NaN</td>\n",
       "      <td>NaN</td>\n",
       "      <td>NaN</td>\n",
       "      <td>NaN</td>\n",
       "      <td>NaN</td>\n",
       "      <td>NaN</td>\n",
       "      <td>NaN</td>\n",
       "      <td>27348.0</td>\n",
       "      <td>31252.0</td>\n",
       "      <td>4.0</td>\n",
       "      <td>58604.0</td>\n",
       "    </tr>\n",
       "    <tr>\n",
       "      <th>2</th>\n",
       "      <td>18/01/2021</td>\n",
       "      <td>India</td>\n",
       "      <td>99449.0</td>\n",
       "      <td>13611.0</td>\n",
       "      <td>6583.0</td>\n",
       "      <td>99449.0</td>\n",
       "      <td>0.0</td>\n",
       "      <td>NaN</td>\n",
       "      <td>NaN</td>\n",
       "      <td>NaN</td>\n",
       "      <td>1299.0</td>\n",
       "      <td>98150.0</td>\n",
       "      <td>NaN</td>\n",
       "      <td>NaN</td>\n",
       "      <td>NaN</td>\n",
       "      <td>NaN</td>\n",
       "      <td>NaN</td>\n",
       "      <td>NaN</td>\n",
       "      <td>NaN</td>\n",
       "      <td>NaN</td>\n",
       "      <td>41361.0</td>\n",
       "      <td>58083.0</td>\n",
       "      <td>5.0</td>\n",
       "      <td>99449.0</td>\n",
       "    </tr>\n",
       "    <tr>\n",
       "      <th>3</th>\n",
       "      <td>19/01/2021</td>\n",
       "      <td>India</td>\n",
       "      <td>195525.0</td>\n",
       "      <td>17855.0</td>\n",
       "      <td>7951.0</td>\n",
       "      <td>195525.0</td>\n",
       "      <td>0.0</td>\n",
       "      <td>NaN</td>\n",
       "      <td>NaN</td>\n",
       "      <td>NaN</td>\n",
       "      <td>3017.0</td>\n",
       "      <td>192508.0</td>\n",
       "      <td>NaN</td>\n",
       "      <td>NaN</td>\n",
       "      <td>NaN</td>\n",
       "      <td>NaN</td>\n",
       "      <td>NaN</td>\n",
       "      <td>NaN</td>\n",
       "      <td>NaN</td>\n",
       "      <td>NaN</td>\n",
       "      <td>81901.0</td>\n",
       "      <td>113613.0</td>\n",
       "      <td>11.0</td>\n",
       "      <td>195525.0</td>\n",
       "    </tr>\n",
       "    <tr>\n",
       "      <th>4</th>\n",
       "      <td>20/01/2021</td>\n",
       "      <td>India</td>\n",
       "      <td>251280.0</td>\n",
       "      <td>25472.0</td>\n",
       "      <td>10504.0</td>\n",
       "      <td>251280.0</td>\n",
       "      <td>0.0</td>\n",
       "      <td>NaN</td>\n",
       "      <td>NaN</td>\n",
       "      <td>NaN</td>\n",
       "      <td>3946.0</td>\n",
       "      <td>247334.0</td>\n",
       "      <td>NaN</td>\n",
       "      <td>NaN</td>\n",
       "      <td>NaN</td>\n",
       "      <td>NaN</td>\n",
       "      <td>NaN</td>\n",
       "      <td>NaN</td>\n",
       "      <td>NaN</td>\n",
       "      <td>NaN</td>\n",
       "      <td>98111.0</td>\n",
       "      <td>153145.0</td>\n",
       "      <td>24.0</td>\n",
       "      <td>251280.0</td>\n",
       "    </tr>\n",
       "  </tbody>\n",
       "</table>\n",
       "</div>"
      ],
      "text/plain": [
       "   Updated On  State  Total Doses Administered  Sessions   Sites   \\\n",
       "0  16/01/2021  India                   48276.0    3455.0   2957.0   \n",
       "1  17/01/2021  India                   58604.0    8532.0   4954.0   \n",
       "2  18/01/2021  India                   99449.0   13611.0   6583.0   \n",
       "3  19/01/2021  India                  195525.0   17855.0   7951.0   \n",
       "4  20/01/2021  India                  251280.0   25472.0  10504.0   \n",
       "\n",
       "   First Dose Administered  Second Dose Administered  \\\n",
       "0                  48276.0                       0.0   \n",
       "1                  58604.0                       0.0   \n",
       "2                  99449.0                       0.0   \n",
       "3                 195525.0                       0.0   \n",
       "4                 251280.0                       0.0   \n",
       "\n",
       "   Male (Doses Administered)  Female (Doses Administered)  \\\n",
       "0                        NaN                          NaN   \n",
       "1                        NaN                          NaN   \n",
       "2                        NaN                          NaN   \n",
       "3                        NaN                          NaN   \n",
       "4                        NaN                          NaN   \n",
       "\n",
       "   Transgender (Doses Administered)   Covaxin (Doses Administered)  \\\n",
       "0                               NaN                          579.0   \n",
       "1                               NaN                          635.0   \n",
       "2                               NaN                         1299.0   \n",
       "3                               NaN                         3017.0   \n",
       "4                               NaN                         3946.0   \n",
       "\n",
       "   CoviShield (Doses Administered)  Sputnik V (Doses Administered)  AEFI  \\\n",
       "0                          47697.0                             NaN   NaN   \n",
       "1                          57969.0                             NaN   NaN   \n",
       "2                          98150.0                             NaN   NaN   \n",
       "3                         192508.0                             NaN   NaN   \n",
       "4                         247334.0                             NaN   NaN   \n",
       "\n",
       "   18-44 Years (Doses Administered)  45-60 Years (Doses Administered)  \\\n",
       "0                               NaN                               NaN   \n",
       "1                               NaN                               NaN   \n",
       "2                               NaN                               NaN   \n",
       "3                               NaN                               NaN   \n",
       "4                               NaN                               NaN   \n",
       "\n",
       "   60+ Years (Doses Administered)  18-44 Years(Individuals Vaccinated)  \\\n",
       "0                             NaN                                  NaN   \n",
       "1                             NaN                                  NaN   \n",
       "2                             NaN                                  NaN   \n",
       "3                             NaN                                  NaN   \n",
       "4                             NaN                                  NaN   \n",
       "\n",
       "   45-60 Years(Individuals Vaccinated)  60+ Years(Individuals Vaccinated)  \\\n",
       "0                                  NaN                                NaN   \n",
       "1                                  NaN                                NaN   \n",
       "2                                  NaN                                NaN   \n",
       "3                                  NaN                                NaN   \n",
       "4                                  NaN                                NaN   \n",
       "\n",
       "   Male(Individuals Vaccinated)  Female(Individuals Vaccinated)  \\\n",
       "0                       23757.0                         24517.0   \n",
       "1                       27348.0                         31252.0   \n",
       "2                       41361.0                         58083.0   \n",
       "3                       81901.0                        113613.0   \n",
       "4                       98111.0                        153145.0   \n",
       "\n",
       "   Transgender(Individuals Vaccinated)  Total Individuals Vaccinated  \n",
       "0                                  2.0                       48276.0  \n",
       "1                                  4.0                       58604.0  \n",
       "2                                  5.0                       99449.0  \n",
       "3                                 11.0                      195525.0  \n",
       "4                                 24.0                      251280.0  "
      ]
     },
     "execution_count": 7,
     "metadata": {},
     "output_type": "execute_result"
    }
   ],
   "source": [
    "vaccine_df.head()"
   ]
  },
  {
   "cell_type": "code",
   "execution_count": 8,
   "metadata": {},
   "outputs": [
    {
     "data": {
      "text/plain": [
       "Index(['Sno', 'Date', 'Time', 'State/UnionTerritory',\n",
       "       'ConfirmedIndianNational', 'ConfirmedForeignNational', 'Cured',\n",
       "       'Deaths', 'Confirmed'],\n",
       "      dtype='object')"
      ]
     },
     "execution_count": 8,
     "metadata": {},
     "output_type": "execute_result"
    }
   ],
   "source": [
    "covid_df.columns"
   ]
  },
  {
   "cell_type": "code",
   "execution_count": 9,
   "metadata": {},
   "outputs": [],
   "source": [
    "# Dropping Unnecessary column\n",
    "covid_df.drop(labels=['Sno','Time','ConfirmedIndianNational','ConfirmedForeignNational'],inplace=True,axis=1)"
   ]
  },
  {
   "cell_type": "code",
   "execution_count": 10,
   "metadata": {},
   "outputs": [],
   "source": [
    "# Converting Date column to date type\n",
    "covid_df['Date']=pd.to_datetime(covid_df['Date'],format='%Y-%m-%d')"
   ]
  },
  {
   "cell_type": "code",
   "execution_count": 11,
   "metadata": {},
   "outputs": [
    {
     "data": {
      "text/html": [
       "<div>\n",
       "<style scoped>\n",
       "    .dataframe tbody tr th:only-of-type {\n",
       "        vertical-align: middle;\n",
       "    }\n",
       "\n",
       "    .dataframe tbody tr th {\n",
       "        vertical-align: top;\n",
       "    }\n",
       "\n",
       "    .dataframe thead th {\n",
       "        text-align: right;\n",
       "    }\n",
       "</style>\n",
       "<table border=\"1\" class=\"dataframe\">\n",
       "  <thead>\n",
       "    <tr style=\"text-align: right;\">\n",
       "      <th></th>\n",
       "      <th>Date</th>\n",
       "      <th>State/UnionTerritory</th>\n",
       "      <th>Cured</th>\n",
       "      <th>Deaths</th>\n",
       "      <th>Confirmed</th>\n",
       "    </tr>\n",
       "  </thead>\n",
       "  <tbody>\n",
       "    <tr>\n",
       "      <th>0</th>\n",
       "      <td>2020-01-30</td>\n",
       "      <td>Kerala</td>\n",
       "      <td>0</td>\n",
       "      <td>0</td>\n",
       "      <td>1</td>\n",
       "    </tr>\n",
       "    <tr>\n",
       "      <th>1</th>\n",
       "      <td>2020-01-31</td>\n",
       "      <td>Kerala</td>\n",
       "      <td>0</td>\n",
       "      <td>0</td>\n",
       "      <td>1</td>\n",
       "    </tr>\n",
       "    <tr>\n",
       "      <th>2</th>\n",
       "      <td>2020-02-01</td>\n",
       "      <td>Kerala</td>\n",
       "      <td>0</td>\n",
       "      <td>0</td>\n",
       "      <td>2</td>\n",
       "    </tr>\n",
       "    <tr>\n",
       "      <th>3</th>\n",
       "      <td>2020-02-02</td>\n",
       "      <td>Kerala</td>\n",
       "      <td>0</td>\n",
       "      <td>0</td>\n",
       "      <td>3</td>\n",
       "    </tr>\n",
       "    <tr>\n",
       "      <th>4</th>\n",
       "      <td>2020-02-03</td>\n",
       "      <td>Kerala</td>\n",
       "      <td>0</td>\n",
       "      <td>0</td>\n",
       "      <td>3</td>\n",
       "    </tr>\n",
       "  </tbody>\n",
       "</table>\n",
       "</div>"
      ],
      "text/plain": [
       "        Date State/UnionTerritory  Cured  Deaths  Confirmed\n",
       "0 2020-01-30               Kerala      0       0          1\n",
       "1 2020-01-31               Kerala      0       0          1\n",
       "2 2020-02-01               Kerala      0       0          2\n",
       "3 2020-02-02               Kerala      0       0          3\n",
       "4 2020-02-03               Kerala      0       0          3"
      ]
     },
     "execution_count": 11,
     "metadata": {},
     "output_type": "execute_result"
    }
   ],
   "source": [
    "covid_df.head()"
   ]
  },
  {
   "cell_type": "code",
   "execution_count": 12,
   "metadata": {},
   "outputs": [
    {
     "data": {
      "text/html": [
       "<div>\n",
       "<style scoped>\n",
       "    .dataframe tbody tr th:only-of-type {\n",
       "        vertical-align: middle;\n",
       "    }\n",
       "\n",
       "    .dataframe tbody tr th {\n",
       "        vertical-align: top;\n",
       "    }\n",
       "\n",
       "    .dataframe thead th {\n",
       "        text-align: right;\n",
       "    }\n",
       "</style>\n",
       "<table border=\"1\" class=\"dataframe\">\n",
       "  <thead>\n",
       "    <tr style=\"text-align: right;\">\n",
       "      <th></th>\n",
       "      <th>Date</th>\n",
       "      <th>State/UnionTerritory</th>\n",
       "      <th>Cured</th>\n",
       "      <th>Deaths</th>\n",
       "      <th>Confirmed</th>\n",
       "      <th>Active_cases</th>\n",
       "    </tr>\n",
       "  </thead>\n",
       "  <tbody>\n",
       "    <tr>\n",
       "      <th>18105</th>\n",
       "      <td>2021-08-11</td>\n",
       "      <td>Telangana</td>\n",
       "      <td>638410</td>\n",
       "      <td>3831</td>\n",
       "      <td>650353</td>\n",
       "      <td>8112</td>\n",
       "    </tr>\n",
       "    <tr>\n",
       "      <th>18106</th>\n",
       "      <td>2021-08-11</td>\n",
       "      <td>Tripura</td>\n",
       "      <td>77811</td>\n",
       "      <td>773</td>\n",
       "      <td>80660</td>\n",
       "      <td>2076</td>\n",
       "    </tr>\n",
       "    <tr>\n",
       "      <th>18107</th>\n",
       "      <td>2021-08-11</td>\n",
       "      <td>Uttarakhand</td>\n",
       "      <td>334650</td>\n",
       "      <td>7368</td>\n",
       "      <td>342462</td>\n",
       "      <td>444</td>\n",
       "    </tr>\n",
       "    <tr>\n",
       "      <th>18108</th>\n",
       "      <td>2021-08-11</td>\n",
       "      <td>Uttar Pradesh</td>\n",
       "      <td>1685492</td>\n",
       "      <td>22775</td>\n",
       "      <td>1708812</td>\n",
       "      <td>545</td>\n",
       "    </tr>\n",
       "    <tr>\n",
       "      <th>18109</th>\n",
       "      <td>2021-08-11</td>\n",
       "      <td>West Bengal</td>\n",
       "      <td>1506532</td>\n",
       "      <td>18252</td>\n",
       "      <td>1534999</td>\n",
       "      <td>10215</td>\n",
       "    </tr>\n",
       "  </tbody>\n",
       "</table>\n",
       "</div>"
      ],
      "text/plain": [
       "            Date State/UnionTerritory    Cured  Deaths  Confirmed  \\\n",
       "18105 2021-08-11            Telangana   638410    3831     650353   \n",
       "18106 2021-08-11              Tripura    77811     773      80660   \n",
       "18107 2021-08-11          Uttarakhand   334650    7368     342462   \n",
       "18108 2021-08-11        Uttar Pradesh  1685492   22775    1708812   \n",
       "18109 2021-08-11          West Bengal  1506532   18252    1534999   \n",
       "\n",
       "       Active_cases  \n",
       "18105          8112  \n",
       "18106          2076  \n",
       "18107           444  \n",
       "18108           545  \n",
       "18109         10215  "
      ]
     },
     "execution_count": 12,
     "metadata": {},
     "output_type": "execute_result"
    }
   ],
   "source": [
    "# Finding number of active cases\n",
    "covid_df['Active_cases']=covid_df['Confirmed']-(covid_df['Cured']+covid_df['Deaths'])\n",
    "covid_df.tail()"
   ]
  },
  {
   "cell_type": "code",
   "execution_count": 13,
   "metadata": {},
   "outputs": [],
   "source": [
    "# Creating pivot table\n",
    "statewise=pd.pivot_table(data=covid_df,values=['Confirmed','Cured','Deaths'],index='State/UnionTerritory')\n"
   ]
  },
  {
   "cell_type": "code",
   "execution_count": 14,
   "metadata": {},
   "outputs": [],
   "source": [
    "# Creating Recovery rate and Mortality rate column\n",
    "statewise['Recovery_rate']=statewise['Cured']*100/statewise['Confirmed']\n",
    "statewise['Mortality_rate']=statewise['Deaths']*100/statewise['Confirmed']"
   ]
  },
  {
   "cell_type": "code",
   "execution_count": 15,
   "metadata": {},
   "outputs": [],
   "source": [
    "statewise=statewise.sort_values(by='Confirmed',ascending=False)"
   ]
  },
  {
   "cell_type": "code",
   "execution_count": 16,
   "metadata": {},
   "outputs": [
    {
     "data": {
      "text/html": [
       "<style type=\"text/css\">\n",
       "#T_a7ee7_row0_col0, #T_a7ee7_row0_col1, #T_a7ee7_row0_col2, #T_a7ee7_row6_col3, #T_a7ee7_row22_col4 {\n",
       "  background-color: #ffffff;\n",
       "  color: #000000;\n",
       "}\n",
       "#T_a7ee7_row0_col3 {\n",
       "  background-color: #f6fcf8;\n",
       "  color: #000000;\n",
       "}\n",
       "#T_a7ee7_row0_col4 {\n",
       "  background-color: #c6b4ee;\n",
       "  color: #000000;\n",
       "}\n",
       "#T_a7ee7_row1_col0 {\n",
       "  background-color: #847a38;\n",
       "  color: #f1f1f1;\n",
       "}\n",
       "#T_a7ee7_row1_col1, #T_a7ee7_row17_col4 {\n",
       "  background-color: #8a7a3b;\n",
       "  color: #f1f1f1;\n",
       "}\n",
       "#T_a7ee7_row1_col2 {\n",
       "  background-color: #195d48;\n",
       "  color: #f1f1f1;\n",
       "}\n",
       "#T_a7ee7_row1_col3, #T_a7ee7_row20_col3 {\n",
       "  background-color: #fbfefc;\n",
       "  color: #000000;\n",
       "}\n",
       "#T_a7ee7_row1_col4, #T_a7ee7_row13_col4 {\n",
       "  background-color: #7b7a35;\n",
       "  color: #f1f1f1;\n",
       "}\n",
       "#T_a7ee7_row2_col0 {\n",
       "  background-color: #317236;\n",
       "  color: #f1f1f1;\n",
       "}\n",
       "#T_a7ee7_row2_col1, #T_a7ee7_row15_col4 {\n",
       "  background-color: #286d3b;\n",
       "  color: #f1f1f1;\n",
       "}\n",
       "#T_a7ee7_row2_col2 {\n",
       "  background-color: #337335;\n",
       "  color: #f1f1f1;\n",
       "}\n",
       "#T_a7ee7_row2_col3 {\n",
       "  background-color: #dbf3ef;\n",
       "  color: #000000;\n",
       "}\n",
       "#T_a7ee7_row2_col4 {\n",
       "  background-color: #c5b8ef;\n",
       "  color: #000000;\n",
       "}\n",
       "#T_a7ee7_row3_col0 {\n",
       "  background-color: #1a2744;\n",
       "  color: #f1f1f1;\n",
       "}\n",
       "#T_a7ee7_row3_col1 {\n",
       "  background-color: #1a2441;\n",
       "  color: #f1f1f1;\n",
       "}\n",
       "#T_a7ee7_row3_col2, #T_a7ee7_row4_col2, #T_a7ee7_row11_col0, #T_a7ee7_row11_col1 {\n",
       "  background-color: #191129;\n",
       "  color: #f1f1f1;\n",
       "}\n",
       "#T_a7ee7_row3_col3, #T_a7ee7_row26_col3 {\n",
       "  background-color: #dcf3ef;\n",
       "  color: #000000;\n",
       "}\n",
       "#T_a7ee7_row3_col4 {\n",
       "  background-color: #787b34;\n",
       "  color: #f1f1f1;\n",
       "}\n",
       "#T_a7ee7_row4_col0, #T_a7ee7_row5_col0, #T_a7ee7_row6_col1 {\n",
       "  background-color: #1b1f3d;\n",
       "  color: #f1f1f1;\n",
       "}\n",
       "#T_a7ee7_row4_col1, #T_a7ee7_row5_col1, #T_a7ee7_row6_col0 {\n",
       "  background-color: #1b1e3b;\n",
       "  color: #f1f1f1;\n",
       "}\n",
       "#T_a7ee7_row4_col3, #T_a7ee7_row9_col3, #T_a7ee7_row17_col3, #T_a7ee7_row24_col3 {\n",
       "  background-color: #e7f8f1;\n",
       "  color: #000000;\n",
       "}\n",
       "#T_a7ee7_row4_col4, #T_a7ee7_row31_col4 {\n",
       "  background-color: #997944;\n",
       "  color: #f1f1f1;\n",
       "}\n",
       "#T_a7ee7_row5_col2, #T_a7ee7_row10_col2, #T_a7ee7_row17_col2, #T_a7ee7_row20_col2, #T_a7ee7_row23_col0, #T_a7ee7_row23_col1 {\n",
       "  background-color: #0a030a;\n",
       "  color: #f1f1f1;\n",
       "}\n",
       "#T_a7ee7_row5_col3, #T_a7ee7_row22_col3, #T_a7ee7_row27_col3 {\n",
       "  background-color: #def4ef;\n",
       "  color: #000000;\n",
       "}\n",
       "#T_a7ee7_row5_col4 {\n",
       "  background-color: #1a2543;\n",
       "  color: #f1f1f1;\n",
       "}\n",
       "#T_a7ee7_row6_col2, #T_a7ee7_row12_col1 {\n",
       "  background-color: #180f25;\n",
       "  color: #f1f1f1;\n",
       "}\n",
       "#T_a7ee7_row6_col4, #T_a7ee7_row8_col4, #T_a7ee7_row9_col4 {\n",
       "  background-color: #8d7a3d;\n",
       "  color: #f1f1f1;\n",
       "}\n",
       "#T_a7ee7_row7_col0 {\n",
       "  background-color: #1b1c3a;\n",
       "  color: #f1f1f1;\n",
       "}\n",
       "#T_a7ee7_row7_col1, #T_a7ee7_row39_col4 {\n",
       "  background-color: #1b1b38;\n",
       "  color: #f1f1f1;\n",
       "}\n",
       "#T_a7ee7_row7_col2, #T_a7ee7_row16_col0, #T_a7ee7_row16_col1 {\n",
       "  background-color: #100713;\n",
       "  color: #f1f1f1;\n",
       "}\n",
       "#T_a7ee7_row7_col3, #T_a7ee7_row18_col3 {\n",
       "  background-color: #edfaf4;\n",
       "  color: #000000;\n",
       "}\n",
       "#T_a7ee7_row7_col4 {\n",
       "  background-color: #175a49;\n",
       "  color: #f1f1f1;\n",
       "}\n",
       "#T_a7ee7_row8_col0, #T_a7ee7_row8_col1 {\n",
       "  background-color: #1b1a36;\n",
       "  color: #f1f1f1;\n",
       "}\n",
       "#T_a7ee7_row8_col2, #T_a7ee7_row11_col2 {\n",
       "  background-color: #160d21;\n",
       "  color: #f1f1f1;\n",
       "}\n",
       "#T_a7ee7_row8_col3, #T_a7ee7_row36_col3 {\n",
       "  background-color: #fdfefe;\n",
       "  color: #000000;\n",
       "}\n",
       "#T_a7ee7_row9_col0, #T_a7ee7_row10_col0, #T_a7ee7_row10_col1 {\n",
       "  background-color: #19132d;\n",
       "  color: #f1f1f1;\n",
       "}\n",
       "#T_a7ee7_row9_col1 {\n",
       "  background-color: #19122b;\n",
       "  color: #f1f1f1;\n",
       "}\n",
       "#T_a7ee7_row9_col2 {\n",
       "  background-color: #140a1b;\n",
       "  color: #f1f1f1;\n",
       "}\n",
       "#T_a7ee7_row10_col3, #T_a7ee7_row41_col3 {\n",
       "  background-color: #effaf4;\n",
       "  color: #000000;\n",
       "}\n",
       "#T_a7ee7_row10_col4 {\n",
       "  background-color: #16404e;\n",
       "  color: #f1f1f1;\n",
       "}\n",
       "#T_a7ee7_row11_col3, #T_a7ee7_row42_col3 {\n",
       "  background-color: #f0fbf5;\n",
       "  color: #000000;\n",
       "}\n",
       "#T_a7ee7_row11_col4 {\n",
       "  background-color: #d382a3;\n",
       "  color: #f1f1f1;\n",
       "}\n",
       "#T_a7ee7_row12_col0 {\n",
       "  background-color: #181027;\n",
       "  color: #f1f1f1;\n",
       "}\n",
       "#T_a7ee7_row12_col2 {\n",
       "  background-color: #130919;\n",
       "  color: #f1f1f1;\n",
       "}\n",
       "#T_a7ee7_row12_col3, #T_a7ee7_row14_col3, #T_a7ee7_row19_col3 {\n",
       "  background-color: #ebf9f3;\n",
       "  color: #000000;\n",
       "}\n",
       "#T_a7ee7_row12_col4 {\n",
       "  background-color: #b17959;\n",
       "  color: #f1f1f1;\n",
       "}\n",
       "#T_a7ee7_row13_col0 {\n",
       "  background-color: #120817;\n",
       "  color: #f1f1f1;\n",
       "}\n",
       "#T_a7ee7_row13_col1, #T_a7ee7_row14_col0, #T_a7ee7_row14_col1, #T_a7ee7_row15_col0, #T_a7ee7_row15_col1 {\n",
       "  background-color: #110815;\n",
       "  color: #f1f1f1;\n",
       "}\n",
       "#T_a7ee7_row13_col2, #T_a7ee7_row21_col1, #T_a7ee7_row22_col0, #T_a7ee7_row22_col1 {\n",
       "  background-color: #0b040c;\n",
       "  color: #f1f1f1;\n",
       "}\n",
       "#T_a7ee7_row13_col3, #T_a7ee7_row15_col3, #T_a7ee7_row21_col3, #T_a7ee7_row37_col3 {\n",
       "  background-color: #e3f6f0;\n",
       "  color: #000000;\n",
       "}\n",
       "#T_a7ee7_row14_col2, #T_a7ee7_row25_col2, #T_a7ee7_row26_col2, #T_a7ee7_row36_col4 {\n",
       "  background-color: #050205;\n",
       "  color: #f1f1f1;\n",
       "}\n",
       "#T_a7ee7_row14_col4 {\n",
       "  background-color: #18324b;\n",
       "  color: #f1f1f1;\n",
       "}\n",
       "#T_a7ee7_row15_col2, #T_a7ee7_row19_col2, #T_a7ee7_row24_col0 {\n",
       "  background-color: #080308;\n",
       "  color: #f1f1f1;\n",
       "}\n",
       "#T_a7ee7_row16_col2, #T_a7ee7_row20_col0, #T_a7ee7_row20_col1, #T_a7ee7_row21_col0 {\n",
       "  background-color: #0c050e;\n",
       "  color: #f1f1f1;\n",
       "}\n",
       "#T_a7ee7_row16_col3, #T_a7ee7_row23_col3, #T_a7ee7_row28_col3, #T_a7ee7_row29_col3, #T_a7ee7_row30_col3 {\n",
       "  background-color: #e2f6f0;\n",
       "  color: #000000;\n",
       "}\n",
       "#T_a7ee7_row16_col4, #T_a7ee7_row29_col4 {\n",
       "  background-color: #c17a70;\n",
       "  color: #f1f1f1;\n",
       "}\n",
       "#T_a7ee7_row17_col0, #T_a7ee7_row17_col1, #T_a7ee7_row18_col0, #T_a7ee7_row18_col1, #T_a7ee7_row19_col0, #T_a7ee7_row19_col1, #T_a7ee7_row22_col2 {\n",
       "  background-color: #0f0611;\n",
       "  color: #f1f1f1;\n",
       "}\n",
       "#T_a7ee7_row18_col2, #T_a7ee7_row24_col1, #T_a7ee7_row25_col0, #T_a7ee7_row25_col1, #T_a7ee7_row26_col0, #T_a7ee7_row26_col1, #T_a7ee7_row41_col4 {\n",
       "  background-color: #070206;\n",
       "  color: #f1f1f1;\n",
       "}\n",
       "#T_a7ee7_row18_col4 {\n",
       "  background-color: #1d6443;\n",
       "  color: #f1f1f1;\n",
       "}\n",
       "#T_a7ee7_row19_col4 {\n",
       "  background-color: #54792f;\n",
       "  color: #f1f1f1;\n",
       "}\n",
       "#T_a7ee7_row20_col4 {\n",
       "  background-color: #d381a0;\n",
       "  color: #f1f1f1;\n",
       "}\n",
       "#T_a7ee7_row21_col2, #T_a7ee7_row24_col2, #T_a7ee7_row27_col0, #T_a7ee7_row27_col1, #T_a7ee7_row28_col0, #T_a7ee7_row28_col1 {\n",
       "  background-color: #030103;\n",
       "  color: #f1f1f1;\n",
       "}\n",
       "#T_a7ee7_row21_col4 {\n",
       "  background-color: #15494e;\n",
       "  color: #f1f1f1;\n",
       "}\n",
       "#T_a7ee7_row23_col2, #T_a7ee7_row27_col2, #T_a7ee7_row28_col2, #T_a7ee7_row29_col0, #T_a7ee7_row29_col1, #T_a7ee7_row29_col2, #T_a7ee7_row30_col0, #T_a7ee7_row30_col1, #T_a7ee7_row31_col0 {\n",
       "  background-color: #020102;\n",
       "  color: #f1f1f1;\n",
       "}\n",
       "#T_a7ee7_row23_col4 {\n",
       "  background-color: #163f4e;\n",
       "  color: #f1f1f1;\n",
       "}\n",
       "#T_a7ee7_row24_col4 {\n",
       "  background-color: #6c7b31;\n",
       "  color: #f1f1f1;\n",
       "}\n",
       "#T_a7ee7_row25_col3, #T_a7ee7_row34_col3 {\n",
       "  background-color: #e0f5f0;\n",
       "  color: #000000;\n",
       "}\n",
       "#T_a7ee7_row25_col4 {\n",
       "  background-color: #ac7954;\n",
       "  color: #f1f1f1;\n",
       "}\n",
       "#T_a7ee7_row26_col4 {\n",
       "  background-color: #d490c6;\n",
       "  color: #f1f1f1;\n",
       "}\n",
       "#T_a7ee7_row27_col4 {\n",
       "  background-color: #cd7d89;\n",
       "  color: #f1f1f1;\n",
       "}\n",
       "#T_a7ee7_row28_col4 {\n",
       "  background-color: #c67a79;\n",
       "  color: #f1f1f1;\n",
       "}\n",
       "#T_a7ee7_row30_col2, #T_a7ee7_row31_col1, #T_a7ee7_row31_col2, #T_a7ee7_row32_col0, #T_a7ee7_row32_col1, #T_a7ee7_row32_col2, #T_a7ee7_row33_col0, #T_a7ee7_row33_col1, #T_a7ee7_row33_col2, #T_a7ee7_row34_col0, #T_a7ee7_row34_col1, #T_a7ee7_row34_col2, #T_a7ee7_row35_col0, #T_a7ee7_row35_col1, #T_a7ee7_row35_col2, #T_a7ee7_row36_col0, #T_a7ee7_row36_col1, #T_a7ee7_row36_col2, #T_a7ee7_row37_col0, #T_a7ee7_row37_col1, #T_a7ee7_row37_col2, #T_a7ee7_row38_col0, #T_a7ee7_row38_col1, #T_a7ee7_row38_col2, #T_a7ee7_row39_col0, #T_a7ee7_row39_col1, #T_a7ee7_row39_col2, #T_a7ee7_row40_col0, #T_a7ee7_row40_col1, #T_a7ee7_row40_col2, #T_a7ee7_row40_col3, #T_a7ee7_row40_col4, #T_a7ee7_row41_col0, #T_a7ee7_row41_col1, #T_a7ee7_row41_col2, #T_a7ee7_row42_col0, #T_a7ee7_row42_col1, #T_a7ee7_row42_col2, #T_a7ee7_row43_col0, #T_a7ee7_row43_col1, #T_a7ee7_row43_col2, #T_a7ee7_row44_col0, #T_a7ee7_row44_col1, #T_a7ee7_row44_col2, #T_a7ee7_row44_col3, #T_a7ee7_row44_col4, #T_a7ee7_row45_col0, #T_a7ee7_row45_col1, #T_a7ee7_row45_col2, #T_a7ee7_row45_col3, #T_a7ee7_row45_col4 {\n",
       "  background-color: #000000;\n",
       "  color: #f1f1f1;\n",
       "}\n",
       "#T_a7ee7_row30_col4 {\n",
       "  background-color: #497830;\n",
       "  color: #f1f1f1;\n",
       "}\n",
       "#T_a7ee7_row31_col3 {\n",
       "  background-color: #d4efef;\n",
       "  color: #000000;\n",
       "}\n",
       "#T_a7ee7_row32_col3 {\n",
       "  background-color: #e5f7f1;\n",
       "  color: #000000;\n",
       "}\n",
       "#T_a7ee7_row32_col4 {\n",
       "  background-color: #967a42;\n",
       "  color: #f1f1f1;\n",
       "}\n",
       "#T_a7ee7_row33_col3 {\n",
       "  background-color: #d3eeef;\n",
       "  color: #000000;\n",
       "}\n",
       "#T_a7ee7_row33_col4 {\n",
       "  background-color: #9f7948;\n",
       "  color: #f1f1f1;\n",
       "}\n",
       "#T_a7ee7_row34_col4 {\n",
       "  background-color: #1a213e;\n",
       "  color: #f1f1f1;\n",
       "}\n",
       "#T_a7ee7_row35_col3, #T_a7ee7_row43_col3 {\n",
       "  background-color: #d6f0ef;\n",
       "  color: #000000;\n",
       "}\n",
       "#T_a7ee7_row35_col4 {\n",
       "  background-color: #607a2f;\n",
       "  color: #f1f1f1;\n",
       "}\n",
       "#T_a7ee7_row37_col4 {\n",
       "  background-color: #577a2f;\n",
       "  color: #f1f1f1;\n",
       "}\n",
       "#T_a7ee7_row38_col3 {\n",
       "  background-color: #cae7f0;\n",
       "  color: #000000;\n",
       "}\n",
       "#T_a7ee7_row38_col4 {\n",
       "  background-color: #d07e93;\n",
       "  color: #f1f1f1;\n",
       "}\n",
       "#T_a7ee7_row39_col3 {\n",
       "  background-color: #c1cff3;\n",
       "  color: #000000;\n",
       "}\n",
       "#T_a7ee7_row42_col4 {\n",
       "  background-color: #a1794a;\n",
       "  color: #f1f1f1;\n",
       "}\n",
       "#T_a7ee7_row43_col4 {\n",
       "  background-color: #192845;\n",
       "  color: #f1f1f1;\n",
       "}\n",
       "</style>\n",
       "<table id=\"T_a7ee7_\">\n",
       "  <thead>\n",
       "    <tr>\n",
       "      <th class=\"blank level0\" >&nbsp;</th>\n",
       "      <th class=\"col_heading level0 col0\" >Confirmed</th>\n",
       "      <th class=\"col_heading level0 col1\" >Cured</th>\n",
       "      <th class=\"col_heading level0 col2\" >Deaths</th>\n",
       "      <th class=\"col_heading level0 col3\" >Recovery_rate</th>\n",
       "      <th class=\"col_heading level0 col4\" >Mortality_rate</th>\n",
       "    </tr>\n",
       "    <tr>\n",
       "      <th class=\"index_name level0\" >State/UnionTerritory</th>\n",
       "      <th class=\"blank col0\" >&nbsp;</th>\n",
       "      <th class=\"blank col1\" >&nbsp;</th>\n",
       "      <th class=\"blank col2\" >&nbsp;</th>\n",
       "      <th class=\"blank col3\" >&nbsp;</th>\n",
       "      <th class=\"blank col4\" >&nbsp;</th>\n",
       "    </tr>\n",
       "  </thead>\n",
       "  <tbody>\n",
       "    <tr>\n",
       "      <th id=\"T_a7ee7_level0_row0\" class=\"row_heading level0 row0\" >Maharashtra***</th>\n",
       "      <td id=\"T_a7ee7_row0_col0\" class=\"data row0 col0\" >6229596.000000</td>\n",
       "      <td id=\"T_a7ee7_row0_col1\" class=\"data row0 col1\" >6000911.000000</td>\n",
       "      <td id=\"T_a7ee7_row0_col2\" class=\"data row0 col2\" >130753.000000</td>\n",
       "      <td id=\"T_a7ee7_row0_col3\" class=\"data row0 col3\" >96.329056</td>\n",
       "      <td id=\"T_a7ee7_row0_col4\" class=\"data row0 col4\" >2.098900</td>\n",
       "    </tr>\n",
       "    <tr>\n",
       "      <th id=\"T_a7ee7_level0_row1\" class=\"row_heading level0 row1\" >Karanataka</th>\n",
       "      <td id=\"T_a7ee7_row1_col0\" class=\"data row1 col0\" >2885238.000000</td>\n",
       "      <td id=\"T_a7ee7_row1_col1\" class=\"data row1 col1\" >2821491.000000</td>\n",
       "      <td id=\"T_a7ee7_row1_col2\" class=\"data row1 col2\" >36197.000000</td>\n",
       "      <td id=\"T_a7ee7_row1_col3\" class=\"data row1 col3\" >97.790581</td>\n",
       "      <td id=\"T_a7ee7_row1_col4\" class=\"data row1 col4\" >1.254559</td>\n",
       "    </tr>\n",
       "    <tr>\n",
       "      <th id=\"T_a7ee7_level0_row2\" class=\"row_heading level0 row2\" >Maharashtra</th>\n",
       "      <td id=\"T_a7ee7_row2_col0\" class=\"data row2 col0\" >2156714.359615</td>\n",
       "      <td id=\"T_a7ee7_row2_col1\" class=\"data row2 col1\" >1959163.536538</td>\n",
       "      <td id=\"T_a7ee7_row2_col2\" class=\"data row2 col2\" >45648.907692</td>\n",
       "      <td id=\"T_a7ee7_row2_col3\" class=\"data row2 col3\" >90.840195</td>\n",
       "      <td id=\"T_a7ee7_row2_col4\" class=\"data row2 col4\" >2.116595</td>\n",
       "    </tr>\n",
       "    <tr>\n",
       "      <th id=\"T_a7ee7_level0_row3\" class=\"row_heading level0 row3\" >Karnataka</th>\n",
       "      <td id=\"T_a7ee7_row3_col0\" class=\"data row3 col0\" >934559.025000</td>\n",
       "      <td id=\"T_a7ee7_row3_col1\" class=\"data row3 col1\" >849700.692308</td>\n",
       "      <td id=\"T_a7ee7_row3_col2\" class=\"data row3 col2\" >11641.850000</td>\n",
       "      <td id=\"T_a7ee7_row3_col3\" class=\"data row3 col3\" >90.919960</td>\n",
       "      <td id=\"T_a7ee7_row3_col4\" class=\"data row3 col4\" >1.245705</td>\n",
       "    </tr>\n",
       "    <tr>\n",
       "      <th id=\"T_a7ee7_level0_row4\" class=\"row_heading level0 row4\" >Tamil Nadu</th>\n",
       "      <td id=\"T_a7ee7_row4_col0\" class=\"data row4 col0\" >825867.388145</td>\n",
       "      <td id=\"T_a7ee7_row4_col1\" class=\"data row4 col1\" >772649.726577</td>\n",
       "      <td id=\"T_a7ee7_row4_col2\" class=\"data row4 col2\" >11312.921606</td>\n",
       "      <td id=\"T_a7ee7_row4_col3\" class=\"data row4 col3\" >93.556149</td>\n",
       "      <td id=\"T_a7ee7_row4_col4\" class=\"data row4 col4\" >1.369823</td>\n",
       "    </tr>\n",
       "    <tr>\n",
       "      <th id=\"T_a7ee7_level0_row5\" class=\"row_heading level0 row5\" >Kerala</th>\n",
       "      <td id=\"T_a7ee7_row5_col0\" class=\"data row5 col0\" >819475.041071</td>\n",
       "      <td id=\"T_a7ee7_row5_col1\" class=\"data row5 col1\" >750311.133929</td>\n",
       "      <td id=\"T_a7ee7_row5_col2\" class=\"data row5 col2\" >3371.744643</td>\n",
       "      <td id=\"T_a7ee7_row5_col3\" class=\"data row5 col3\" >91.559974</td>\n",
       "      <td id=\"T_a7ee7_row5_col4\" class=\"data row5 col4\" >0.411452</td>\n",
       "    </tr>\n",
       "    <tr>\n",
       "      <th id=\"T_a7ee7_level0_row6\" class=\"row_heading level0 row6\" >Madhya Pradesh***</th>\n",
       "      <td id=\"T_a7ee7_row6_col0\" class=\"data row6 col0\" >791656.000000</td>\n",
       "      <td id=\"T_a7ee7_row6_col1\" class=\"data row6 col1\" >780735.000000</td>\n",
       "      <td id=\"T_a7ee7_row6_col2\" class=\"data row6 col2\" >10506.000000</td>\n",
       "      <td id=\"T_a7ee7_row6_col3\" class=\"data row6 col3\" >98.620487</td>\n",
       "      <td id=\"T_a7ee7_row6_col4\" class=\"data row6 col4\" >1.327092</td>\n",
       "    </tr>\n",
       "    <tr>\n",
       "      <th id=\"T_a7ee7_level0_row7\" class=\"row_heading level0 row7\" >Andhra Pradesh</th>\n",
       "      <td id=\"T_a7ee7_row7_col0\" class=\"data row7 col0\" >757592.187259</td>\n",
       "      <td id=\"T_a7ee7_row7_col1\" class=\"data row7 col1\" >715109.131274</td>\n",
       "      <td id=\"T_a7ee7_row7_col2\" class=\"data row7 col2\" >5674.453668</td>\n",
       "      <td id=\"T_a7ee7_row7_col3\" class=\"data row7 col3\" >94.392358</td>\n",
       "      <td id=\"T_a7ee7_row7_col4\" class=\"data row7 col4\" >0.749012</td>\n",
       "    </tr>\n",
       "    <tr>\n",
       "      <th id=\"T_a7ee7_level0_row8\" class=\"row_heading level0 row8\" >Bihar****</th>\n",
       "      <td id=\"T_a7ee7_row8_col0\" class=\"data row8 col0\" >715454.500000</td>\n",
       "      <td id=\"T_a7ee7_row8_col1\" class=\"data row8 col1\" >701234.000000</td>\n",
       "      <td id=\"T_a7ee7_row8_col2\" class=\"data row8 col2\" >9440.500000</td>\n",
       "      <td id=\"T_a7ee7_row8_col3\" class=\"data row8 col3\" >98.012382</td>\n",
       "      <td id=\"T_a7ee7_row8_col4\" class=\"data row8 col4\" >1.319511</td>\n",
       "    </tr>\n",
       "    <tr>\n",
       "      <th id=\"T_a7ee7_level0_row9\" class=\"row_heading level0 row9\" >Uttar Pradesh</th>\n",
       "      <td id=\"T_a7ee7_row9_col0\" class=\"data row9 col0\" >594345.709125</td>\n",
       "      <td id=\"T_a7ee7_row9_col1\" class=\"data row9 col1\" >554143.252852</td>\n",
       "      <td id=\"T_a7ee7_row9_col2\" class=\"data row9 col2\" >7877.281369</td>\n",
       "      <td id=\"T_a7ee7_row9_col3\" class=\"data row9 col3\" >93.235846</td>\n",
       "      <td id=\"T_a7ee7_row9_col4\" class=\"data row9 col4\" >1.325370</td>\n",
       "    </tr>\n",
       "    <tr>\n",
       "      <th id=\"T_a7ee7_level0_row10\" class=\"row_heading level0 row10\" >Telangana</th>\n",
       "      <td id=\"T_a7ee7_row10_col0\" class=\"data row10 col0\" >593842.931373</td>\n",
       "      <td id=\"T_a7ee7_row10_col1\" class=\"data row10 col1\" >563610.245098</td>\n",
       "      <td id=\"T_a7ee7_row10_col2\" class=\"data row10 col2\" >3427.921569</td>\n",
       "      <td id=\"T_a7ee7_row10_col3\" class=\"data row10 col3\" >94.908976</td>\n",
       "      <td id=\"T_a7ee7_row10_col4\" class=\"data row10 col4\" >0.577244</td>\n",
       "    </tr>\n",
       "    <tr>\n",
       "      <th id=\"T_a7ee7_level0_row11\" class=\"row_heading level0 row11\" >Delhi</th>\n",
       "      <td id=\"T_a7ee7_row11_col0\" class=\"data row11 col0\" >543991.979167</td>\n",
       "      <td id=\"T_a7ee7_row11_col1\" class=\"data row11 col1\" >517840.695076</td>\n",
       "      <td id=\"T_a7ee7_row11_col2\" class=\"data row11 col2\" >9362.299242</td>\n",
       "      <td id=\"T_a7ee7_row11_col3\" class=\"data row11 col3\" >95.192708</td>\n",
       "      <td id=\"T_a7ee7_row11_col4\" class=\"data row11 col4\" >1.721036</td>\n",
       "    </tr>\n",
       "    <tr>\n",
       "      <th id=\"T_a7ee7_level0_row12\" class=\"row_heading level0 row12\" >West Bengal</th>\n",
       "      <td id=\"T_a7ee7_row12_col0\" class=\"data row12 col0\" >513882.570312</td>\n",
       "      <td id=\"T_a7ee7_row12_col1\" class=\"data row12 col1\" >483427.933594</td>\n",
       "      <td id=\"T_a7ee7_row12_col2\" class=\"data row12 col2\" >7513.650391</td>\n",
       "      <td id=\"T_a7ee7_row12_col3\" class=\"data row12 col3\" >94.073619</td>\n",
       "      <td id=\"T_a7ee7_row12_col4\" class=\"data row12 col4\" >1.462134</td>\n",
       "    </tr>\n",
       "    <tr>\n",
       "      <th id=\"T_a7ee7_level0_row13\" class=\"row_heading level0 row13\" >Chhattisgarh</th>\n",
       "      <td id=\"T_a7ee7_row13_col0\" class=\"data row13 col0\" >320501.491194</td>\n",
       "      <td id=\"T_a7ee7_row13_col1\" class=\"data row13 col1\" >296691.514677</td>\n",
       "      <td id=\"T_a7ee7_row13_col2\" class=\"data row13 col2\" >4038.982387</td>\n",
       "      <td id=\"T_a7ee7_row13_col3\" class=\"data row13 col3\" >92.571025</td>\n",
       "      <td id=\"T_a7ee7_row13_col4\" class=\"data row13 col4\" >1.260207</td>\n",
       "    </tr>\n",
       "    <tr>\n",
       "      <th id=\"T_a7ee7_level0_row14\" class=\"row_heading level0 row14\" >Odisha</th>\n",
       "      <td id=\"T_a7ee7_row14_col0\" class=\"data row14 col0\" >311538.001946</td>\n",
       "      <td id=\"T_a7ee7_row14_col1\" class=\"data row14 col1\" >293625.398833</td>\n",
       "      <td id=\"T_a7ee7_row14_col2\" class=\"data row14 col2\" >1538.548638</td>\n",
       "      <td id=\"T_a7ee7_row14_col3\" class=\"data row14 col3\" >94.250267</td>\n",
       "      <td id=\"T_a7ee7_row14_col4\" class=\"data row14 col4\" >0.493856</td>\n",
       "    </tr>\n",
       "    <tr>\n",
       "      <th id=\"T_a7ee7_level0_row15\" class=\"row_heading level0 row15\" >Rajasthan</th>\n",
       "      <td id=\"T_a7ee7_row15_col0\" class=\"data row15 col0\" >308101.814042</td>\n",
       "      <td id=\"T_a7ee7_row15_col1\" class=\"data row15 col1\" >285307.058824</td>\n",
       "      <td id=\"T_a7ee7_row15_col2\" class=\"data row15 col2\" >2795.235294</td>\n",
       "      <td id=\"T_a7ee7_row15_col3\" class=\"data row15 col3\" >92.601551</td>\n",
       "      <td id=\"T_a7ee7_row15_col4\" class=\"data row15 col4\" >0.907244</td>\n",
       "    </tr>\n",
       "    <tr>\n",
       "      <th id=\"T_a7ee7_level0_row16\" class=\"row_heading level0 row16\" >Gujarat</th>\n",
       "      <td id=\"T_a7ee7_row16_col0\" class=\"data row16 col0\" >281215.847059</td>\n",
       "      <td id=\"T_a7ee7_row16_col1\" class=\"data row16 col1\" >259778.680392</td>\n",
       "      <td id=\"T_a7ee7_row16_col2\" class=\"data row16 col2\" >4351.858824</td>\n",
       "      <td id=\"T_a7ee7_row16_col3\" class=\"data row16 col3\" >92.376971</td>\n",
       "      <td id=\"T_a7ee7_row16_col4\" class=\"data row16 col4\" >1.547516</td>\n",
       "    </tr>\n",
       "    <tr>\n",
       "      <th id=\"T_a7ee7_level0_row17\" class=\"row_heading level0 row17\" >Madhya Pradesh</th>\n",
       "      <td id=\"T_a7ee7_row17_col0\" class=\"data row17 col0\" >266978.868110</td>\n",
       "      <td id=\"T_a7ee7_row17_col1\" class=\"data row17 col1\" >249458.655512</td>\n",
       "      <td id=\"T_a7ee7_row17_col2\" class=\"data row17 col2\" >3499.511811</td>\n",
       "      <td id=\"T_a7ee7_row17_col3\" class=\"data row17 col3\" >93.437603</td>\n",
       "      <td id=\"T_a7ee7_row17_col4\" class=\"data row17 col4\" >1.310782</td>\n",
       "    </tr>\n",
       "    <tr>\n",
       "      <th id=\"T_a7ee7_level0_row18\" class=\"row_heading level0 row18\" >Bihar</th>\n",
       "      <td id=\"T_a7ee7_row18_col0\" class=\"data row18 col0\" >261326.415020</td>\n",
       "      <td id=\"T_a7ee7_row18_col1\" class=\"data row18 col1\" >247278.462451</td>\n",
       "      <td id=\"T_a7ee7_row18_col2\" class=\"data row18 col2\" >2161.000000</td>\n",
       "      <td id=\"T_a7ee7_row18_col3\" class=\"data row18 col3\" >94.624366</td>\n",
       "      <td id=\"T_a7ee7_row18_col4\" class=\"data row18 col4\" >0.826935</td>\n",
       "    </tr>\n",
       "    <tr>\n",
       "      <th id=\"T_a7ee7_level0_row19\" class=\"row_heading level0 row19\" >Haryana</th>\n",
       "      <td id=\"T_a7ee7_row19_col0\" class=\"data row19 col0\" >255413.089354</td>\n",
       "      <td id=\"T_a7ee7_row19_col1\" class=\"data row19 col1\" >240656.543726</td>\n",
       "      <td id=\"T_a7ee7_row19_col2\" class=\"data row19 col2\" >2857.032319</td>\n",
       "      <td id=\"T_a7ee7_row19_col3\" class=\"data row19 col3\" >94.222479</td>\n",
       "      <td id=\"T_a7ee7_row19_col4\" class=\"data row19 col4\" >1.118593</td>\n",
       "    </tr>\n",
       "    <tr>\n",
       "      <th id=\"T_a7ee7_level0_row20\" class=\"row_heading level0 row20\" >Himanchal Pradesh</th>\n",
       "      <td id=\"T_a7ee7_row20_col0\" class=\"data row20 col0\" >204516.000000</td>\n",
       "      <td id=\"T_a7ee7_row20_col1\" class=\"data row20 col1\" >200040.000000</td>\n",
       "      <td id=\"T_a7ee7_row20_col2\" class=\"data row20 col2\" >3507.000000</td>\n",
       "      <td id=\"T_a7ee7_row20_col3\" class=\"data row20 col3\" >97.811418</td>\n",
       "      <td id=\"T_a7ee7_row20_col4\" class=\"data row20 col4\" >1.714780</td>\n",
       "    </tr>\n",
       "    <tr>\n",
       "      <th id=\"T_a7ee7_level0_row21\" class=\"row_heading level0 row21\" >Assam</th>\n",
       "      <td id=\"T_a7ee7_row21_col0\" class=\"data row21 col0\" >200475.925703</td>\n",
       "      <td id=\"T_a7ee7_row21_col1\" class=\"data row21 col1\" >186101.767068</td>\n",
       "      <td id=\"T_a7ee7_row21_col2\" class=\"data row21 col2\" >1281.773092</td>\n",
       "      <td id=\"T_a7ee7_row21_col3\" class=\"data row21 col3\" >92.829983</td>\n",
       "      <td id=\"T_a7ee7_row21_col4\" class=\"data row21 col4\" >0.639365</td>\n",
       "    </tr>\n",
       "    <tr>\n",
       "      <th id=\"T_a7ee7_level0_row22\" class=\"row_heading level0 row22\" >Punjab</th>\n",
       "      <td id=\"T_a7ee7_row22_col0\" class=\"data row22 col0\" >191842.038388</td>\n",
       "      <td id=\"T_a7ee7_row22_col1\" class=\"data row22 col1\" >175543.491363</td>\n",
       "      <td id=\"T_a7ee7_row22_col2\" class=\"data row22 col2\" >5346.629559</td>\n",
       "      <td id=\"T_a7ee7_row22_col3\" class=\"data row22 col3\" >91.504184</td>\n",
       "      <td id=\"T_a7ee7_row22_col4\" class=\"data row22 col4\" >2.786996</td>\n",
       "    </tr>\n",
       "    <tr>\n",
       "      <th id=\"T_a7ee7_level0_row23\" class=\"row_heading level0 row23\" >Telengana</th>\n",
       "      <td id=\"T_a7ee7_row23_col0\" class=\"data row23 col0\" >164297.342723</td>\n",
       "      <td id=\"T_a7ee7_row23_col1\" class=\"data row23 col1\" >151798.748826</td>\n",
       "      <td id=\"T_a7ee7_row23_col2\" class=\"data row23 col2\" >939.969484</td>\n",
       "      <td id=\"T_a7ee7_row23_col3\" class=\"data row23 col3\" >92.392699</td>\n",
       "      <td id=\"T_a7ee7_row23_col4\" class=\"data row23 col4\" >0.572115</td>\n",
       "    </tr>\n",
       "    <tr>\n",
       "      <th id=\"T_a7ee7_level0_row24\" class=\"row_heading level0 row24\" >Jharkhand</th>\n",
       "      <td id=\"T_a7ee7_row24_col0\" class=\"data row24 col0\" >124722.879518</td>\n",
       "      <td id=\"T_a7ee7_row24_col1\" class=\"data row24 col1\" >116535.152610</td>\n",
       "      <td id=\"T_a7ee7_row24_col2\" class=\"data row24 col2\" >1503.295181</td>\n",
       "      <td id=\"T_a7ee7_row24_col3\" class=\"data row24 col3\" >93.435265</td>\n",
       "      <td id=\"T_a7ee7_row24_col4\" class=\"data row24 col4\" >1.205308</td>\n",
       "    </tr>\n",
       "    <tr>\n",
       "      <th id=\"T_a7ee7_level0_row25\" class=\"row_heading level0 row25\" >Jammu and Kashmir</th>\n",
       "      <td id=\"T_a7ee7_row25_col0\" class=\"data row25 col0\" >111550.337812</td>\n",
       "      <td id=\"T_a7ee7_row25_col1\" class=\"data row25 col1\" >102298.159309</td>\n",
       "      <td id=\"T_a7ee7_row25_col2\" class=\"data row25 col2\" >1611.696737</td>\n",
       "      <td id=\"T_a7ee7_row25_col3\" class=\"data row25 col3\" >91.705827</td>\n",
       "      <td id=\"T_a7ee7_row25_col4\" class=\"data row25 col4\" >1.444816</td>\n",
       "    </tr>\n",
       "    <tr>\n",
       "      <th id=\"T_a7ee7_level0_row26\" class=\"row_heading level0 row26\" >Uttarakhand</th>\n",
       "      <td id=\"T_a7ee7_row26_col0\" class=\"data row26 col0\" >103185.269903</td>\n",
       "      <td id=\"T_a7ee7_row26_col1\" class=\"data row26 col1\" >93908.234951</td>\n",
       "      <td id=\"T_a7ee7_row26_col2\" class=\"data row26 col2\" >1914.565049</td>\n",
       "      <td id=\"T_a7ee7_row26_col3\" class=\"data row26 col3\" >91.009342</td>\n",
       "      <td id=\"T_a7ee7_row26_col4\" class=\"data row26 col4\" >1.855464</td>\n",
       "    </tr>\n",
       "    <tr>\n",
       "      <th id=\"T_a7ee7_level0_row27\" class=\"row_heading level0 row27\" >Himachal Pradesh</th>\n",
       "      <td id=\"T_a7ee7_row27_col0\" class=\"data row27 col0\" >59120.647638</td>\n",
       "      <td id=\"T_a7ee7_row27_col1\" class=\"data row27 col1\" >54136.043307</td>\n",
       "      <td id=\"T_a7ee7_row27_col2\" class=\"data row27 col2\" >967.220472</td>\n",
       "      <td id=\"T_a7ee7_row27_col3\" class=\"data row27 col3\" >91.568759</td>\n",
       "      <td id=\"T_a7ee7_row27_col4\" class=\"data row27 col4\" >1.636011</td>\n",
       "    </tr>\n",
       "    <tr>\n",
       "      <th id=\"T_a7ee7_level0_row28\" class=\"row_heading level0 row28\" >Goa</th>\n",
       "      <td id=\"T_a7ee7_row28_col0\" class=\"data row28 col0\" >56032.061508</td>\n",
       "      <td id=\"T_a7ee7_row28_col1\" class=\"data row28 col1\" >51641.271825</td>\n",
       "      <td id=\"T_a7ee7_row28_col2\" class=\"data row28 col2\" >888.494048</td>\n",
       "      <td id=\"T_a7ee7_row28_col3\" class=\"data row28 col3\" >92.163791</td>\n",
       "      <td id=\"T_a7ee7_row28_col4\" class=\"data row28 col4\" >1.585689</td>\n",
       "    </tr>\n",
       "    <tr>\n",
       "      <th id=\"T_a7ee7_level0_row29\" class=\"row_heading level0 row29\" >Puducherry</th>\n",
       "      <td id=\"T_a7ee7_row29_col0\" class=\"data row29 col0\" >39191.193359</td>\n",
       "      <td id=\"T_a7ee7_row29_col1\" class=\"data row29 col1\" >36099.837891</td>\n",
       "      <td id=\"T_a7ee7_row29_col2\" class=\"data row29 col2\" >609.677734</td>\n",
       "      <td id=\"T_a7ee7_row29_col3\" class=\"data row29 col3\" >92.112117</td>\n",
       "      <td id=\"T_a7ee7_row29_col4\" class=\"data row29 col4\" >1.555650</td>\n",
       "    </tr>\n",
       "    <tr>\n",
       "      <th id=\"T_a7ee7_level0_row30\" class=\"row_heading level0 row30\" >Tripura</th>\n",
       "      <td id=\"T_a7ee7_row30_col0\" class=\"data row30 col0\" >28557.418699</td>\n",
       "      <td id=\"T_a7ee7_row30_col1\" class=\"data row30 col1\" >26375.703252</td>\n",
       "      <td id=\"T_a7ee7_row30_col2\" class=\"data row30 col2\" >305.573171</td>\n",
       "      <td id=\"T_a7ee7_row30_col3\" class=\"data row30 col3\" >92.360250</td>\n",
       "      <td id=\"T_a7ee7_row30_col4\" class=\"data row30 col4\" >1.070031</td>\n",
       "    </tr>\n",
       "    <tr>\n",
       "      <th id=\"T_a7ee7_level0_row31\" class=\"row_heading level0 row31\" >Manipur</th>\n",
       "      <td id=\"T_a7ee7_row31_col0\" class=\"data row31 col0\" >24936.646245</td>\n",
       "      <td id=\"T_a7ee7_row31_col1\" class=\"data row31 col1\" >22194.798419</td>\n",
       "      <td id=\"T_a7ee7_row31_col2\" class=\"data row31 col2\" >342.007905</td>\n",
       "      <td id=\"T_a7ee7_row31_col3\" class=\"data row31 col3\" >89.004745</td>\n",
       "      <td id=\"T_a7ee7_row31_col4\" class=\"data row31 col4\" >1.371507</td>\n",
       "    </tr>\n",
       "    <tr>\n",
       "      <th id=\"T_a7ee7_level0_row32\" class=\"row_heading level0 row32\" >Chandigarh</th>\n",
       "      <td id=\"T_a7ee7_row32_col0\" class=\"data row32 col0\" >21249.759295</td>\n",
       "      <td id=\"T_a7ee7_row32_col1\" class=\"data row32 col1\" >19798.502935</td>\n",
       "      <td id=\"T_a7ee7_row32_col2\" class=\"data row32 col2\" >289.029354</td>\n",
       "      <td id=\"T_a7ee7_row32_col3\" class=\"data row32 col3\" >93.170481</td>\n",
       "      <td id=\"T_a7ee7_row32_col4\" class=\"data row32 col4\" >1.360154</td>\n",
       "    </tr>\n",
       "    <tr>\n",
       "      <th id=\"T_a7ee7_level0_row33\" class=\"row_heading level0 row33\" >Meghalaya</th>\n",
       "      <td id=\"T_a7ee7_row33_col0\" class=\"data row33 col0\" >15166.946392</td>\n",
       "      <td id=\"T_a7ee7_row33_col1\" class=\"data row33 col1\" >13480.224742</td>\n",
       "      <td id=\"T_a7ee7_row33_col2\" class=\"data row33 col2\" >210.206186</td>\n",
       "      <td id=\"T_a7ee7_row33_col3\" class=\"data row33 col3\" >88.878963</td>\n",
       "      <td id=\"T_a7ee7_row33_col4\" class=\"data row33 col4\" >1.385949</td>\n",
       "    </tr>\n",
       "    <tr>\n",
       "      <th id=\"T_a7ee7_level0_row34\" class=\"row_heading level0 row34\" >Arunachal Pradesh</th>\n",
       "      <td id=\"T_a7ee7_row34_col0\" class=\"data row34 col0\" >14469.570565</td>\n",
       "      <td id=\"T_a7ee7_row34_col1\" class=\"data row34 col1\" >13282.558468</td>\n",
       "      <td id=\"T_a7ee7_row34_col2\" class=\"data row34 col2\" >54.030242</td>\n",
       "      <td id=\"T_a7ee7_row34_col3\" class=\"data row34 col3\" >91.796494</td>\n",
       "      <td id=\"T_a7ee7_row34_col4\" class=\"data row34 col4\" >0.373406</td>\n",
       "    </tr>\n",
       "    <tr>\n",
       "      <th id=\"T_a7ee7_level0_row35\" class=\"row_heading level0 row35\" >Nagaland</th>\n",
       "      <td id=\"T_a7ee7_row35_col0\" class=\"data row35 col0\" >11154.296460</td>\n",
       "      <td id=\"T_a7ee7_row35_col1\" class=\"data row35 col1\" >9998.951327</td>\n",
       "      <td id=\"T_a7ee7_row35_col2\" class=\"data row35 col2\" >129.336283</td>\n",
       "      <td id=\"T_a7ee7_row35_col3\" class=\"data row35 col3\" >89.642151</td>\n",
       "      <td id=\"T_a7ee7_row35_col4\" class=\"data row35 col4\" >1.159520</td>\n",
       "    </tr>\n",
       "    <tr>\n",
       "      <th id=\"T_a7ee7_level0_row36\" class=\"row_heading level0 row36\" >Dadra and Nagar Haveli</th>\n",
       "      <td id=\"T_a7ee7_row36_col0\" class=\"data row36 col0\" >10361.000000</td>\n",
       "      <td id=\"T_a7ee7_row36_col1\" class=\"data row36 col1\" >10176.000000</td>\n",
       "      <td id=\"T_a7ee7_row36_col2\" class=\"data row36 col2\" >4.000000</td>\n",
       "      <td id=\"T_a7ee7_row36_col3\" class=\"data row36 col3\" >98.214458</td>\n",
       "      <td id=\"T_a7ee7_row36_col4\" class=\"data row36 col4\" >0.038606</td>\n",
       "    </tr>\n",
       "    <tr>\n",
       "      <th id=\"T_a7ee7_level0_row37\" class=\"row_heading level0 row37\" >Ladakh</th>\n",
       "      <td id=\"T_a7ee7_row37_col0\" class=\"data row37 col0\" >7751.994264</td>\n",
       "      <td id=\"T_a7ee7_row37_col1\" class=\"data row37 col1\" >7187.304015</td>\n",
       "      <td id=\"T_a7ee7_row37_col2\" class=\"data row37 col2\" >87.579350</td>\n",
       "      <td id=\"T_a7ee7_row37_col3\" class=\"data row37 col3\" >92.715549</td>\n",
       "      <td id=\"T_a7ee7_row37_col4\" class=\"data row37 col4\" >1.129765</td>\n",
       "    </tr>\n",
       "    <tr>\n",
       "      <th id=\"T_a7ee7_level0_row38\" class=\"row_heading level0 row38\" >Sikkim</th>\n",
       "      <td id=\"T_a7ee7_row38_col0\" class=\"data row38 col0\" >7161.346067</td>\n",
       "      <td id=\"T_a7ee7_row38_col1\" class=\"data row38 col1\" >6173.514607</td>\n",
       "      <td id=\"T_a7ee7_row38_col2\" class=\"data row38 col2\" >119.438202</td>\n",
       "      <td id=\"T_a7ee7_row38_col3\" class=\"data row38 col3\" >86.206064</td>\n",
       "      <td id=\"T_a7ee7_row38_col4\" class=\"data row38 col4\" >1.667818</td>\n",
       "    </tr>\n",
       "    <tr>\n",
       "      <th id=\"T_a7ee7_level0_row39\" class=\"row_heading level0 row39\" >Mizoram</th>\n",
       "      <td id=\"T_a7ee7_row39_col0\" class=\"data row39 col0\" >5910.360396</td>\n",
       "      <td id=\"T_a7ee7_row39_col1\" class=\"data row39 col1\" >4721.984158</td>\n",
       "      <td id=\"T_a7ee7_row39_col2\" class=\"data row39 col2\" >19.388119</td>\n",
       "      <td id=\"T_a7ee7_row39_col3\" class=\"data row39 col3\" >79.893337</td>\n",
       "      <td id=\"T_a7ee7_row39_col4\" class=\"data row39 col4\" >0.328036</td>\n",
       "    </tr>\n",
       "    <tr>\n",
       "      <th id=\"T_a7ee7_level0_row40\" class=\"row_heading level0 row40\" >Cases being reassigned to states</th>\n",
       "      <td id=\"T_a7ee7_row40_col0\" class=\"data row40 col0\" >5759.416667</td>\n",
       "      <td id=\"T_a7ee7_row40_col1\" class=\"data row40 col1\" >0.000000</td>\n",
       "      <td id=\"T_a7ee7_row40_col2\" class=\"data row40 col2\" >0.000000</td>\n",
       "      <td id=\"T_a7ee7_row40_col3\" class=\"data row40 col3\" >0.000000</td>\n",
       "      <td id=\"T_a7ee7_row40_col4\" class=\"data row40 col4\" >0.000000</td>\n",
       "    </tr>\n",
       "    <tr>\n",
       "      <th id=\"T_a7ee7_level0_row41\" class=\"row_heading level0 row41\" >Dadra and Nagar Haveli and Daman and Diu</th>\n",
       "      <td id=\"T_a7ee7_row41_col0\" class=\"data row41 col0\" >4205.275488</td>\n",
       "      <td id=\"T_a7ee7_row41_col1\" class=\"data row41 col1\" >3995.119306</td>\n",
       "      <td id=\"T_a7ee7_row41_col2\" class=\"data row41 col2\" >2.199566</td>\n",
       "      <td id=\"T_a7ee7_row41_col3\" class=\"data row41 col3\" >95.002559</td>\n",
       "      <td id=\"T_a7ee7_row41_col4\" class=\"data row41 col4\" >0.052305</td>\n",
       "    </tr>\n",
       "    <tr>\n",
       "      <th id=\"T_a7ee7_level0_row42\" class=\"row_heading level0 row42\" >Andaman and Nicobar Islands</th>\n",
       "      <td id=\"T_a7ee7_row42_col0\" class=\"data row42 col0\" >3846.226190</td>\n",
       "      <td id=\"T_a7ee7_row42_col1\" class=\"data row42 col1\" >3667.234127</td>\n",
       "      <td id=\"T_a7ee7_row42_col2\" class=\"data row42 col2\" >53.841270</td>\n",
       "      <td id=\"T_a7ee7_row42_col3\" class=\"data row42 col3\" >95.346294</td>\n",
       "      <td id=\"T_a7ee7_row42_col4\" class=\"data row42 col4\" >1.399847</td>\n",
       "    </tr>\n",
       "    <tr>\n",
       "      <th id=\"T_a7ee7_level0_row43\" class=\"row_heading level0 row43\" >Lakshadweep</th>\n",
       "      <td id=\"T_a7ee7_row43_col0\" class=\"data row43 col0\" >3753.213115</td>\n",
       "      <td id=\"T_a7ee7_row43_col1\" class=\"data row43 col1\" >3364.446721</td>\n",
       "      <td id=\"T_a7ee7_row43_col2\" class=\"data row43 col2\" >16.016393</td>\n",
       "      <td id=\"T_a7ee7_row43_col3\" class=\"data row43 col3\" >89.641771</td>\n",
       "      <td id=\"T_a7ee7_row43_col4\" class=\"data row43 col4\" >0.426738</td>\n",
       "    </tr>\n",
       "    <tr>\n",
       "      <th id=\"T_a7ee7_level0_row44\" class=\"row_heading level0 row44\" >Unassigned</th>\n",
       "      <td id=\"T_a7ee7_row44_col0\" class=\"data row44 col0\" >53.666667</td>\n",
       "      <td id=\"T_a7ee7_row44_col1\" class=\"data row44 col1\" >0.000000</td>\n",
       "      <td id=\"T_a7ee7_row44_col2\" class=\"data row44 col2\" >0.000000</td>\n",
       "      <td id=\"T_a7ee7_row44_col3\" class=\"data row44 col3\" >0.000000</td>\n",
       "      <td id=\"T_a7ee7_row44_col4\" class=\"data row44 col4\" >0.000000</td>\n",
       "    </tr>\n",
       "    <tr>\n",
       "      <th id=\"T_a7ee7_level0_row45\" class=\"row_heading level0 row45\" >Daman & Diu</th>\n",
       "      <td id=\"T_a7ee7_row45_col0\" class=\"data row45 col0\" >2.000000</td>\n",
       "      <td id=\"T_a7ee7_row45_col1\" class=\"data row45 col1\" >0.000000</td>\n",
       "      <td id=\"T_a7ee7_row45_col2\" class=\"data row45 col2\" >0.000000</td>\n",
       "      <td id=\"T_a7ee7_row45_col3\" class=\"data row45 col3\" >0.000000</td>\n",
       "      <td id=\"T_a7ee7_row45_col4\" class=\"data row45 col4\" >0.000000</td>\n",
       "    </tr>\n",
       "  </tbody>\n",
       "</table>\n"
      ],
      "text/plain": [
       "<pandas.io.formats.style.Styler at 0x22160760c70>"
      ]
     },
     "execution_count": 16,
     "metadata": {},
     "output_type": "execute_result"
    }
   ],
   "source": [
    "statewise.style.background_gradient(cmap='cubehelix')"
   ]
  },
  {
   "cell_type": "code",
   "execution_count": 17,
   "metadata": {},
   "outputs": [
    {
     "data": {
      "text/html": [
       "<div>\n",
       "<style scoped>\n",
       "    .dataframe tbody tr th:only-of-type {\n",
       "        vertical-align: middle;\n",
       "    }\n",
       "\n",
       "    .dataframe tbody tr th {\n",
       "        vertical-align: top;\n",
       "    }\n",
       "\n",
       "    .dataframe thead th {\n",
       "        text-align: right;\n",
       "    }\n",
       "</style>\n",
       "<table border=\"1\" class=\"dataframe\">\n",
       "  <thead>\n",
       "    <tr style=\"text-align: right;\">\n",
       "      <th></th>\n",
       "      <th>State/UnionTerritory</th>\n",
       "      <th>Active_cases</th>\n",
       "      <th>Date</th>\n",
       "    </tr>\n",
       "  </thead>\n",
       "  <tbody>\n",
       "    <tr>\n",
       "      <th>0</th>\n",
       "      <td>Maharashtra</td>\n",
       "      <td>701614</td>\n",
       "      <td>2021-08-11</td>\n",
       "    </tr>\n",
       "    <tr>\n",
       "      <th>1</th>\n",
       "      <td>Karnataka</td>\n",
       "      <td>605515</td>\n",
       "      <td>2021-08-11</td>\n",
       "    </tr>\n",
       "    <tr>\n",
       "      <th>2</th>\n",
       "      <td>Kerala</td>\n",
       "      <td>445692</td>\n",
       "      <td>2021-08-11</td>\n",
       "    </tr>\n",
       "    <tr>\n",
       "      <th>3</th>\n",
       "      <td>Tamil Nadu</td>\n",
       "      <td>313048</td>\n",
       "      <td>2021-08-11</td>\n",
       "    </tr>\n",
       "    <tr>\n",
       "      <th>4</th>\n",
       "      <td>Uttar Pradesh</td>\n",
       "      <td>310783</td>\n",
       "      <td>2021-08-11</td>\n",
       "    </tr>\n",
       "  </tbody>\n",
       "</table>\n",
       "</div>"
      ],
      "text/plain": [
       "  State/UnionTerritory  Active_cases       Date\n",
       "0          Maharashtra        701614 2021-08-11\n",
       "1            Karnataka        605515 2021-08-11\n",
       "2               Kerala        445692 2021-08-11\n",
       "3           Tamil Nadu        313048 2021-08-11\n",
       "4        Uttar Pradesh        310783 2021-08-11"
      ]
     },
     "execution_count": 17,
     "metadata": {},
     "output_type": "execute_result"
    }
   ],
   "source": [
    "# Top 10 Active case based on states\n",
    "#active_case=covid_df.groupby('State/UnionTerritory')[['Active_cases','Date']].max().reset_index()\n",
    "top_10_active_cases=covid_df.groupby('State/UnionTerritory')[['Active_cases','Date']].max().sort_values(by='Active_cases',ascending=False).reset_index()\n",
    "top_10_active_cases.head()"
   ]
  },
  {
   "cell_type": "code",
   "execution_count": 18,
   "metadata": {},
   "outputs": [
    {
     "data": {
      "image/png": "[encoded data removed]",
      "text/plain": [
       "<Figure size 1000x600 with 1 Axes>"
      ]
     },
     "metadata": {},
     "output_type": "display_data"
    }
   ],
   "source": [
    "# Visualize the top 10 active cases \n",
    "plt.figure(figsize=(10,6))\n",
    "sns.barplot(data=top_10_active_cases.iloc[:10,:],x='State/UnionTerritory',y='Active_cases',)\n",
    "plt.title('Top 10 Active Cases in India')\n",
    "plt.xlabel('States')\n",
    "plt.xticks(rotation=65)\n",
    "plt.ylabel('Active Cases')\n",
    "plt.show()"
   ]
  },
  {
   "cell_type": "code",
   "execution_count": 19,
   "metadata": {},
   "outputs": [
    {
     "data": {
      "text/html": [
       "<div>\n",
       "<style scoped>\n",
       "    .dataframe tbody tr th:only-of-type {\n",
       "        vertical-align: middle;\n",
       "    }\n",
       "\n",
       "    .dataframe tbody tr th {\n",
       "        vertical-align: top;\n",
       "    }\n",
       "\n",
       "    .dataframe thead th {\n",
       "        text-align: right;\n",
       "    }\n",
       "</style>\n",
       "<table border=\"1\" class=\"dataframe\">\n",
       "  <thead>\n",
       "    <tr style=\"text-align: right;\">\n",
       "      <th></th>\n",
       "      <th>State/UnionTerritory</th>\n",
       "      <th>Deaths</th>\n",
       "      <th>Date</th>\n",
       "    </tr>\n",
       "  </thead>\n",
       "  <tbody>\n",
       "    <tr>\n",
       "      <th>0</th>\n",
       "      <td>Maharashtra</td>\n",
       "      <td>134201</td>\n",
       "      <td>2021-08-11</td>\n",
       "    </tr>\n",
       "    <tr>\n",
       "      <th>1</th>\n",
       "      <td>Maharashtra***</td>\n",
       "      <td>130753</td>\n",
       "      <td>2021-07-21</td>\n",
       "    </tr>\n",
       "    <tr>\n",
       "      <th>2</th>\n",
       "      <td>Karnataka</td>\n",
       "      <td>36848</td>\n",
       "      <td>2021-08-11</td>\n",
       "    </tr>\n",
       "    <tr>\n",
       "      <th>3</th>\n",
       "      <td>Karanataka</td>\n",
       "      <td>36197</td>\n",
       "      <td>2021-07-20</td>\n",
       "    </tr>\n",
       "    <tr>\n",
       "      <th>4</th>\n",
       "      <td>Tamil Nadu</td>\n",
       "      <td>34367</td>\n",
       "      <td>2021-08-11</td>\n",
       "    </tr>\n",
       "  </tbody>\n",
       "</table>\n",
       "</div>"
      ],
      "text/plain": [
       "  State/UnionTerritory  Deaths       Date\n",
       "0          Maharashtra  134201 2021-08-11\n",
       "1       Maharashtra***  130753 2021-07-21\n",
       "2            Karnataka   36848 2021-08-11\n",
       "3           Karanataka   36197 2021-07-20\n",
       "4           Tamil Nadu   34367 2021-08-11"
      ]
     },
     "execution_count": 19,
     "metadata": {},
     "output_type": "execute_result"
    }
   ],
   "source": [
    "# Top states with highest deaths\n",
    "top_10_death_cases=covid_df.groupby('State/UnionTerritory')[['Deaths','Date']].max().sort_values(by='Deaths',ascending=False).reset_index()\n",
    "top_10_death_cases.head()"
   ]
  },
  {
   "cell_type": "code",
   "execution_count": 20,
   "metadata": {},
   "outputs": [
    {
     "data": {
      "image/png": "[encoded data removed]",
      "text/plain": [
       "<Figure size 1000x600 with 1 Axes>"
      ]
     },
     "metadata": {},
     "output_type": "display_data"
    }
   ],
   "source": [
    "# Visualize the top 10  highest death cases \n",
    "plt.figure(figsize=(10,6))\n",
    "sns.barplot(data=top_10_death_cases.iloc[:12,:],x='State/UnionTerritory',y='Deaths',)\n",
    "plt.title('Top 10 Highest Cases in India')\n",
    "plt.xlabel('States')\n",
    "plt.xticks(rotation=65)\n",
    "plt.ylabel('Death Cases')\n",
    "plt.show()"
   ]
  },
  {
   "cell_type": "code",
   "execution_count": 21,
   "metadata": {},
   "outputs": [
    {
     "data": {
      "image/png": "[encoded data removed]",
      "text/plain": [
       "<Figure size 1500x700 with 1 Axes>"
      ]
     },
     "metadata": {},
     "output_type": "display_data"
    }
   ],
   "source": [
    "# Growth Trend\n",
    "plt.figure(figsize=(15,7))\n",
    "sns.lineplot(data=covid_df[covid_df['State/UnionTerritory'].isin(['Maharashtra','Karnataka','Kerala','Tamil Nadu','Uttar Pradesh'])],x='Date',y='Active_cases',hue='State/UnionTerritory')\n",
    "plt.title('Top 5 Affected States in India')\n",
    "plt.xlabel('Date')\n",
    "plt.ylabel('Active Case')\n",
    "plt.show()"
   ]
  },
  {
   "cell_type": "code",
   "execution_count": 22,
   "metadata": {},
   "outputs": [
    {
     "data": {
      "text/html": [
       "<div>\n",
       "<style scoped>\n",
       "    .dataframe tbody tr th:only-of-type {\n",
       "        vertical-align: middle;\n",
       "    }\n",
       "\n",
       "    .dataframe tbody tr th {\n",
       "        vertical-align: top;\n",
       "    }\n",
       "\n",
       "    .dataframe thead th {\n",
       "        text-align: right;\n",
       "    }\n",
       "</style>\n",
       "<table border=\"1\" class=\"dataframe\">\n",
       "  <thead>\n",
       "    <tr style=\"text-align: right;\">\n",
       "      <th></th>\n",
       "      <th>Updated On</th>\n",
       "      <th>State</th>\n",
       "      <th>Total Doses Administered</th>\n",
       "      <th>Sessions</th>\n",
       "      <th>Sites</th>\n",
       "      <th>First Dose Administered</th>\n",
       "      <th>Second Dose Administered</th>\n",
       "      <th>Male (Doses Administered)</th>\n",
       "      <th>Female (Doses Administered)</th>\n",
       "      <th>Transgender (Doses Administered)</th>\n",
       "      <th>Covaxin (Doses Administered)</th>\n",
       "      <th>CoviShield (Doses Administered)</th>\n",
       "      <th>Sputnik V (Doses Administered)</th>\n",
       "      <th>AEFI</th>\n",
       "      <th>18-44 Years (Doses Administered)</th>\n",
       "      <th>45-60 Years (Doses Administered)</th>\n",
       "      <th>60+ Years (Doses Administered)</th>\n",
       "      <th>18-44 Years(Individuals Vaccinated)</th>\n",
       "      <th>45-60 Years(Individuals Vaccinated)</th>\n",
       "      <th>60+ Years(Individuals Vaccinated)</th>\n",
       "      <th>Male(Individuals Vaccinated)</th>\n",
       "      <th>Female(Individuals Vaccinated)</th>\n",
       "      <th>Transgender(Individuals Vaccinated)</th>\n",
       "      <th>Total Individuals Vaccinated</th>\n",
       "    </tr>\n",
       "  </thead>\n",
       "  <tbody>\n",
       "    <tr>\n",
       "      <th>0</th>\n",
       "      <td>16/01/2021</td>\n",
       "      <td>India</td>\n",
       "      <td>48276.0</td>\n",
       "      <td>3455.0</td>\n",
       "      <td>2957.0</td>\n",
       "      <td>48276.0</td>\n",
       "      <td>0.0</td>\n",
       "      <td>NaN</td>\n",
       "      <td>NaN</td>\n",
       "      <td>NaN</td>\n",
       "      <td>579.0</td>\n",
       "      <td>47697.0</td>\n",
       "      <td>NaN</td>\n",
       "      <td>NaN</td>\n",
       "      <td>NaN</td>\n",
       "      <td>NaN</td>\n",
       "      <td>NaN</td>\n",
       "      <td>NaN</td>\n",
       "      <td>NaN</td>\n",
       "      <td>NaN</td>\n",
       "      <td>23757.0</td>\n",
       "      <td>24517.0</td>\n",
       "      <td>2.0</td>\n",
       "      <td>48276.0</td>\n",
       "    </tr>\n",
       "    <tr>\n",
       "      <th>1</th>\n",
       "      <td>17/01/2021</td>\n",
       "      <td>India</td>\n",
       "      <td>58604.0</td>\n",
       "      <td>8532.0</td>\n",
       "      <td>4954.0</td>\n",
       "      <td>58604.0</td>\n",
       "      <td>0.0</td>\n",
       "      <td>NaN</td>\n",
       "      <td>NaN</td>\n",
       "      <td>NaN</td>\n",
       "      <td>635.0</td>\n",
       "      <td>57969.0</td>\n",
       "      <td>NaN</td>\n",
       "      <td>NaN</td>\n",
       "      <td>NaN</td>\n",
       "      <td>NaN</td>\n",
       "      <td>NaN</td>\n",
       "      <td>NaN</td>\n",
       "      <td>NaN</td>\n",
       "      <td>NaN</td>\n",
       "      <td>27348.0</td>\n",
       "      <td>31252.0</td>\n",
       "      <td>4.0</td>\n",
       "      <td>58604.0</td>\n",
       "    </tr>\n",
       "    <tr>\n",
       "      <th>2</th>\n",
       "      <td>18/01/2021</td>\n",
       "      <td>India</td>\n",
       "      <td>99449.0</td>\n",
       "      <td>13611.0</td>\n",
       "      <td>6583.0</td>\n",
       "      <td>99449.0</td>\n",
       "      <td>0.0</td>\n",
       "      <td>NaN</td>\n",
       "      <td>NaN</td>\n",
       "      <td>NaN</td>\n",
       "      <td>1299.0</td>\n",
       "      <td>98150.0</td>\n",
       "      <td>NaN</td>\n",
       "      <td>NaN</td>\n",
       "      <td>NaN</td>\n",
       "      <td>NaN</td>\n",
       "      <td>NaN</td>\n",
       "      <td>NaN</td>\n",
       "      <td>NaN</td>\n",
       "      <td>NaN</td>\n",
       "      <td>41361.0</td>\n",
       "      <td>58083.0</td>\n",
       "      <td>5.0</td>\n",
       "      <td>99449.0</td>\n",
       "    </tr>\n",
       "    <tr>\n",
       "      <th>3</th>\n",
       "      <td>19/01/2021</td>\n",
       "      <td>India</td>\n",
       "      <td>195525.0</td>\n",
       "      <td>17855.0</td>\n",
       "      <td>7951.0</td>\n",
       "      <td>195525.0</td>\n",
       "      <td>0.0</td>\n",
       "      <td>NaN</td>\n",
       "      <td>NaN</td>\n",
       "      <td>NaN</td>\n",
       "      <td>3017.0</td>\n",
       "      <td>192508.0</td>\n",
       "      <td>NaN</td>\n",
       "      <td>NaN</td>\n",
       "      <td>NaN</td>\n",
       "      <td>NaN</td>\n",
       "      <td>NaN</td>\n",
       "      <td>NaN</td>\n",
       "      <td>NaN</td>\n",
       "      <td>NaN</td>\n",
       "      <td>81901.0</td>\n",
       "      <td>113613.0</td>\n",
       "      <td>11.0</td>\n",
       "      <td>195525.0</td>\n",
       "    </tr>\n",
       "    <tr>\n",
       "      <th>4</th>\n",
       "      <td>20/01/2021</td>\n",
       "      <td>India</td>\n",
       "      <td>251280.0</td>\n",
       "      <td>25472.0</td>\n",
       "      <td>10504.0</td>\n",
       "      <td>251280.0</td>\n",
       "      <td>0.0</td>\n",
       "      <td>NaN</td>\n",
       "      <td>NaN</td>\n",
       "      <td>NaN</td>\n",
       "      <td>3946.0</td>\n",
       "      <td>247334.0</td>\n",
       "      <td>NaN</td>\n",
       "      <td>NaN</td>\n",
       "      <td>NaN</td>\n",
       "      <td>NaN</td>\n",
       "      <td>NaN</td>\n",
       "      <td>NaN</td>\n",
       "      <td>NaN</td>\n",
       "      <td>NaN</td>\n",
       "      <td>98111.0</td>\n",
       "      <td>153145.0</td>\n",
       "      <td>24.0</td>\n",
       "      <td>251280.0</td>\n",
       "    </tr>\n",
       "  </tbody>\n",
       "</table>\n",
       "</div>"
      ],
      "text/plain": [
       "   Updated On  State  Total Doses Administered  Sessions   Sites   \\\n",
       "0  16/01/2021  India                   48276.0    3455.0   2957.0   \n",
       "1  17/01/2021  India                   58604.0    8532.0   4954.0   \n",
       "2  18/01/2021  India                   99449.0   13611.0   6583.0   \n",
       "3  19/01/2021  India                  195525.0   17855.0   7951.0   \n",
       "4  20/01/2021  India                  251280.0   25472.0  10504.0   \n",
       "\n",
       "   First Dose Administered  Second Dose Administered  \\\n",
       "0                  48276.0                       0.0   \n",
       "1                  58604.0                       0.0   \n",
       "2                  99449.0                       0.0   \n",
       "3                 195525.0                       0.0   \n",
       "4                 251280.0                       0.0   \n",
       "\n",
       "   Male (Doses Administered)  Female (Doses Administered)  \\\n",
       "0                        NaN                          NaN   \n",
       "1                        NaN                          NaN   \n",
       "2                        NaN                          NaN   \n",
       "3                        NaN                          NaN   \n",
       "4                        NaN                          NaN   \n",
       "\n",
       "   Transgender (Doses Administered)   Covaxin (Doses Administered)  \\\n",
       "0                               NaN                          579.0   \n",
       "1                               NaN                          635.0   \n",
       "2                               NaN                         1299.0   \n",
       "3                               NaN                         3017.0   \n",
       "4                               NaN                         3946.0   \n",
       "\n",
       "   CoviShield (Doses Administered)  Sputnik V (Doses Administered)  AEFI  \\\n",
       "0                          47697.0                             NaN   NaN   \n",
       "1                          57969.0                             NaN   NaN   \n",
       "2                          98150.0                             NaN   NaN   \n",
       "3                         192508.0                             NaN   NaN   \n",
       "4                         247334.0                             NaN   NaN   \n",
       "\n",
       "   18-44 Years (Doses Administered)  45-60 Years (Doses Administered)  \\\n",
       "0                               NaN                               NaN   \n",
       "1                               NaN                               NaN   \n",
       "2                               NaN                               NaN   \n",
       "3                               NaN                               NaN   \n",
       "4                               NaN                               NaN   \n",
       "\n",
       "   60+ Years (Doses Administered)  18-44 Years(Individuals Vaccinated)  \\\n",
       "0                             NaN                                  NaN   \n",
       "1                             NaN                                  NaN   \n",
       "2                             NaN                                  NaN   \n",
       "3                             NaN                                  NaN   \n",
       "4                             NaN                                  NaN   \n",
       "\n",
       "   45-60 Years(Individuals Vaccinated)  60+ Years(Individuals Vaccinated)  \\\n",
       "0                                  NaN                                NaN   \n",
       "1                                  NaN                                NaN   \n",
       "2                                  NaN                                NaN   \n",
       "3                                  NaN                                NaN   \n",
       "4                                  NaN                                NaN   \n",
       "\n",
       "   Male(Individuals Vaccinated)  Female(Individuals Vaccinated)  \\\n",
       "0                       23757.0                         24517.0   \n",
       "1                       27348.0                         31252.0   \n",
       "2                       41361.0                         58083.0   \n",
       "3                       81901.0                        113613.0   \n",
       "4                       98111.0                        153145.0   \n",
       "\n",
       "   Transgender(Individuals Vaccinated)  Total Individuals Vaccinated  \n",
       "0                                  2.0                       48276.0  \n",
       "1                                  4.0                       58604.0  \n",
       "2                                  5.0                       99449.0  \n",
       "3                                 11.0                      195525.0  \n",
       "4                                 24.0                      251280.0  "
      ]
     },
     "execution_count": 22,
     "metadata": {},
     "output_type": "execute_result"
    }
   ],
   "source": [
    "vaccine_df.head()"
   ]
  },
  {
   "cell_type": "code",
   "execution_count": 23,
   "metadata": {},
   "outputs": [],
   "source": [
    "# Renaming column\n",
    "vaccine_df.rename(columns={'Updated On':'vaccine_date'},inplace=True)"
   ]
  },
  {
   "cell_type": "code",
   "execution_count": 24,
   "metadata": {},
   "outputs": [
    {
     "name": "stdout",
     "output_type": "stream",
     "text": [
      "<class 'pandas.core.frame.DataFrame'>\n",
      "RangeIndex: 7845 entries, 0 to 7844\n",
      "Data columns (total 24 columns):\n",
      " #   Column                               Non-Null Count  Dtype  \n",
      "---  ------                               --------------  -----  \n",
      " 0   vaccine_date                         7845 non-null   object \n",
      " 1   State                                7845 non-null   object \n",
      " 2   Total Doses Administered             7621 non-null   float64\n",
      " 3   Sessions                             7621 non-null   float64\n",
      " 4    Sites                               7621 non-null   float64\n",
      " 5   First Dose Administered              7621 non-null   float64\n",
      " 6   Second Dose Administered             7621 non-null   float64\n",
      " 7   Male (Doses Administered)            7461 non-null   float64\n",
      " 8   Female (Doses Administered)          7461 non-null   float64\n",
      " 9   Transgender (Doses Administered)     7461 non-null   float64\n",
      " 10   Covaxin (Doses Administered)        7621 non-null   float64\n",
      " 11  CoviShield (Doses Administered)      7621 non-null   float64\n",
      " 12  Sputnik V (Doses Administered)       2995 non-null   float64\n",
      " 13  AEFI                                 5438 non-null   float64\n",
      " 14  18-44 Years (Doses Administered)     1702 non-null   float64\n",
      " 15  45-60 Years (Doses Administered)     1702 non-null   float64\n",
      " 16  60+ Years (Doses Administered)       1702 non-null   float64\n",
      " 17  18-44 Years(Individuals Vaccinated)  3733 non-null   float64\n",
      " 18  45-60 Years(Individuals Vaccinated)  3734 non-null   float64\n",
      " 19  60+ Years(Individuals Vaccinated)    3734 non-null   float64\n",
      " 20  Male(Individuals Vaccinated)         160 non-null    float64\n",
      " 21  Female(Individuals Vaccinated)       160 non-null    float64\n",
      " 22  Transgender(Individuals Vaccinated)  160 non-null    float64\n",
      " 23  Total Individuals Vaccinated         5919 non-null   float64\n",
      "dtypes: float64(22), object(2)\n",
      "memory usage: 1.4+ MB\n"
     ]
    }
   ],
   "source": [
    "# Displaying the information of dataset\n",
    "vaccine_df.info()"
   ]
  },
  {
   "cell_type": "code",
   "execution_count": 25,
   "metadata": {},
   "outputs": [
    {
     "data": {
      "text/plain": [
       "vaccine_date                              0\n",
       "State                                     0\n",
       "Total Doses Administered                224\n",
       "Sessions                                224\n",
       " Sites                                  224\n",
       "First Dose Administered                 224\n",
       "Second Dose Administered                224\n",
       "Male (Doses Administered)               384\n",
       "Female (Doses Administered)             384\n",
       "Transgender (Doses Administered)        384\n",
       " Covaxin (Doses Administered)           224\n",
       "CoviShield (Doses Administered)         224\n",
       "Sputnik V (Doses Administered)         4850\n",
       "AEFI                                   2407\n",
       "18-44 Years (Doses Administered)       6143\n",
       "45-60 Years (Doses Administered)       6143\n",
       "60+ Years (Doses Administered)         6143\n",
       "18-44 Years(Individuals Vaccinated)    4112\n",
       "45-60 Years(Individuals Vaccinated)    4111\n",
       "60+ Years(Individuals Vaccinated)      4111\n",
       "Male(Individuals Vaccinated)           7685\n",
       "Female(Individuals Vaccinated)         7685\n",
       "Transgender(Individuals Vaccinated)    7685\n",
       "Total Individuals Vaccinated           1926\n",
       "dtype: int64"
      ]
     },
     "execution_count": 25,
     "metadata": {},
     "output_type": "execute_result"
    }
   ],
   "source": [
    "vaccine_df.isnull().sum()"
   ]
  },
  {
   "cell_type": "code",
   "execution_count": 26,
   "metadata": {},
   "outputs": [
    {
     "data": {
      "application/vnd.plotly.v1+json": {
       "config": {
        "plotlyServerURL": "https://plot.ly"
       },
       "data": [
        {
         "domain": {
          "x": [
           0,
           1
          ],
          "y": [
           0,
           1
          ]
         },
         "hovertemplate": "label=%{label}<br>value=%{value}<extra></extra>",
         "labels": [
          "Male",
          "Female"
         ],
         "legendgroup": "",
         "name": "",
         "showlegend": true,
         "type": "pie",
         "values": [
          7138698858,
          6321628736
         ]
        }
       ],
       "layout": {
        "legend": {
         "tracegroupgap": 0
        },
        "template": {
         "data": {
          "bar": [
           {
            "error_x": {
             "color": "#2a3f5f"
            },
            "error_y": {
             "color": "#2a3f5f"
            },
            "marker": {
             "line": {
              "color": "#E5ECF6",
              "width": 0.5
             },
             "pattern": {
              "fillmode": "overlay",
              "size": 10,
              "solidity": 0.2
             }
            },
            "type": "bar"
           }
          ],
          "barpolar": [
           {
            "marker": {
             "line": {
              "color": "#E5ECF6",
              "width": 0.5
             },
             "pattern": {
              "fillmode": "overlay",
              "size": 10,
              "solidity": 0.2
             }
            },
            "type": "barpolar"
           }
          ],
          "carpet": [
           {
            "aaxis": {
             "endlinecolor": "#2a3f5f",
             "gridcolor": "white",
             "linecolor": "white",
             "minorgridcolor": "white",
             "startlinecolor": "#2a3f5f"
            },
            "baxis": {
             "endlinecolor": "#2a3f5f",
             "gridcolor": "white",
             "linecolor": "white",
             "minorgridcolor": "white",
             "startlinecolor": "#2a3f5f"
            },
            "type": "carpet"
           }
          ],
          "choropleth": [
           {
            "colorbar": {
             "outlinewidth": 0,
             "ticks": ""
            },
            "type": "choropleth"
           }
          ],
          "contour": [
           {
            "colorbar": {
             "outlinewidth": 0,
             "ticks": ""
            },
            "colorscale": [
             [
              0,
              "#0d0887"
             ],
             [
              0.1111111111111111,
              "#46039f"
             ],
             [
              0.2222222222222222,
              "#7201a8"
             ],
             [
              0.3333333333333333,
              "#9c179e"
             ],
             [
              0.4444444444444444,
              "#bd3786"
             ],
             [
              0.5555555555555556,
              "#d8576b"
             ],
             [
              0.6666666666666666,
              "#ed7953"
             ],
             [
              0.7777777777777778,
              "#fb9f3a"
             ],
             [
              0.8888888888888888,
              "#fdca26"
             ],
             [
              1,
              "#f0f921"
             ]
            ],
            "type": "contour"
           }
          ],
          "contourcarpet": [
           {
            "colorbar": {
             "outlinewidth": 0,
             "ticks": ""
            },
            "type": "contourcarpet"
           }
          ],
          "heatmap": [
           {
            "colorbar": {
             "outlinewidth": 0,
             "ticks": ""
            },
            "colorscale": [
             [
              0,
              "#0d0887"
             ],
             [
              0.1111111111111111,
              "#46039f"
             ],
             [
              0.2222222222222222,
              "#7201a8"
             ],
             [
              0.3333333333333333,
              "#9c179e"
             ],
             [
              0.4444444444444444,
              "#bd3786"
             ],
             [
              0.5555555555555556,
              "#d8576b"
             ],
             [
              0.6666666666666666,
              "#ed7953"
             ],
             [
              0.7777777777777778,
              "#fb9f3a"
             ],
             [
              0.8888888888888888,
              "#fdca26"
             ],
             [
              1,
              "#f0f921"
             ]
            ],
            "type": "heatmap"
           }
          ],
          "heatmapgl": [
           {
            "colorbar": {
             "outlinewidth": 0,
             "ticks": ""
            },
            "colorscale": [
             [
              0,
              "#0d0887"
             ],
             [
              0.1111111111111111,
              "#46039f"
             ],
             [
              0.2222222222222222,
              "#7201a8"
             ],
             [
              0.3333333333333333,
              "#9c179e"
             ],
             [
              0.4444444444444444,
              "#bd3786"
             ],
             [
              0.5555555555555556,
              "#d8576b"
             ],
             [
              0.6666666666666666,
              "#ed7953"
             ],
             [
              0.7777777777777778,
              "#fb9f3a"
             ],
             [
              0.8888888888888888,
              "#fdca26"
             ],
             [
              1,
              "#f0f921"
             ]
            ],
            "type": "heatmapgl"
           }
          ],
          "histogram": [
           {
            "marker": {
             "pattern": {
              "fillmode": "overlay",
              "size": 10,
              "solidity": 0.2
             }
            },
            "type": "histogram"
           }
          ],
          "histogram2d": [
           {
            "colorbar": {
             "outlinewidth": 0,
             "ticks": ""
            },
            "colorscale": [
             [
              0,
              "#0d0887"
             ],
             [
              0.1111111111111111,
              "#46039f"
             ],
             [
              0.2222222222222222,
              "#7201a8"
             ],
             [
              0.3333333333333333,
              "#9c179e"
             ],
             [
              0.4444444444444444,
              "#bd3786"
             ],
             [
              0.5555555555555556,
              "#d8576b"
             ],
             [
              0.6666666666666666,
              "#ed7953"
             ],
             [
              0.7777777777777778,
              "#fb9f3a"
             ],
             [
              0.8888888888888888,
              "#fdca26"
             ],
             [
              1,
              "#f0f921"
             ]
            ],
            "type": "histogram2d"
           }
          ],
          "histogram2dcontour": [
           {
            "colorbar": {
             "outlinewidth": 0,
             "ticks": ""
            },
            "colorscale": [
             [
              0,
              "#0d0887"
             ],
             [
              0.1111111111111111,
              "#46039f"
             ],
             [
              0.2222222222222222,
              "#7201a8"
             ],
             [
              0.3333333333333333,
              "#9c179e"
             ],
             [
              0.4444444444444444,
              "#bd3786"
             ],
             [
              0.5555555555555556,
              "#d8576b"
             ],
             [
              0.6666666666666666,
              "#ed7953"
             ],
             [
              0.7777777777777778,
              "#fb9f3a"
             ],
             [
              0.8888888888888888,
              "#fdca26"
             ],
             [
              1,
              "#f0f921"
             ]
            ],
            "type": "histogram2dcontour"
           }
          ],
          "mesh3d": [
           {
            "colorbar": {
             "outlinewidth": 0,
             "ticks": ""
            },
            "type": "mesh3d"
           }
          ],
          "parcoords": [
           {
            "line": {
             "colorbar": {
              "outlinewidth": 0,
              "ticks": ""
             }
            },
            "type": "parcoords"
           }
          ],
          "pie": [
           {
            "automargin": true,
            "type": "pie"
           }
          ],
          "scatter": [
           {
            "fillpattern": {
             "fillmode": "overlay",
             "size": 10,
             "solidity": 0.2
            },
            "type": "scatter"
           }
          ],
          "scatter3d": [
           {
            "line": {
             "colorbar": {
              "outlinewidth": 0,
              "ticks": ""
             }
            },
            "marker": {
             "colorbar": {
              "outlinewidth": 0,
              "ticks": ""
             }
            },
            "type": "scatter3d"
           }
          ],
          "scattercarpet": [
           {
            "marker": {
             "colorbar": {
              "outlinewidth": 0,
              "ticks": ""
             }
            },
            "type": "scattercarpet"
           }
          ],
          "scattergeo": [
           {
            "marker": {
             "colorbar": {
              "outlinewidth": 0,
              "ticks": ""
             }
            },
            "type": "scattergeo"
           }
          ],
          "scattergl": [
           {
            "marker": {
             "colorbar": {
              "outlinewidth": 0,
              "ticks": ""
             }
            },
            "type": "scattergl"
           }
          ],
          "scattermapbox": [
           {
            "marker": {
             "colorbar": {
              "outlinewidth": 0,
              "ticks": ""
             }
            },
            "type": "scattermapbox"
           }
          ],
          "scatterpolar": [
           {
            "marker": {
             "colorbar": {
              "outlinewidth": 0,
              "ticks": ""
             }
            },
            "type": "scatterpolar"
           }
          ],
          "scatterpolargl": [
           {
            "marker": {
             "colorbar": {
              "outlinewidth": 0,
              "ticks": ""
             }
            },
            "type": "scatterpolargl"
           }
          ],
          "scatterternary": [
           {
            "marker": {
             "colorbar": {
              "outlinewidth": 0,
              "ticks": ""
             }
            },
            "type": "scatterternary"
           }
          ],
          "surface": [
           {
            "colorbar": {
             "outlinewidth": 0,
             "ticks": ""
            },
            "colorscale": [
             [
              0,
              "#0d0887"
             ],
             [
              0.1111111111111111,
              "#46039f"
             ],
             [
              0.2222222222222222,
              "#7201a8"
             ],
             [
              0.3333333333333333,
              "#9c179e"
             ],
             [
              0.4444444444444444,
              "#bd3786"
             ],
             [
              0.5555555555555556,
              "#d8576b"
             ],
             [
              0.6666666666666666,
              "#ed7953"
             ],
             [
              0.7777777777777778,
              "#fb9f3a"
             ],
             [
              0.8888888888888888,
              "#fdca26"
             ],
             [
              1,
              "#f0f921"
             ]
            ],
            "type": "surface"
           }
          ],
          "table": [
           {
            "cells": {
             "fill": {
              "color": "#EBF0F8"
             },
             "line": {
              "color": "white"
             }
            },
            "header": {
             "fill": {
              "color": "#C8D4E3"
             },
             "line": {
              "color": "white"
             }
            },
            "type": "table"
           }
          ]
         },
         "layout": {
          "annotationdefaults": {
           "arrowcolor": "#2a3f5f",
           "arrowhead": 0,
           "arrowwidth": 1
          },
          "autotypenumbers": "strict",
          "coloraxis": {
           "colorbar": {
            "outlinewidth": 0,
            "ticks": ""
           }
          },
          "colorscale": {
           "diverging": [
            [
             0,
             "#8e0152"
            ],
            [
             0.1,
             "#c51b7d"
            ],
            [
             0.2,
             "#de77ae"
            ],
            [
             0.3,
             "#f1b6da"
            ],
            [
             0.4,
             "#fde0ef"
            ],
            [
             0.5,
             "#f7f7f7"
            ],
            [
             0.6,
             "#e6f5d0"
            ],
            [
             0.7,
             "#b8e186"
            ],
            [
             0.8,
             "#7fbc41"
            ],
            [
             0.9,
             "#4d9221"
            ],
            [
             1,
             "#276419"
            ]
           ],
           "sequential": [
            [
             0,
             "#0d0887"
            ],
            [
             0.1111111111111111,
             "#46039f"
            ],
            [
             0.2222222222222222,
             "#7201a8"
            ],
            [
             0.3333333333333333,
             "#9c179e"
            ],
            [
             0.4444444444444444,
             "#bd3786"
            ],
            [
             0.5555555555555556,
             "#d8576b"
            ],
            [
             0.6666666666666666,
             "#ed7953"
            ],
            [
             0.7777777777777778,
             "#fb9f3a"
            ],
            [
             0.8888888888888888,
             "#fdca26"
            ],
            [
             1,
             "#f0f921"
            ]
           ],
           "sequentialminus": [
            [
             0,
             "#0d0887"
            ],
            [
             0.1111111111111111,
             "#46039f"
            ],
            [
             0.2222222222222222,
             "#7201a8"
            ],
            [
             0.3333333333333333,
             "#9c179e"
            ],
            [
             0.4444444444444444,
             "#bd3786"
            ],
            [
             0.5555555555555556,
             "#d8576b"
            ],
            [
             0.6666666666666666,
             "#ed7953"
            ],
            [
             0.7777777777777778,
             "#fb9f3a"
            ],
            [
             0.8888888888888888,
             "#fdca26"
            ],
            [
             1,
             "#f0f921"
            ]
           ]
          },
          "colorway": [
           "#636efa",
           "#EF553B",
           "#00cc96",
           "#ab63fa",
           "#FFA15A",
           "#19d3f3",
           "#FF6692",
           "#B6E880",
           "#FF97FF",
           "#FECB52"
          ],
          "font": {
           "color": "#2a3f5f"
          },
          "geo": {
           "bgcolor": "white",
           "lakecolor": "white",
           "landcolor": "#E5ECF6",
           "showlakes": true,
           "showland": true,
           "subunitcolor": "white"
          },
          "hoverlabel": {
           "align": "left"
          },
          "hovermode": "closest",
          "mapbox": {
           "style": "light"
          },
          "paper_bgcolor": "white",
          "plot_bgcolor": "#E5ECF6",
          "polar": {
           "angularaxis": {
            "gridcolor": "white",
            "linecolor": "white",
            "ticks": ""
           },
           "bgcolor": "#E5ECF6",
           "radialaxis": {
            "gridcolor": "white",
            "linecolor": "white",
            "ticks": ""
           }
          },
          "scene": {
           "xaxis": {
            "backgroundcolor": "#E5ECF6",
            "gridcolor": "white",
            "gridwidth": 2,
            "linecolor": "white",
            "showbackground": true,
            "ticks": "",
            "zerolinecolor": "white"
           },
           "yaxis": {
            "backgroundcolor": "#E5ECF6",
            "gridcolor": "white",
            "gridwidth": 2,
            "linecolor": "white",
            "showbackground": true,
            "ticks": "",
            "zerolinecolor": "white"
           },
           "zaxis": {
            "backgroundcolor": "#E5ECF6",
            "gridcolor": "white",
            "gridwidth": 2,
            "linecolor": "white",
            "showbackground": true,
            "ticks": "",
            "zerolinecolor": "white"
           }
          },
          "shapedefaults": {
           "line": {
            "color": "#2a3f5f"
           }
          },
          "ternary": {
           "aaxis": {
            "gridcolor": "white",
            "linecolor": "white",
            "ticks": ""
           },
           "baxis": {
            "gridcolor": "white",
            "linecolor": "white",
            "ticks": ""
           },
           "bgcolor": "#E5ECF6",
           "caxis": {
            "gridcolor": "white",
            "linecolor": "white",
            "ticks": ""
           }
          },
          "title": {
           "x": 0.05
          },
          "xaxis": {
           "automargin": true,
           "gridcolor": "white",
           "linecolor": "white",
           "ticks": "",
           "title": {
            "standoff": 15
           },
           "zerolinecolor": "white",
           "zerolinewidth": 2
          },
          "yaxis": {
           "automargin": true,
           "gridcolor": "white",
           "linecolor": "white",
           "ticks": "",
           "title": {
            "standoff": 15
           },
           "zerolinecolor": "white",
           "zerolinewidth": 2
          }
         }
        },
        "title": {
         "text": "Male and Female Vaccination"
        }
       }
      }
     },
     "metadata": {},
     "output_type": "display_data"
    }
   ],
   "source": [
    "male=vaccine_df['Male(Individuals Vaccinated)'].sum()\n",
    "female=vaccine_df['Female(Individuals Vaccinated)'].sum()\n",
    "\n",
    "# Visualizing the male and female vaccination\n",
    "px.pie(names=['Male','Female'],values=[male,female],title='Male and Female Vaccination')"
   ]
  },
  {
   "cell_type": "code",
   "execution_count": 27,
   "metadata": {},
   "outputs": [],
   "source": [
    "# Removing Value error row in State Column\n",
    "vaccine=vaccine_df[vaccine_df['State']!='India']"
   ]
  },
  {
   "cell_type": "code",
   "execution_count": 28,
   "metadata": {},
   "outputs": [
    {
     "data": {
      "text/html": [
       "<div>\n",
       "<style scoped>\n",
       "    .dataframe tbody tr th:only-of-type {\n",
       "        vertical-align: middle;\n",
       "    }\n",
       "\n",
       "    .dataframe tbody tr th {\n",
       "        vertical-align: top;\n",
       "    }\n",
       "\n",
       "    .dataframe thead th {\n",
       "        text-align: right;\n",
       "    }\n",
       "</style>\n",
       "<table border=\"1\" class=\"dataframe\">\n",
       "  <thead>\n",
       "    <tr style=\"text-align: right;\">\n",
       "      <th></th>\n",
       "      <th>vaccine_date</th>\n",
       "      <th>State</th>\n",
       "      <th>Total Doses Administered</th>\n",
       "      <th>Sessions</th>\n",
       "      <th>Sites</th>\n",
       "      <th>First Dose Administered</th>\n",
       "      <th>Second Dose Administered</th>\n",
       "      <th>Male (Doses Administered)</th>\n",
       "      <th>Female (Doses Administered)</th>\n",
       "      <th>Transgender (Doses Administered)</th>\n",
       "      <th>Covaxin (Doses Administered)</th>\n",
       "      <th>CoviShield (Doses Administered)</th>\n",
       "      <th>Sputnik V (Doses Administered)</th>\n",
       "      <th>AEFI</th>\n",
       "      <th>18-44 Years (Doses Administered)</th>\n",
       "      <th>45-60 Years (Doses Administered)</th>\n",
       "      <th>60+ Years (Doses Administered)</th>\n",
       "      <th>18-44 Years(Individuals Vaccinated)</th>\n",
       "      <th>45-60 Years(Individuals Vaccinated)</th>\n",
       "      <th>60+ Years(Individuals Vaccinated)</th>\n",
       "      <th>Male(Individuals Vaccinated)</th>\n",
       "      <th>Female(Individuals Vaccinated)</th>\n",
       "      <th>Transgender(Individuals Vaccinated)</th>\n",
       "      <th>Total</th>\n",
       "    </tr>\n",
       "  </thead>\n",
       "  <tbody>\n",
       "    <tr>\n",
       "      <th>212</th>\n",
       "      <td>16/01/2021</td>\n",
       "      <td>Andaman and Nicobar Islands</td>\n",
       "      <td>23.0</td>\n",
       "      <td>2.0</td>\n",
       "      <td>2.0</td>\n",
       "      <td>23.0</td>\n",
       "      <td>0.0</td>\n",
       "      <td>12.0</td>\n",
       "      <td>11.0</td>\n",
       "      <td>0.0</td>\n",
       "      <td>0.0</td>\n",
       "      <td>23.0</td>\n",
       "      <td>NaN</td>\n",
       "      <td>NaN</td>\n",
       "      <td>NaN</td>\n",
       "      <td>NaN</td>\n",
       "      <td>NaN</td>\n",
       "      <td>NaN</td>\n",
       "      <td>NaN</td>\n",
       "      <td>NaN</td>\n",
       "      <td>NaN</td>\n",
       "      <td>NaN</td>\n",
       "      <td>NaN</td>\n",
       "      <td>23.0</td>\n",
       "    </tr>\n",
       "    <tr>\n",
       "      <th>213</th>\n",
       "      <td>17/01/2021</td>\n",
       "      <td>Andaman and Nicobar Islands</td>\n",
       "      <td>23.0</td>\n",
       "      <td>2.0</td>\n",
       "      <td>2.0</td>\n",
       "      <td>23.0</td>\n",
       "      <td>0.0</td>\n",
       "      <td>12.0</td>\n",
       "      <td>11.0</td>\n",
       "      <td>0.0</td>\n",
       "      <td>0.0</td>\n",
       "      <td>23.0</td>\n",
       "      <td>NaN</td>\n",
       "      <td>NaN</td>\n",
       "      <td>NaN</td>\n",
       "      <td>NaN</td>\n",
       "      <td>NaN</td>\n",
       "      <td>NaN</td>\n",
       "      <td>NaN</td>\n",
       "      <td>NaN</td>\n",
       "      <td>NaN</td>\n",
       "      <td>NaN</td>\n",
       "      <td>NaN</td>\n",
       "      <td>23.0</td>\n",
       "    </tr>\n",
       "    <tr>\n",
       "      <th>214</th>\n",
       "      <td>18/01/2021</td>\n",
       "      <td>Andaman and Nicobar Islands</td>\n",
       "      <td>42.0</td>\n",
       "      <td>9.0</td>\n",
       "      <td>2.0</td>\n",
       "      <td>42.0</td>\n",
       "      <td>0.0</td>\n",
       "      <td>29.0</td>\n",
       "      <td>13.0</td>\n",
       "      <td>0.0</td>\n",
       "      <td>0.0</td>\n",
       "      <td>42.0</td>\n",
       "      <td>NaN</td>\n",
       "      <td>NaN</td>\n",
       "      <td>NaN</td>\n",
       "      <td>NaN</td>\n",
       "      <td>NaN</td>\n",
       "      <td>NaN</td>\n",
       "      <td>NaN</td>\n",
       "      <td>NaN</td>\n",
       "      <td>NaN</td>\n",
       "      <td>NaN</td>\n",
       "      <td>NaN</td>\n",
       "      <td>42.0</td>\n",
       "    </tr>\n",
       "    <tr>\n",
       "      <th>215</th>\n",
       "      <td>19/01/2021</td>\n",
       "      <td>Andaman and Nicobar Islands</td>\n",
       "      <td>89.0</td>\n",
       "      <td>12.0</td>\n",
       "      <td>2.0</td>\n",
       "      <td>89.0</td>\n",
       "      <td>0.0</td>\n",
       "      <td>53.0</td>\n",
       "      <td>36.0</td>\n",
       "      <td>0.0</td>\n",
       "      <td>0.0</td>\n",
       "      <td>89.0</td>\n",
       "      <td>NaN</td>\n",
       "      <td>NaN</td>\n",
       "      <td>NaN</td>\n",
       "      <td>NaN</td>\n",
       "      <td>NaN</td>\n",
       "      <td>NaN</td>\n",
       "      <td>NaN</td>\n",
       "      <td>NaN</td>\n",
       "      <td>NaN</td>\n",
       "      <td>NaN</td>\n",
       "      <td>NaN</td>\n",
       "      <td>89.0</td>\n",
       "    </tr>\n",
       "    <tr>\n",
       "      <th>216</th>\n",
       "      <td>20/01/2021</td>\n",
       "      <td>Andaman and Nicobar Islands</td>\n",
       "      <td>124.0</td>\n",
       "      <td>16.0</td>\n",
       "      <td>3.0</td>\n",
       "      <td>124.0</td>\n",
       "      <td>0.0</td>\n",
       "      <td>67.0</td>\n",
       "      <td>57.0</td>\n",
       "      <td>0.0</td>\n",
       "      <td>0.0</td>\n",
       "      <td>124.0</td>\n",
       "      <td>NaN</td>\n",
       "      <td>NaN</td>\n",
       "      <td>NaN</td>\n",
       "      <td>NaN</td>\n",
       "      <td>NaN</td>\n",
       "      <td>NaN</td>\n",
       "      <td>NaN</td>\n",
       "      <td>NaN</td>\n",
       "      <td>NaN</td>\n",
       "      <td>NaN</td>\n",
       "      <td>NaN</td>\n",
       "      <td>124.0</td>\n",
       "    </tr>\n",
       "  </tbody>\n",
       "</table>\n",
       "</div>"
      ],
      "text/plain": [
       "    vaccine_date                        State  Total Doses Administered  \\\n",
       "212   16/01/2021  Andaman and Nicobar Islands                      23.0   \n",
       "213   17/01/2021  Andaman and Nicobar Islands                      23.0   \n",
       "214   18/01/2021  Andaman and Nicobar Islands                      42.0   \n",
       "215   19/01/2021  Andaman and Nicobar Islands                      89.0   \n",
       "216   20/01/2021  Andaman and Nicobar Islands                     124.0   \n",
       "\n",
       "     Sessions   Sites   First Dose Administered  Second Dose Administered  \\\n",
       "212       2.0      2.0                     23.0                       0.0   \n",
       "213       2.0      2.0                     23.0                       0.0   \n",
       "214       9.0      2.0                     42.0                       0.0   \n",
       "215      12.0      2.0                     89.0                       0.0   \n",
       "216      16.0      3.0                    124.0                       0.0   \n",
       "\n",
       "     Male (Doses Administered)  Female (Doses Administered)  \\\n",
       "212                       12.0                         11.0   \n",
       "213                       12.0                         11.0   \n",
       "214                       29.0                         13.0   \n",
       "215                       53.0                         36.0   \n",
       "216                       67.0                         57.0   \n",
       "\n",
       "     Transgender (Doses Administered)   Covaxin (Doses Administered)  \\\n",
       "212                               0.0                            0.0   \n",
       "213                               0.0                            0.0   \n",
       "214                               0.0                            0.0   \n",
       "215                               0.0                            0.0   \n",
       "216                               0.0                            0.0   \n",
       "\n",
       "     CoviShield (Doses Administered)  Sputnik V (Doses Administered)  AEFI  \\\n",
       "212                             23.0                             NaN   NaN   \n",
       "213                             23.0                             NaN   NaN   \n",
       "214                             42.0                             NaN   NaN   \n",
       "215                             89.0                             NaN   NaN   \n",
       "216                            124.0                             NaN   NaN   \n",
       "\n",
       "     18-44 Years (Doses Administered)  45-60 Years (Doses Administered)  \\\n",
       "212                               NaN                               NaN   \n",
       "213                               NaN                               NaN   \n",
       "214                               NaN                               NaN   \n",
       "215                               NaN                               NaN   \n",
       "216                               NaN                               NaN   \n",
       "\n",
       "     60+ Years (Doses Administered)  18-44 Years(Individuals Vaccinated)  \\\n",
       "212                             NaN                                  NaN   \n",
       "213                             NaN                                  NaN   \n",
       "214                             NaN                                  NaN   \n",
       "215                             NaN                                  NaN   \n",
       "216                             NaN                                  NaN   \n",
       "\n",
       "     45-60 Years(Individuals Vaccinated)  60+ Years(Individuals Vaccinated)  \\\n",
       "212                                  NaN                                NaN   \n",
       "213                                  NaN                                NaN   \n",
       "214                                  NaN                                NaN   \n",
       "215                                  NaN                                NaN   \n",
       "216                                  NaN                                NaN   \n",
       "\n",
       "     Male(Individuals Vaccinated)  Female(Individuals Vaccinated)  \\\n",
       "212                           NaN                             NaN   \n",
       "213                           NaN                             NaN   \n",
       "214                           NaN                             NaN   \n",
       "215                           NaN                             NaN   \n",
       "216                           NaN                             NaN   \n",
       "\n",
       "     Transgender(Individuals Vaccinated)  Total  \n",
       "212                                  NaN   23.0  \n",
       "213                                  NaN   23.0  \n",
       "214                                  NaN   42.0  \n",
       "215                                  NaN   89.0  \n",
       "216                                  NaN  124.0  "
      ]
     },
     "execution_count": 28,
     "metadata": {},
     "output_type": "execute_result"
    }
   ],
   "source": [
    "# Renaming the column\n",
    "vaccine.rename(columns={'Total Individuals Vaccinated':'Total'},inplace=True)\n",
    "vaccine.head()"
   ]
  },
  {
   "cell_type": "code",
   "execution_count": 29,
   "metadata": {},
   "outputs": [
    {
     "name": "stdout",
     "output_type": "stream",
     "text": [
      "<class 'pandas.core.frame.DataFrame'>\n",
      "Int64Index: 7633 entries, 212 to 7844\n",
      "Data columns (total 24 columns):\n",
      " #   Column                               Non-Null Count  Dtype  \n",
      "---  ------                               --------------  -----  \n",
      " 0   vaccine_date                         7633 non-null   object \n",
      " 1   State                                7633 non-null   object \n",
      " 2   Total Doses Administered             7415 non-null   float64\n",
      " 3   Sessions                             7415 non-null   float64\n",
      " 4    Sites                               7415 non-null   float64\n",
      " 5   First Dose Administered              7415 non-null   float64\n",
      " 6   Second Dose Administered             7415 non-null   float64\n",
      " 7   Male (Doses Administered)            7415 non-null   float64\n",
      " 8   Female (Doses Administered)          7415 non-null   float64\n",
      " 9   Transgender (Doses Administered)     7415 non-null   float64\n",
      " 10   Covaxin (Doses Administered)        7415 non-null   float64\n",
      " 11  CoviShield (Doses Administered)      7415 non-null   float64\n",
      " 12  Sputnik V (Doses Administered)       2914 non-null   float64\n",
      " 13  AEFI                                 5291 non-null   float64\n",
      " 14  18-44 Years (Doses Administered)     1656 non-null   float64\n",
      " 15  45-60 Years (Doses Administered)     1656 non-null   float64\n",
      " 16  60+ Years (Doses Administered)       1656 non-null   float64\n",
      " 17  18-44 Years(Individuals Vaccinated)  3632 non-null   float64\n",
      " 18  45-60 Years(Individuals Vaccinated)  3633 non-null   float64\n",
      " 19  60+ Years(Individuals Vaccinated)    3633 non-null   float64\n",
      " 20  Male(Individuals Vaccinated)         0 non-null      float64\n",
      " 21  Female(Individuals Vaccinated)       0 non-null      float64\n",
      " 22  Transgender(Individuals Vaccinated)  0 non-null      float64\n",
      " 23  Total                                5759 non-null   float64\n",
      "dtypes: float64(22), object(2)\n",
      "memory usage: 1.5+ MB\n"
     ]
    }
   ],
   "source": [
    "vaccine.info()"
   ]
  },
  {
   "cell_type": "code",
   "execution_count": 30,
   "metadata": {},
   "outputs": [
    {
     "data": {
      "text/html": [
       "<div>\n",
       "<style scoped>\n",
       "    .dataframe tbody tr th:only-of-type {\n",
       "        vertical-align: middle;\n",
       "    }\n",
       "\n",
       "    .dataframe tbody tr th {\n",
       "        vertical-align: top;\n",
       "    }\n",
       "\n",
       "    .dataframe thead th {\n",
       "        text-align: right;\n",
       "    }\n",
       "</style>\n",
       "<table border=\"1\" class=\"dataframe\">\n",
       "  <thead>\n",
       "    <tr style=\"text-align: right;\">\n",
       "      <th></th>\n",
       "      <th>State</th>\n",
       "      <th>Total</th>\n",
       "    </tr>\n",
       "  </thead>\n",
       "  <tbody>\n",
       "    <tr>\n",
       "      <th>0</th>\n",
       "      <td>Maharashtra</td>\n",
       "      <td>1.403075e+09</td>\n",
       "    </tr>\n",
       "    <tr>\n",
       "      <th>1</th>\n",
       "      <td>Uttar Pradesh</td>\n",
       "      <td>1.200575e+09</td>\n",
       "    </tr>\n",
       "    <tr>\n",
       "      <th>2</th>\n",
       "      <td>Rajasthan</td>\n",
       "      <td>1.141163e+09</td>\n",
       "    </tr>\n",
       "    <tr>\n",
       "      <th>3</th>\n",
       "      <td>Gujarat</td>\n",
       "      <td>1.078261e+09</td>\n",
       "    </tr>\n",
       "    <tr>\n",
       "      <th>4</th>\n",
       "      <td>West Bengal</td>\n",
       "      <td>9.250227e+08</td>\n",
       "    </tr>\n",
       "  </tbody>\n",
       "</table>\n",
       "</div>"
      ],
      "text/plain": [
       "           State         Total\n",
       "0    Maharashtra  1.403075e+09\n",
       "1  Uttar Pradesh  1.200575e+09\n",
       "2      Rajasthan  1.141163e+09\n",
       "3        Gujarat  1.078261e+09\n",
       "4    West Bengal  9.250227e+08"
      ]
     },
     "execution_count": 30,
     "metadata": {},
     "output_type": "execute_result"
    }
   ],
   "source": [
    "# Most Vaccinated State in India\n",
    "most_vacc=vaccine.groupby('State')['Total'].sum().sort_values(ascending=False).reset_index()\n",
    "most_vacc.head()"
   ]
  },
  {
   "cell_type": "code",
   "execution_count": 31,
   "metadata": {},
   "outputs": [
    {
     "data": {
      "image/png": "[encoded data removed]",
      "text/plain": [
       "<Figure size 1000x500 with 1 Axes>"
      ]
     },
     "metadata": {},
     "output_type": "display_data"
    }
   ],
   "source": [
    "# Visualizing top 5 vaccinated state in India\n",
    "plt.figure(figsize=(10,5))\n",
    "sns.barplot(data=most_vacc.iloc[:5,:],x='State',y='Total')\n",
    "plt.title('Top 5 Vaccinated State in India')\n",
    "plt.xlabel('States')\n",
    "plt.ylabel('Vaccinations')\n",
    "plt.show()"
   ]
  },
  {
   "cell_type": "code",
   "execution_count": 32,
   "metadata": {},
   "outputs": [
    {
     "data": {
      "text/html": [
       "<div>\n",
       "<style scoped>\n",
       "    .dataframe tbody tr th:only-of-type {\n",
       "        vertical-align: middle;\n",
       "    }\n",
       "\n",
       "    .dataframe tbody tr th {\n",
       "        vertical-align: top;\n",
       "    }\n",
       "\n",
       "    .dataframe thead th {\n",
       "        text-align: right;\n",
       "    }\n",
       "</style>\n",
       "<table border=\"1\" class=\"dataframe\">\n",
       "  <thead>\n",
       "    <tr style=\"text-align: right;\">\n",
       "      <th></th>\n",
       "      <th>State</th>\n",
       "      <th>Total</th>\n",
       "    </tr>\n",
       "  </thead>\n",
       "  <tbody>\n",
       "    <tr>\n",
       "      <th>31</th>\n",
       "      <td>Sikkim</td>\n",
       "      <td>16136752.0</td>\n",
       "    </tr>\n",
       "    <tr>\n",
       "      <th>32</th>\n",
       "      <td>Dadra and Nagar Haveli and Daman and Diu</td>\n",
       "      <td>11358600.0</td>\n",
       "    </tr>\n",
       "    <tr>\n",
       "      <th>33</th>\n",
       "      <td>Ladakh</td>\n",
       "      <td>9466289.0</td>\n",
       "    </tr>\n",
       "    <tr>\n",
       "      <th>34</th>\n",
       "      <td>Andaman and Nicobar Islands</td>\n",
       "      <td>8102125.0</td>\n",
       "    </tr>\n",
       "    <tr>\n",
       "      <th>35</th>\n",
       "      <td>Lakshadweep</td>\n",
       "      <td>2124715.0</td>\n",
       "    </tr>\n",
       "  </tbody>\n",
       "</table>\n",
       "</div>"
      ],
      "text/plain": [
       "                                       State       Total\n",
       "31                                    Sikkim  16136752.0\n",
       "32  Dadra and Nagar Haveli and Daman and Diu  11358600.0\n",
       "33                                    Ladakh   9466289.0\n",
       "34               Andaman and Nicobar Islands   8102125.0\n",
       "35                               Lakshadweep   2124715.0"
      ]
     },
     "execution_count": 32,
     "metadata": {},
     "output_type": "execute_result"
    }
   ],
   "source": [
    "most_vacc.tail()"
   ]
  },
  {
   "cell_type": "code",
   "execution_count": 33,
   "metadata": {},
   "outputs": [
    {
     "data": {
      "image/png": "[encoded data removed]",
      "text/plain": [
       "<Figure size 1000x500 with 1 Axes>"
      ]
     },
     "metadata": {},
     "output_type": "display_data"
    }
   ],
   "source": [
    "# Visualizing least 5 vaccinated state in India\n",
    "plt.figure(figsize=(10,5))\n",
    "sns.barplot(data=most_vacc.iloc[-5:,:],x='State',y='Total')\n",
    "plt.title('Least 5 Vaccinated State in India')\n",
    "plt.xlabel('States')\n",
    "plt.xticks(rotation=65)\n",
    "plt.ylabel('Vaccinations')\n",
    "plt.show()"
   ]
  },
  {
   "cell_type": "code",
   "execution_count": null,
   "metadata": {},
   "outputs": [],
   "source": []
  }
 ],
 "metadata": {
  "kernelspec": {
   "display_name": "base",
   "language": "python",
   "name": "python3"
  },
  "language_info": {
   "codemirror_mode": {
    "name": "ipython",
    "version": 3
   },
   "file_extension": ".py",
   "mimetype": "text/x-python",
   "name": "python",
   "nbconvert_exporter": "python",
   "pygments_lexer": "ipython3",
   "version": "3.9.13"
  }
 },
 "nbformat": 4,
 "nbformat_minor": 2
}
