{
 "cells": [
  {
   "cell_type": "code",
   "execution_count": 25,
   "metadata": {},
   "outputs": [],
   "source": [
    "import requests\n",
    "from bs4 import BeautifulSoup\n",
    "from smtplib import SMTP"
   ]
  },
  {
   "cell_type": "code",
   "execution_count": 3,
   "metadata": {},
   "outputs": [],
   "source": [
    "product_url='https://www.amazon.in/dp/B0CCP9RSG9/ref=AF_WIN_bub_w_cml_t_4?pf_rd_r=CA4GEBVGGHP84XCQYCFE&pf_rd_p=53cd3974-ac8c-4375-85ed-2d5c1e79b14f&pf_rd_m=A1VBAL9TL5WCBF&pf_rd_s=merchandised-search-7&pf_rd_t=&pf_rd_i=1375424031&th=1'\n",
    "desired_price=60000.00"
   ]
  },
  {
   "cell_type": "code",
   "execution_count": 29,
   "metadata": {},
   "outputs": [],
   "source": [
    "def check_price():\n",
    "        response=requests.get(product_url,headers={'User-Agent': 'Mozilla/5.0 (Windows NT 10.0; Win64; x64) AppleWebKit/537.36 (KHTML, like Gecko) Chrome/91.0.4472.124 Safari/537.36'}) \n",
    "        # If you get response 503 means its error and 200 for Okay\n",
    "        soup=BeautifulSoup(response.content,\"html.parser\")\n",
    "        price_tag=soup.find('span',{'class':'a-price-whole'})\n",
    "        price_str = price_tag.get_text()\n",
    "        price_str = price_str.replace('₹', '').replace(',', '').strip()\n",
    "        current_price = float(price_str)"
   ]
  },
  {
   "cell_type": "code",
   "execution_count": 26,
   "metadata": {},
   "outputs": [],
   "source": [
    "# Simple Mail Transfer Protocol\n",
    "SMTP_SERVER=\"smtp.gmail.com\"\n",
    "PORT=587\n",
    "EMAIL_ID='youremail@example.com'\n",
    "PASSWORD='yourgeneratedpassword' # Write App Generate Password"
   ]
  },
  {
   "cell_type": "code",
   "execution_count": 28,
   "metadata": {},
   "outputs": [],
   "source": [
    "def notify():\n",
    "    server=SMTP(SMTP_SERVER,PORT)\n",
    "    server.starttls() #tls - transport layer security\n",
    "    server.login(EMAIL_ID,PASSWORD)\n",
    "\n",
    "    subject='Price Drop Alert!'\n",
    "    body=f'The price of the product has dropped to ₹{current_price}. Check the link: {product_url}'\n",
    "    msg=f'Subject: {subject}/n/n{body}'\n",
    "\n",
    "    server.sendmail(EMAIL_ID,EMAIL_ID,msg)\n",
    "    server.quit()"
   ]
  },
  {
   "cell_type": "code",
   "execution_count": null,
   "metadata": {},
   "outputs": [],
   "source": [
    "if check_price()<=desired_price:\n",
    "    notify()"
   ]
  },
  {
   "cell_type": "code",
   "execution_count": null,
   "metadata": {},
   "outputs": [],
   "source": []
  }
 ],
 "metadata": {
  "kernelspec": {
   "display_name": "base",
   "language": "python",
   "name": "python3"
  },
  "language_info": {
   "codemirror_mode": {
    "name": "ipython",
    "version": 3
   },
   "file_extension": ".py",
   "mimetype": "text/x-python",
   "name": "python",
   "nbconvert_exporter": "python",
   "pygments_lexer": "ipython3",
   "version": "3.9.13"
  }
 },
 "nbformat": 4,
 "nbformat_minor": 2
}
