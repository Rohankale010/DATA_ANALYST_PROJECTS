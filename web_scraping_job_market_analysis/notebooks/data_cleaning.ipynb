{
 "cells": [
  {
   "cell_type": "code",
   "execution_count": 19,
   "id": "34dfc178",
   "metadata": {},
   "outputs": [],
   "source": [
    "import pandas as pd\n",
    "import re"
   ]
  },
  {
   "cell_type": "code",
   "execution_count": 20,
   "id": "b0ca8e67",
   "metadata": {},
   "outputs": [],
   "source": [
    "df=pd.read_csv('D:\\Projects\\DATA_ANALYST_PROJECTS\\web_scraping_job_market_analysis\\data/naukri_data_analyst_jobs.csv')"
   ]
  },
  {
   "cell_type": "code",
   "execution_count": 21,
   "id": "bc877b8d",
   "metadata": {},
   "outputs": [
    {
     "data": {
      "text/html": [
       "<div>\n",
       "<style scoped>\n",
       "    .dataframe tbody tr th:only-of-type {\n",
       "        vertical-align: middle;\n",
       "    }\n",
       "\n",
       "    .dataframe tbody tr th {\n",
       "        vertical-align: top;\n",
       "    }\n",
       "\n",
       "    .dataframe thead th {\n",
       "        text-align: right;\n",
       "    }\n",
       "</style>\n",
       "<table border=\"1\" class=\"dataframe\">\n",
       "  <thead>\n",
       "    <tr style=\"text-align: right;\">\n",
       "      <th></th>\n",
       "      <th>Job Title</th>\n",
       "      <th>Company Name</th>\n",
       "      <th>Experience Required</th>\n",
       "      <th>Salary</th>\n",
       "      <th>Location</th>\n",
       "      <th>Posted</th>\n",
       "    </tr>\n",
       "  </thead>\n",
       "  <tbody>\n",
       "    <tr>\n",
       "      <th>0</th>\n",
       "      <td>Data Analyst</td>\n",
       "      <td>Infineon</td>\n",
       "      <td>0-2 Yrs</td>\n",
       "      <td>Not disclosed</td>\n",
       "      <td>Bengaluru</td>\n",
       "      <td>1 Day Ago</td>\n",
       "    </tr>\n",
       "    <tr>\n",
       "      <th>1</th>\n",
       "      <td>Offshore Data Analyst</td>\n",
       "      <td>NTT DATA, Inc.</td>\n",
       "      <td>3-5 Yrs</td>\n",
       "      <td>Not disclosed</td>\n",
       "      <td>Bengaluru</td>\n",
       "      <td>Few Hours Ago</td>\n",
       "    </tr>\n",
       "    <tr>\n",
       "      <th>2</th>\n",
       "      <td>Data Analyst L3</td>\n",
       "      <td>Wipro</td>\n",
       "      <td>1-3 Yrs</td>\n",
       "      <td>Not disclosed</td>\n",
       "      <td>Bengaluru</td>\n",
       "      <td>1 Day Ago</td>\n",
       "    </tr>\n",
       "    <tr>\n",
       "      <th>3</th>\n",
       "      <td>Python Developer, Data Analyst, - Year of Unde...</td>\n",
       "      <td>Codesphere Solutions</td>\n",
       "      <td>0-5 Yrs</td>\n",
       "      <td>8-18 Lacs PA</td>\n",
       "      <td>Hybrid - Bengaluru</td>\n",
       "      <td>2 Days Ago</td>\n",
       "    </tr>\n",
       "    <tr>\n",
       "      <th>4</th>\n",
       "      <td>Data Analyst - Python/Hadoop</td>\n",
       "      <td>Sadup Soft</td>\n",
       "      <td>3-6 Yrs</td>\n",
       "      <td>Not disclosed</td>\n",
       "      <td>Bengaluru</td>\n",
       "      <td>1 Day Ago</td>\n",
       "    </tr>\n",
       "  </tbody>\n",
       "</table>\n",
       "</div>"
      ],
      "text/plain": [
       "                                           Job Title          Company Name  \\\n",
       "0                                       Data Analyst              Infineon   \n",
       "1                              Offshore Data Analyst        NTT DATA, Inc.   \n",
       "2                                    Data Analyst L3                 Wipro   \n",
       "3  Python Developer, Data Analyst, - Year of Unde...  Codesphere Solutions   \n",
       "4                       Data Analyst - Python/Hadoop            Sadup Soft   \n",
       "\n",
       "  Experience Required         Salary            Location         Posted  \n",
       "0             0-2 Yrs  Not disclosed           Bengaluru      1 Day Ago  \n",
       "1             3-5 Yrs  Not disclosed           Bengaluru  Few Hours Ago  \n",
       "2             1-3 Yrs  Not disclosed           Bengaluru      1 Day Ago  \n",
       "3             0-5 Yrs   8-18 Lacs PA  Hybrid - Bengaluru     2 Days Ago  \n",
       "4             3-6 Yrs  Not disclosed           Bengaluru      1 Day Ago  "
      ]
     },
     "execution_count": 21,
     "metadata": {},
     "output_type": "execute_result"
    }
   ],
   "source": [
    "df.head()"
   ]
  },
  {
   "cell_type": "code",
   "execution_count": 22,
   "id": "9941cd93",
   "metadata": {},
   "outputs": [
    {
     "name": "stdout",
     "output_type": "stream",
     "text": [
      "<class 'pandas.core.frame.DataFrame'>\n",
      "RangeIndex: 1000 entries, 0 to 999\n",
      "Data columns (total 6 columns):\n",
      " #   Column               Non-Null Count  Dtype \n",
      "---  ------               --------------  ----- \n",
      " 0   Job Title            1000 non-null   object\n",
      " 1   Company Name         1000 non-null   object\n",
      " 2   Experience Required  1000 non-null   object\n",
      " 3   Salary               1000 non-null   object\n",
      " 4   Location             1000 non-null   object\n",
      " 5   Posted               1000 non-null   object\n",
      "dtypes: object(6)\n",
      "memory usage: 47.0+ KB\n"
     ]
    }
   ],
   "source": [
    "df.info()"
   ]
  },
  {
   "cell_type": "code",
   "execution_count": 23,
   "id": "f2f743ea",
   "metadata": {},
   "outputs": [],
   "source": [
    "df.drop_duplicates(inplace=True)"
   ]
  },
  {
   "cell_type": "code",
   "execution_count": 24,
   "id": "364dbf39",
   "metadata": {},
   "outputs": [],
   "source": [
    "df.dropna(inplace=True)"
   ]
  },
  {
   "cell_type": "code",
   "execution_count": 25,
   "id": "24db487c",
   "metadata": {},
   "outputs": [],
   "source": [
    "df['Experience Required'] = df['Experience Required'].replace(\n",
    "    to_replace=r'\\d{2} [A-Za-z]{3} - \\d{2} [A-Za-z]{3}', #\\d{2} = two digits (like 09) ,[A-Za-z]{3} = three letters (like Apr)\n",
    "    value=0, \n",
    "    regex=True\n",
    ")"
   ]
  },
  {
   "cell_type": "code",
   "execution_count": 26,
   "id": "aaee8657",
   "metadata": {},
   "outputs": [],
   "source": [
    "df['Experience Required']=df['Experience Required'].replace({'3 months duration':0.25,'6 months duration':0.5,'No fixed duration':0})"
   ]
  },
  {
   "cell_type": "code",
   "execution_count": 27,
   "id": "dfaa5f2d",
   "metadata": {},
   "outputs": [],
   "source": [
    "df['Experience Required']=df['Experience Required'].replace(to_replace='Yrs',value='',regex=True)"
   ]
  },
  {
   "cell_type": "code",
   "execution_count": 34,
   "id": "c254b277",
   "metadata": {},
   "outputs": [
    {
     "data": {
      "text/plain": [
       "array(['Not disclosed', '800000-1800000', '325000-800000',\n",
       "       '175000-300000', '175000-400000', '50000-200000',\n",
       "       '1000000-1600000', '400000-700000', '1400000-2400000',\n",
       "       '550000-1100000', '3500000-4000000', '1300000-1500000',\n",
       "       '300000-450000', '225000-300000', '275000-550000', '450000-650000',\n",
       "       '500000-700000', '300000-400000', '1200000-1600000',\n",
       "       '1500000-1800000', '1200000-1500000', '1000000-1500000',\n",
       "       '1500000-2000000', '175000-250000', '800000-1100000',\n",
       "       '500000-800000', '300000-425000', '250000-375000',\n",
       "       '1300000-1800000', '400000-800000', '400000-425000',\n",
       "       '1100000-1900000', '900000-1700000', 'Unpaid', '950000-1950000',\n",
       "       '800000-1500000', '600000-750000', '500000-1000000',\n",
       "       '700000-1000000', '2500000-3500000', '400000-900000',\n",
       "       '325000-650000', '200000-350000', '800000-1000000',\n",
       "       '1000000-1200000', '1300000-1700000', '100000-400000',\n",
       "       '475000-800000', '200000-500000', '225000-375000',\n",
       "       '1100000-1500000', '700000-1200000', '175000-350000',\n",
       "       '900000-1200000', '500000-1500000', '0', '60000-90000',\n",
       "       '600000-900000', '1500000-2750000', '1000000-1900000',\n",
       "       '400000-600000', '750000-1200000', '375000-850000',\n",
       "       '400000-550000', '144000', '600000-1200000', '900000-1300000',\n",
       "       '700000-1400000', '800000-1300000', '1000000-2000000',\n",
       "       '1200000-2200000', '1000000-1800000', '600000-700000',\n",
       "       '200000-300000', '150000-225000', '300000-800000',\n",
       "       '900000-1000000', '300000-375000', '950000-1500000',\n",
       "       '100000-150000', '325000-500000', '250000-350000', '96000',\n",
       "       '200000-225000', '300000-420000', '1200000-2000000',\n",
       "       '300000-600000', '1700000-2750000', '100000-500000',\n",
       "       '1800000-2000000', '300000-500000', '1500000-2250000',\n",
       "       '50000-60000', '1000000-1400000', '500000-600000', '350000-475000',\n",
       "       '4000000-7000000', '400000-650000', '1300000-1600000',\n",
       "       '2500000-3000000'], dtype=object)"
      ]
     },
     "execution_count": 34,
     "metadata": {},
     "output_type": "execute_result"
    }
   ],
   "source": [
    "df['Salary'].unique()"
   ]
  },
  {
   "cell_type": "code",
   "execution_count": 29,
   "id": "9d2361cc",
   "metadata": {},
   "outputs": [],
   "source": [
    "df['Salary']=df['Salary'].replace('(Including Variable: 10.0%)','',regex=True)\n",
    "df['Salary']=df['Salary'].replace('(Including Variable: 30.0%)','',regex=True)"
   ]
  },
  {
   "cell_type": "code",
   "execution_count": 32,
   "id": "5acbeb71",
   "metadata": {},
   "outputs": [],
   "source": [
    "def convert_salary_range(salary):\n",
    "    if isinstance(salary,str):      # is use to check we work in string format\n",
    "        salary=salary.replace('PA','')\n",
    "        salary=salary.replace('()','').strip()\n",
    "\n",
    "    if '-' in salary:\n",
    "        parts=salary.split('-')\n",
    "        low=parts[0].strip()\n",
    "        high=parts[1].strip()\n",
    "\n",
    "        if ',' in low:\n",
    "            low=low.replace(',','').strip()\n",
    "        else:\n",
    "            low=float(low)*100000\n",
    "\n",
    "        if ',' in high:\n",
    "            high=high.replace(',','').strip()\n",
    "        else:\n",
    "            high=float(high.replace('Lacs',''))*100000\n",
    "\n",
    "        return str(int(low)) + '-' + str(int(high))\n",
    "    \n",
    "    elif '/month' in salary.lower():\n",
    "        amounts=salary.replace('/month','').replace(',','').strip()\n",
    "        return str(int(amounts)*12)\n",
    "    \n",
    "    else:\n",
    "        return salary"
   ]
  },
  {
   "cell_type": "code",
   "execution_count": 33,
   "id": "93b9c009",
   "metadata": {},
   "outputs": [],
   "source": [
    "df['Salary']=df['Salary'].apply(convert_salary_range)"
   ]
  },
  {
   "cell_type": "code",
   "execution_count": 90,
   "id": "27fc1c78",
   "metadata": {},
   "outputs": [
    {
     "data": {
      "text/plain": [
       "array(['1 Day Ago', 'Few Hours Ago', '2 Days Ago', '5 Days Ago',\n",
       "       '7 Days Ago', '14 Days Ago', '8 Days Ago', '6 Days Ago',\n",
       "       '15 Days Ago', '13 Days Ago', '12 Days Ago', '22 Days Ago',\n",
       "       '29 Days Ago', '11 Days Ago', '30+ Days Ago', '4 Days Ago',\n",
       "       '9 Days Ago', '16 Days Ago', '18 Days Ago', '19 Days Ago',\n",
       "       '30 Days Ago', '21 Days Ago', 'Starts in 1-3 months',\n",
       "       '27 Days Ago', '28 Days Ago', '17 Days Ago', '20 Days Ago',\n",
       "       '24 Days Ago', '23 Days Ago', '25 Days Ago', '10 Days Ago',\n",
       "       '26 Days Ago', \"Starts : 17th Apr' 25\", 'Just Now'], dtype=object)"
      ]
     },
     "execution_count": 90,
     "metadata": {},
     "output_type": "execute_result"
    }
   ],
   "source": [
    "df['Posted'].unique()"
   ]
  },
  {
   "cell_type": "code",
   "execution_count": 91,
   "id": "ce8c2177",
   "metadata": {},
   "outputs": [],
   "source": [
    "df['Posted']=df['Posted'].replace({'Day Ago':'','Days Ago':'','Few Hours Ago':'today','Just Now':'today','Starts in 1-3 months':'later',\"Starts : 17th Apr' 25\":'later'},regex=True)"
   ]
  },
  {
   "cell_type": "code",
   "execution_count": null,
   "id": "a6842c75",
   "metadata": {},
   "outputs": [],
   "source": [
    "df['Job Title']=df['Job Title'].apply(lambda x:x.split('-')[0].strip())\n",
    "df['Job Title']=df['Job Title'].replace('Walk','MIS/Operations/Data Analyst')\n"
   ]
  },
  {
   "cell_type": "code",
   "execution_count": 93,
   "id": "63b2cfae",
   "metadata": {},
   "outputs": [
    {
     "data": {
      "text/html": [
       "<div>\n",
       "<style scoped>\n",
       "    .dataframe tbody tr th:only-of-type {\n",
       "        vertical-align: middle;\n",
       "    }\n",
       "\n",
       "    .dataframe tbody tr th {\n",
       "        vertical-align: top;\n",
       "    }\n",
       "\n",
       "    .dataframe thead th {\n",
       "        text-align: right;\n",
       "    }\n",
       "</style>\n",
       "<table border=\"1\" class=\"dataframe\">\n",
       "  <thead>\n",
       "    <tr style=\"text-align: right;\">\n",
       "      <th></th>\n",
       "      <th>Job Title</th>\n",
       "      <th>Company Name</th>\n",
       "      <th>Experience Required</th>\n",
       "      <th>Salary</th>\n",
       "      <th>Location</th>\n",
       "      <th>Posted</th>\n",
       "    </tr>\n",
       "  </thead>\n",
       "  <tbody>\n",
       "    <tr>\n",
       "      <th>0</th>\n",
       "      <td>Data Analyst</td>\n",
       "      <td>Infineon</td>\n",
       "      <td>0-2</td>\n",
       "      <td>Not disclosed</td>\n",
       "      <td>Bengaluru</td>\n",
       "      <td>1</td>\n",
       "    </tr>\n",
       "    <tr>\n",
       "      <th>1</th>\n",
       "      <td>Offshore Data Analyst</td>\n",
       "      <td>NTT DATA, Inc.</td>\n",
       "      <td>3-5</td>\n",
       "      <td>Not disclosed</td>\n",
       "      <td>Bengaluru</td>\n",
       "      <td>today</td>\n",
       "    </tr>\n",
       "    <tr>\n",
       "      <th>2</th>\n",
       "      <td>Data Analyst L3</td>\n",
       "      <td>Wipro</td>\n",
       "      <td>1-3</td>\n",
       "      <td>Not disclosed</td>\n",
       "      <td>Bengaluru</td>\n",
       "      <td>1</td>\n",
       "    </tr>\n",
       "    <tr>\n",
       "      <th>3</th>\n",
       "      <td>Python Developer, Data Analyst,</td>\n",
       "      <td>Codesphere Solutions</td>\n",
       "      <td>0-5</td>\n",
       "      <td>800000-1800000</td>\n",
       "      <td>Hybrid - Bengaluru</td>\n",
       "      <td>2</td>\n",
       "    </tr>\n",
       "    <tr>\n",
       "      <th>4</th>\n",
       "      <td>Data Analyst</td>\n",
       "      <td>Sadup Soft</td>\n",
       "      <td>3-6</td>\n",
       "      <td>Not disclosed</td>\n",
       "      <td>Bengaluru</td>\n",
       "      <td>1</td>\n",
       "    </tr>\n",
       "  </tbody>\n",
       "</table>\n",
       "</div>"
      ],
      "text/plain": [
       "                         Job Title          Company Name Experience Required  \\\n",
       "0                     Data Analyst              Infineon                0-2    \n",
       "1            Offshore Data Analyst        NTT DATA, Inc.                3-5    \n",
       "2                  Data Analyst L3                 Wipro                1-3    \n",
       "3  Python Developer, Data Analyst,  Codesphere Solutions                0-5    \n",
       "4                     Data Analyst            Sadup Soft                3-6    \n",
       "\n",
       "           Salary            Location Posted  \n",
       "0   Not disclosed           Bengaluru     1   \n",
       "1   Not disclosed           Bengaluru  today  \n",
       "2   Not disclosed           Bengaluru     1   \n",
       "3  800000-1800000  Hybrid - Bengaluru     2   \n",
       "4   Not disclosed           Bengaluru     1   "
      ]
     },
     "execution_count": 93,
     "metadata": {},
     "output_type": "execute_result"
    }
   ],
   "source": [
    "df.head()"
   ]
  },
  {
   "cell_type": "code",
   "execution_count": 97,
   "id": "03c278ed",
   "metadata": {},
   "outputs": [
    {
     "data": {
      "text/plain": [
       "array(['Bengaluru', 'Hybrid - Bengaluru', 'Pune', 'Hisar', 'Remote',\n",
       "       'Kolkata, Mumbai, New Delhi, Hyderabad, Pune, Chennai, Bengaluru',\n",
       "       'Ahmedabad', 'Surat', 'Puducherry', 'Hyderabad', 'Gurugram',\n",
       "       'Mumbai', 'Noida', 'Hybrid - Noida, Hyderabad, Gurugram',\n",
       "       'Kolkata', 'Hybrid - Mumbai (All Areas)(Powai)', 'Goa',\n",
       "       'New Delhi', 'Ankleshwar', 'Mumbai, Delhi / NCR, Bengaluru',\n",
       "       'Hyderabad, Bengaluru', 'Hybrid - Hyderabad, Chennai, Bengaluru',\n",
       "       'Hyderabad(Gachibowli)', 'Chandigarh',\n",
       "       'Hyderabad, Chennai, Bengaluru', 'Chennai, Gurugram, Bengaluru',\n",
       "       'Bengaluru(Bannerghatta Road)', 'Pune, Bengaluru',\n",
       "       'Bengaluru(HSR Layout)', 'Hybrid - Coimbatore', 'India',\n",
       "       'New Delhi(Kirti Nagar)', 'Hybrid - Pune(Kalyani Nagar)',\n",
       "       'Chennai', 'Hybrid - Hyderabad', 'Mumbai, Hyderabad',\n",
       "       'Hyderabad, Gurugram', 'Hybrid - Hyderabad, Bengaluru',\n",
       "       'Mumbai, Bengaluru', 'Hybrid - Kochi, Visakhapatnam, Coimbatore',\n",
       "       'Hybrid - Kolkata, Delhi / NCR, Mumbai (All Areas)',\n",
       "       'Gurugram, Bengaluru', 'Pune, Chennai, Bengaluru',\n",
       "       'Kochi, Thrissur, Kozhikode, Thiruvananthapuram', 'Thane',\n",
       "       'Saudi Arabia, United Arab Emirates', 'Gurugram(Saini Khera)',\n",
       "       'Bengaluru(Devarabeesana Halli)', 'Chengalpattu', 'Jaipur',\n",
       "       'Faridabad', 'Mumbai Suburban, Mumbai (All Areas)(Thane East +2)',\n",
       "       'Pune, Chennai, Jaipur, Bengaluru', 'Mumbai (All Areas)',\n",
       "       'Chennai, Bengaluru', 'Hybrid - Hyderabad, Pune, Bengaluru',\n",
       "       'Hyderabad, Pune, Bengaluru', 'Sonipat',\n",
       "       'Hybrid - New Delhi, Gurugram, Delhi / NCR', 'Ahmedabad(Naroda)',\n",
       "       'Vijayawada', 'Patna', 'Noida, Chandigarh, Lucknow, Gurugram',\n",
       "       'Kochi', 'Ludhiana', 'Navi Mumbai, Mumbai (All Areas)',\n",
       "       'Hybrid - Pune', 'Mumbai(Andheri East)', 'Pune, Chennai',\n",
       "       'Hyderabad, Coimbatore, Thodupuzha, Thiruvananthapuram, Kochi, Kolkata, Kannur, Indore, Nagpur, Pune, Lucknow, Kozhikode, Bengaluru',\n",
       "       'Pune(Pune Mumbai Highway)', 'Thane, Goregaon', 'Lalitpur',\n",
       "       'Coimbatore', 'Rajkot', 'New Delhi, Gurugram',\n",
       "       'Madurai, Tiruppur, Salem, Chennai, Tiruchirapalli, Coimbatore',\n",
       "       'Delhi', 'Noida, New Delhi', 'Kota, Nashik', 'Jhansi', 'Lucknow',\n",
       "       'Delhi / NCR', 'United States (USA)', 'Hyderabad, Pune, Gurugram',\n",
       "       'Vasai, Virar', 'Hosur, Bengaluru', 'Hyderabad, Pune',\n",
       "       'Bangalore Rural', 'Chandigarh, Ahmedabad', 'Jalpaiguri', 'Amod',\n",
       "       'Bhubaneswar', 'Haridwar, Roorkee', 'Anand', 'Hybrid - Chennai',\n",
       "       'Mumbai, Mumbai Suburban, Mumbai (All Areas)', 'Indore',\n",
       "       'Hybrid - Chandigarh, Lucknow, Jaipur',\n",
       "       'Hybrid - Bhubaneswar, Indore, Patna',\n",
       "       'Hybrid - Bengaluru(St Marks Road)',\n",
       "       'Hybrid - Pune, Bengaluru, Delhi / NCR', 'Hybrid - Gurugram',\n",
       "       'Hosur', 'Mumbai, Udupi, Bengaluru', 'Varanasi, Bengaluru',\n",
       "       'Coimbatore, Bengaluru', 'Mohali',\n",
       "       'Hybrid - Kolkata, Pune, Chennai', 'Hybrid - Pune, Bengaluru',\n",
       "       'New Delhi, Bengaluru', 'New Delhi, Pune, Bengaluru',\n",
       "       'Hybrid - Pune, Chennai, Bengaluru', 'Nagpur',\n",
       "       'Mumbai(Matunga +12), Thane, Mumbai (All Areas)',\n",
       "       'Gurugram(Udyog Vihar)', 'Udaipur', 'Hyderabad(Kondapur)',\n",
       "       'Ghaziabad', 'Mumbai, Nagpur, Thane, Nashik, Pune, Aurangabad',\n",
       "       'Navi Mumbai, Chennai', 'Gurgaon', 'Noida, Mumbai(Andheri East)',\n",
       "       'Salem', 'Thrissur', 'Hyderabad, Ahmedabad', 'Vadodara', 'Ballari',\n",
       "       'Panchkula', 'Mangaluru', 'Rajendranagar',\n",
       "       'Noida, Patna, Kanpur, Supaul', 'Indore, Hyderabad',\n",
       "       'Visakhapatnam', 'Mumbai, Ahmedabad', 'Bikaner',\n",
       "       'Pathanamthitta, Palakkad', 'Mangalore', 'Hyderabad, Aurangabad',\n",
       "       'Kota', 'Agartala', 'Aurangabad', 'Mumbai, New Delhi',\n",
       "       'Hybrid - Gurugram(Golf Course Road)', 'Hybrid - Mumbai',\n",
       "       'Hybrid - Noida', 'Panaji',\n",
       "       'Pune, Gurugram, Delhi / NCR, Mumbai (All Areas)',\n",
       "       'Jalna(Jalna Industrial Area MIDC)', 'Mohali(Industrial Area)',\n",
       "       'Tirupati, Chennai', 'Bengaluru(BTM 2nd Stage)',\n",
       "       'Noida, Bengaluru', 'Thane, Navi Mumbai, Mumbai (All Areas)',\n",
       "       'Noida, Mumbai, New Delhi',\n",
       "       'Gwalior, Nagpur, Guntur, Warangal, Asansol, Bangalore Rural, Gurugram, Bengaluru, Belgaum',\n",
       "       'Bangalore/Bengaluru',\n",
       "       'Pune(Hinjewadi), Bengaluru(Electronics City Phase 1)',\n",
       "       'Bengaluru(Whitefield +1)', 'Navi Mumbai',\n",
       "       'Bhopal, Patna, Jabalpur, Mangaluru, Ahmedabad, Tiruchirapalli, Rajkot, Jaipur, Luknow',\n",
       "       'Varanasi, Siliguri, Nashik, Kanpur, Mysuru, Faridabad, Ranchi, Coimbatore, Vadodara',\n",
       "       'Bhubaneswar, Ludhiana, Malegaon, Jhansi, Ghaziabad, Hyderabad, Chennai, Nellore, Surat',\n",
       "       'Kolkata, Vijayawada, Visakhapatnam, Indore, Pune, Meerut, Jamshedpur, Agra, Mumbai (All Areas)',\n",
       "       'Chennai(Thousand Lights +1)', 'Jammu', 'Noida, Greater Noida',\n",
       "       'Bengaluru(Electronic City +1)',\n",
       "       'Bengaluru(Electronics City Phase 1)',\n",
       "       'Mumbai, Navi Mumbai, Mumbai (All Areas)', 'Ernakulam',\n",
       "       'Mumbai, Mumbai Suburban', 'Thane, Navi Mumbai', 'Ballia',\n",
       "       'Gurugram, Delhi / NCR', 'Thiruvananthapuram',\n",
       "       'Mumbai Suburban, Thane, Navi Mumbai',\n",
       "       'Bengaluru(Electronic City)', 'Mumbai, Gurugram, Chennai',\n",
       "       'Kolkata, Asansol', 'Australia, Canada, International',\n",
       "       'Hybrid - Gurugram, Chennai, Bengaluru', 'Bengaluru(Hebbal)'],\n",
       "      dtype=object)"
      ]
     },
     "execution_count": 97,
     "metadata": {},
     "output_type": "execute_result"
    }
   ],
   "source": [
    "df['Location'].unique()"
   ]
  },
  {
   "cell_type": "code",
   "execution_count": null,
   "id": "4a875615",
   "metadata": {},
   "outputs": [],
   "source": []
  }
 ],
 "metadata": {
  "kernelspec": {
   "display_name": "base",
   "language": "python",
   "name": "python3"
  },
  "language_info": {
   "codemirror_mode": {
    "name": "ipython",
    "version": 3
   },
   "file_extension": ".py",
   "mimetype": "text/x-python",
   "name": "python",
   "nbconvert_exporter": "python",
   "pygments_lexer": "ipython3",
   "version": "3.9.13"
  }
 },
 "nbformat": 4,
 "nbformat_minor": 5
}
