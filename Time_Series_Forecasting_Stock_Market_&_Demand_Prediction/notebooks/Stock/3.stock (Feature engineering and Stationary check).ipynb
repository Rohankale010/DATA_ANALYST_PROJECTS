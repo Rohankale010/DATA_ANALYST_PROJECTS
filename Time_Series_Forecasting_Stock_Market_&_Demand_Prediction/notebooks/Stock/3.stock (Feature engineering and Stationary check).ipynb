{
 "cells": [
  {
   "cell_type": "code",
   "execution_count": 2,
   "id": "9d208701",
   "metadata": {},
   "outputs": [],
   "source": [
    "import pandas as pd"
   ]
  },
  {
   "cell_type": "code",
   "execution_count": 3,
   "id": "9919f15a",
   "metadata": {},
   "outputs": [],
   "source": [
    "stock_df=pd.read_csv('D:\\Projects\\DATA_ANALYST_PROJECTS\\Time_Series_Forecasting_Stock_Market_&_Demand_Prediction\\data\\stock_data_cleaned.csv',parse_dates=['Date'])"
   ]
  },
  {
   "cell_type": "code",
   "execution_count": 4,
   "id": "63d7b18a",
   "metadata": {},
   "outputs": [
    {
     "name": "stdout",
     "output_type": "stream",
     "text": [
      "<class 'pandas.core.frame.DataFrame'>\n",
      "RangeIndex: 410 entries, 0 to 409\n",
      "Data columns (total 7 columns):\n",
      " #   Column     Non-Null Count  Dtype         \n",
      "---  ------     --------------  -----         \n",
      " 0   Date       410 non-null    datetime64[ns]\n",
      " 1   Open       410 non-null    float64       \n",
      " 2   High       410 non-null    float64       \n",
      " 3   Low        410 non-null    float64       \n",
      " 4   Close      410 non-null    float64       \n",
      " 5   Adj Close  410 non-null    float64       \n",
      " 6   Volume     410 non-null    int64         \n",
      "dtypes: datetime64[ns](1), float64(5), int64(1)\n",
      "memory usage: 22.5 KB\n"
     ]
    }
   ],
   "source": [
    "stock_df.info()"
   ]
  },
  {
   "cell_type": "code",
   "execution_count": 5,
   "id": "008b72b1",
   "metadata": {},
   "outputs": [],
   "source": [
    "stock_df['Date']=stock_df['Date'].sort_values(ascending=True)"
   ]
  },
  {
   "cell_type": "code",
   "execution_count": 6,
   "id": "65f490ab",
   "metadata": {},
   "outputs": [],
   "source": [
    "# Feature engineering\n",
    "stock_df['Day']=stock_df['Date'].dt.day\n",
    "stock_df['Month']=stock_df['Date'].dt.month\n",
    "stock_df['Year']=stock_df['Date'].dt.year\n",
    "stock_df['Daily_Return']=(stock_df['Close']-stock_df['Open'])/stock_df['Open']\n",
    "stock_df['Volatility']=(stock_df['High']-stock_df['Low'])/stock_df['Open']\n",
    "stock_df['7D_MA_Close']=stock_df['Close'].rolling(window=7).mean()\n",
    "stock_df['30D_MA_Close']=stock_df['Close'].rolling(window=30).mean()\n",
    "stock_df['LAG_Close']=stock_df['Close'].shift(1)\n",
    "stock_df['LAG_Volume']=stock_df['Volume'].shift(1)\n"
   ]
  },
  {
   "cell_type": "code",
   "execution_count": 8,
   "id": "dac5af2e",
   "metadata": {},
   "outputs": [
    {
     "data": {
      "text/html": [
       "<div>\n",
       "<style scoped>\n",
       "    .dataframe tbody tr th:only-of-type {\n",
       "        vertical-align: middle;\n",
       "    }\n",
       "\n",
       "    .dataframe tbody tr th {\n",
       "        vertical-align: top;\n",
       "    }\n",
       "\n",
       "    .dataframe thead th {\n",
       "        text-align: right;\n",
       "    }\n",
       "</style>\n",
       "<table border=\"1\" class=\"dataframe\">\n",
       "  <thead>\n",
       "    <tr style=\"text-align: right;\">\n",
       "      <th></th>\n",
       "      <th>Date</th>\n",
       "      <th>Open</th>\n",
       "      <th>High</th>\n",
       "      <th>Low</th>\n",
       "      <th>Close</th>\n",
       "      <th>Adj Close</th>\n",
       "      <th>Volume</th>\n",
       "      <th>Day</th>\n",
       "      <th>Month</th>\n",
       "      <th>Year</th>\n",
       "      <th>Daily_Return</th>\n",
       "      <th>Volatility</th>\n",
       "      <th>7D_MA_Close</th>\n",
       "      <th>30D_MA_Close</th>\n",
       "      <th>LAG_Close</th>\n",
       "      <th>LAG_Volume</th>\n",
       "    </tr>\n",
       "  </thead>\n",
       "  <tbody>\n",
       "    <tr>\n",
       "      <th>0</th>\n",
       "      <td>2018-08-15</td>\n",
       "      <td>11.84</td>\n",
       "      <td>11.84</td>\n",
       "      <td>11.74</td>\n",
       "      <td>11.74</td>\n",
       "      <td>11.74</td>\n",
       "      <td>27300</td>\n",
       "      <td>15</td>\n",
       "      <td>8</td>\n",
       "      <td>2018</td>\n",
       "      <td>-0.008446</td>\n",
       "      <td>0.008446</td>\n",
       "      <td>NaN</td>\n",
       "      <td>NaN</td>\n",
       "      <td>NaN</td>\n",
       "      <td>NaN</td>\n",
       "    </tr>\n",
       "    <tr>\n",
       "      <th>1</th>\n",
       "      <td>2018-08-16</td>\n",
       "      <td>11.78</td>\n",
       "      <td>11.80</td>\n",
       "      <td>11.74</td>\n",
       "      <td>11.74</td>\n",
       "      <td>11.74</td>\n",
       "      <td>428400</td>\n",
       "      <td>16</td>\n",
       "      <td>8</td>\n",
       "      <td>2018</td>\n",
       "      <td>-0.003396</td>\n",
       "      <td>0.005093</td>\n",
       "      <td>NaN</td>\n",
       "      <td>NaN</td>\n",
       "      <td>11.74</td>\n",
       "      <td>27300.0</td>\n",
       "    </tr>\n",
       "    <tr>\n",
       "      <th>2</th>\n",
       "      <td>2018-08-17</td>\n",
       "      <td>11.80</td>\n",
       "      <td>11.82</td>\n",
       "      <td>11.77</td>\n",
       "      <td>11.82</td>\n",
       "      <td>11.82</td>\n",
       "      <td>52400</td>\n",
       "      <td>17</td>\n",
       "      <td>8</td>\n",
       "      <td>2018</td>\n",
       "      <td>0.001695</td>\n",
       "      <td>0.004237</td>\n",
       "      <td>NaN</td>\n",
       "      <td>NaN</td>\n",
       "      <td>11.74</td>\n",
       "      <td>428400.0</td>\n",
       "    </tr>\n",
       "    <tr>\n",
       "      <th>3</th>\n",
       "      <td>2018-08-20</td>\n",
       "      <td>11.88</td>\n",
       "      <td>11.91</td>\n",
       "      <td>11.85</td>\n",
       "      <td>11.90</td>\n",
       "      <td>11.90</td>\n",
       "      <td>28700</td>\n",
       "      <td>20</td>\n",
       "      <td>8</td>\n",
       "      <td>2018</td>\n",
       "      <td>0.001683</td>\n",
       "      <td>0.005050</td>\n",
       "      <td>NaN</td>\n",
       "      <td>NaN</td>\n",
       "      <td>11.82</td>\n",
       "      <td>52400.0</td>\n",
       "    </tr>\n",
       "    <tr>\n",
       "      <th>4</th>\n",
       "      <td>2018-08-21</td>\n",
       "      <td>11.92</td>\n",
       "      <td>11.95</td>\n",
       "      <td>11.89</td>\n",
       "      <td>11.93</td>\n",
       "      <td>11.93</td>\n",
       "      <td>30600</td>\n",
       "      <td>21</td>\n",
       "      <td>8</td>\n",
       "      <td>2018</td>\n",
       "      <td>0.000839</td>\n",
       "      <td>0.005034</td>\n",
       "      <td>NaN</td>\n",
       "      <td>NaN</td>\n",
       "      <td>11.90</td>\n",
       "      <td>28700.0</td>\n",
       "    </tr>\n",
       "  </tbody>\n",
       "</table>\n",
       "</div>"
      ],
      "text/plain": [
       "        Date   Open   High    Low  Close  Adj Close  Volume  Day  Month  Year  \\\n",
       "0 2018-08-15  11.84  11.84  11.74  11.74      11.74   27300   15      8  2018   \n",
       "1 2018-08-16  11.78  11.80  11.74  11.74      11.74  428400   16      8  2018   \n",
       "2 2018-08-17  11.80  11.82  11.77  11.82      11.82   52400   17      8  2018   \n",
       "3 2018-08-20  11.88  11.91  11.85  11.90      11.90   28700   20      8  2018   \n",
       "4 2018-08-21  11.92  11.95  11.89  11.93      11.93   30600   21      8  2018   \n",
       "\n",
       "   Daily_Return  Volatility  7D_MA_Close  30D_MA_Close  LAG_Close  LAG_Volume  \n",
       "0     -0.008446    0.008446          NaN           NaN        NaN         NaN  \n",
       "1     -0.003396    0.005093          NaN           NaN      11.74     27300.0  \n",
       "2      0.001695    0.004237          NaN           NaN      11.74    428400.0  \n",
       "3      0.001683    0.005050          NaN           NaN      11.82     52400.0  \n",
       "4      0.000839    0.005034          NaN           NaN      11.90     28700.0  "
      ]
     },
     "execution_count": 8,
     "metadata": {},
     "output_type": "execute_result"
    }
   ],
   "source": [
    "stock_df.head()"
   ]
  },
  {
   "cell_type": "code",
   "execution_count": 9,
   "id": "f8e62a55",
   "metadata": {},
   "outputs": [
    {
     "name": "stdout",
     "output_type": "stream",
     "text": [
      "ADF Statistic: -0.5994279236269443\n",
      "p-value: 0.8711112403047951\n"
     ]
    }
   ],
   "source": [
    "from statsmodels.tsa.stattools import adfuller\n",
    "\n",
    "# ADF Test\n",
    "adf_result = adfuller(stock_df['Close'].dropna())\n",
    "print(f\"ADF Statistic: {adf_result[0]}\")\n",
    "print(f\"p-value: {adf_result[1]}\")\n"
   ]
  },
  {
   "cell_type": "code",
   "execution_count": 10,
   "id": "56ef75ff",
   "metadata": {},
   "outputs": [],
   "source": [
    "stock_df.set_index('Date',inplace=True)"
   ]
  },
  {
   "cell_type": "code",
   "execution_count": 11,
   "id": "b905267c",
   "metadata": {},
   "outputs": [],
   "source": [
    "stock_df['Close_diff']=stock_df['Close'].diff()"
   ]
  },
  {
   "cell_type": "code",
   "execution_count": 12,
   "id": "af602db9",
   "metadata": {},
   "outputs": [
    {
     "name": "stdout",
     "output_type": "stream",
     "text": [
      "ADF Statistic: -5.639289984105451\n",
      "p-value: 1.0454733028219626e-06\n"
     ]
    }
   ],
   "source": [
    "adf_result=adfuller(stock_df['Close_diff'].dropna())\n",
    "\n",
    "# ADF Test again\n",
    "print(f\"ADF Statistic: {adf_result[0]}\")\n",
    "print(f\"p-value: {adf_result[1]}\")"
   ]
  },
  {
   "cell_type": "markdown",
   "id": "a72b0aa9",
   "metadata": {},
   "source": [
    "###  Since we do differencing one time then the value of d is 1 for making Stationary\n"
   ]
  },
  {
   "cell_type": "markdown",
   "id": "c2b0a12b",
   "metadata": {},
   "source": []
  }
 ],
 "metadata": {
  "kernelspec": {
   "display_name": "base",
   "language": "python",
   "name": "python3"
  },
  "language_info": {
   "codemirror_mode": {
    "name": "ipython",
    "version": 3
   },
   "file_extension": ".py",
   "mimetype": "text/x-python",
   "name": "python",
   "nbconvert_exporter": "python",
   "pygments_lexer": "ipython3",
   "version": "3.9.13"
  }
 },
 "nbformat": 4,
 "nbformat_minor": 5
}
