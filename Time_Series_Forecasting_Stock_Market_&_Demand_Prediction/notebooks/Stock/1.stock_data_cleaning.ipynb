{
 "cells": [
  {
   "cell_type": "code",
   "execution_count": 2,
   "id": "ef2f8a1f",
   "metadata": {},
   "outputs": [],
   "source": [
    "import pandas as pd"
   ]
  },
  {
   "cell_type": "code",
   "execution_count": 5,
   "id": "ee316873",
   "metadata": {},
   "outputs": [],
   "source": [
    "stock_df=pd.read_csv('D:\\Projects\\DATA_ANALYST_PROJECTS\\Time_Series_Forecasting_Stock_Market_&_Demand_Prediction\\data/raw_stock_data.csv.csv')"
   ]
  },
  {
   "cell_type": "code",
   "execution_count": 3,
   "id": "f0cadea3",
   "metadata": {},
   "outputs": [
    {
     "data": {
      "text/html": [
       "<div>\n",
       "<style scoped>\n",
       "    .dataframe tbody tr th:only-of-type {\n",
       "        vertical-align: middle;\n",
       "    }\n",
       "\n",
       "    .dataframe tbody tr th {\n",
       "        vertical-align: top;\n",
       "    }\n",
       "\n",
       "    .dataframe thead th {\n",
       "        text-align: right;\n",
       "    }\n",
       "</style>\n",
       "<table border=\"1\" class=\"dataframe\">\n",
       "  <thead>\n",
       "    <tr style=\"text-align: right;\">\n",
       "      <th></th>\n",
       "      <th>Date</th>\n",
       "      <th>Open</th>\n",
       "      <th>High</th>\n",
       "      <th>Low</th>\n",
       "      <th>Close</th>\n",
       "      <th>Adj Close</th>\n",
       "      <th>Volume</th>\n",
       "    </tr>\n",
       "  </thead>\n",
       "  <tbody>\n",
       "    <tr>\n",
       "      <th>0</th>\n",
       "      <td>2018-08-15</td>\n",
       "      <td>11.84</td>\n",
       "      <td>11.84</td>\n",
       "      <td>11.74</td>\n",
       "      <td>11.74</td>\n",
       "      <td>11.74</td>\n",
       "      <td>27300</td>\n",
       "    </tr>\n",
       "    <tr>\n",
       "      <th>1</th>\n",
       "      <td>2018-08-16</td>\n",
       "      <td>11.78</td>\n",
       "      <td>11.80</td>\n",
       "      <td>11.74</td>\n",
       "      <td>11.74</td>\n",
       "      <td>11.74</td>\n",
       "      <td>428400</td>\n",
       "    </tr>\n",
       "    <tr>\n",
       "      <th>2</th>\n",
       "      <td>2018-08-17</td>\n",
       "      <td>11.80</td>\n",
       "      <td>11.82</td>\n",
       "      <td>11.77</td>\n",
       "      <td>11.82</td>\n",
       "      <td>11.82</td>\n",
       "      <td>52400</td>\n",
       "    </tr>\n",
       "    <tr>\n",
       "      <th>3</th>\n",
       "      <td>2018-08-20</td>\n",
       "      <td>11.88</td>\n",
       "      <td>11.91</td>\n",
       "      <td>11.85</td>\n",
       "      <td>11.90</td>\n",
       "      <td>11.90</td>\n",
       "      <td>28700</td>\n",
       "    </tr>\n",
       "    <tr>\n",
       "      <th>4</th>\n",
       "      <td>2018-08-21</td>\n",
       "      <td>11.92</td>\n",
       "      <td>11.95</td>\n",
       "      <td>11.89</td>\n",
       "      <td>11.93</td>\n",
       "      <td>11.93</td>\n",
       "      <td>30600</td>\n",
       "    </tr>\n",
       "  </tbody>\n",
       "</table>\n",
       "</div>"
      ],
      "text/plain": [
       "         Date   Open   High    Low  Close  Adj Close  Volume\n",
       "0  2018-08-15  11.84  11.84  11.74  11.74      11.74   27300\n",
       "1  2018-08-16  11.78  11.80  11.74  11.74      11.74  428400\n",
       "2  2018-08-17  11.80  11.82  11.77  11.82      11.82   52400\n",
       "3  2018-08-20  11.88  11.91  11.85  11.90      11.90   28700\n",
       "4  2018-08-21  11.92  11.95  11.89  11.93      11.93   30600"
      ]
     },
     "execution_count": 3,
     "metadata": {},
     "output_type": "execute_result"
    }
   ],
   "source": [
    "stock_df.head()"
   ]
  },
  {
   "cell_type": "code",
   "execution_count": 6,
   "id": "c30f6ddb",
   "metadata": {},
   "outputs": [
    {
     "name": "stdout",
     "output_type": "stream",
     "text": [
      "<class 'pandas.core.frame.DataFrame'>\n",
      "RangeIndex: 410 entries, 0 to 409\n",
      "Data columns (total 7 columns):\n",
      " #   Column     Non-Null Count  Dtype         \n",
      "---  ------     --------------  -----         \n",
      " 0   Date       410 non-null    datetime64[ns]\n",
      " 1   Open       410 non-null    float64       \n",
      " 2   High       410 non-null    float64       \n",
      " 3   Low        410 non-null    float64       \n",
      " 4   Close      410 non-null    float64       \n",
      " 5   Adj Close  410 non-null    float64       \n",
      " 6   Volume     410 non-null    int64         \n",
      "dtypes: datetime64[ns](1), float64(5), int64(1)\n",
      "memory usage: 22.5 KB\n"
     ]
    }
   ],
   "source": [
    "stock_df.info()"
   ]
  },
  {
   "cell_type": "code",
   "execution_count": 5,
   "id": "020280e1",
   "metadata": {},
   "outputs": [],
   "source": [
    "stock_df['Date']=pd.to_datetime(stock_df['Date'])"
   ]
  },
  {
   "cell_type": "code",
   "execution_count": 7,
   "id": "76404388",
   "metadata": {},
   "outputs": [],
   "source": [
    "stock_df.sort_values(by='Date').reset_index(drop=True,inplace=True)"
   ]
  },
  {
   "cell_type": "code",
   "execution_count": 8,
   "id": "921c5d3e",
   "metadata": {},
   "outputs": [
    {
     "data": {
      "text/html": [
       "<div>\n",
       "<style scoped>\n",
       "    .dataframe tbody tr th:only-of-type {\n",
       "        vertical-align: middle;\n",
       "    }\n",
       "\n",
       "    .dataframe tbody tr th {\n",
       "        vertical-align: top;\n",
       "    }\n",
       "\n",
       "    .dataframe thead th {\n",
       "        text-align: right;\n",
       "    }\n",
       "</style>\n",
       "<table border=\"1\" class=\"dataframe\">\n",
       "  <thead>\n",
       "    <tr style=\"text-align: right;\">\n",
       "      <th></th>\n",
       "      <th>Date</th>\n",
       "      <th>Open</th>\n",
       "      <th>High</th>\n",
       "      <th>Low</th>\n",
       "      <th>Close</th>\n",
       "      <th>Adj Close</th>\n",
       "      <th>Volume</th>\n",
       "    </tr>\n",
       "  </thead>\n",
       "  <tbody>\n",
       "    <tr>\n",
       "      <th>0</th>\n",
       "      <td>2018-08-15</td>\n",
       "      <td>11.84</td>\n",
       "      <td>11.84</td>\n",
       "      <td>11.74</td>\n",
       "      <td>11.74</td>\n",
       "      <td>11.74</td>\n",
       "      <td>27300</td>\n",
       "    </tr>\n",
       "    <tr>\n",
       "      <th>1</th>\n",
       "      <td>2018-08-16</td>\n",
       "      <td>11.78</td>\n",
       "      <td>11.80</td>\n",
       "      <td>11.74</td>\n",
       "      <td>11.74</td>\n",
       "      <td>11.74</td>\n",
       "      <td>428400</td>\n",
       "    </tr>\n",
       "    <tr>\n",
       "      <th>2</th>\n",
       "      <td>2018-08-17</td>\n",
       "      <td>11.80</td>\n",
       "      <td>11.82</td>\n",
       "      <td>11.77</td>\n",
       "      <td>11.82</td>\n",
       "      <td>11.82</td>\n",
       "      <td>52400</td>\n",
       "    </tr>\n",
       "    <tr>\n",
       "      <th>3</th>\n",
       "      <td>2018-08-20</td>\n",
       "      <td>11.88</td>\n",
       "      <td>11.91</td>\n",
       "      <td>11.85</td>\n",
       "      <td>11.90</td>\n",
       "      <td>11.90</td>\n",
       "      <td>28700</td>\n",
       "    </tr>\n",
       "    <tr>\n",
       "      <th>4</th>\n",
       "      <td>2018-08-21</td>\n",
       "      <td>11.92</td>\n",
       "      <td>11.95</td>\n",
       "      <td>11.89</td>\n",
       "      <td>11.93</td>\n",
       "      <td>11.93</td>\n",
       "      <td>30600</td>\n",
       "    </tr>\n",
       "  </tbody>\n",
       "</table>\n",
       "</div>"
      ],
      "text/plain": [
       "        Date   Open   High    Low  Close  Adj Close  Volume\n",
       "0 2018-08-15  11.84  11.84  11.74  11.74      11.74   27300\n",
       "1 2018-08-16  11.78  11.80  11.74  11.74      11.74  428400\n",
       "2 2018-08-17  11.80  11.82  11.77  11.82      11.82   52400\n",
       "3 2018-08-20  11.88  11.91  11.85  11.90      11.90   28700\n",
       "4 2018-08-21  11.92  11.95  11.89  11.93      11.93   30600"
      ]
     },
     "execution_count": 8,
     "metadata": {},
     "output_type": "execute_result"
    }
   ],
   "source": [
    "stock_df.head()"
   ]
  },
  {
   "cell_type": "code",
   "execution_count": 9,
   "id": "5fa2b2a1",
   "metadata": {},
   "outputs": [
    {
     "name": "stdout",
     "output_type": "stream",
     "text": [
      "<class 'pandas.core.frame.DataFrame'>\n",
      "RangeIndex: 410 entries, 0 to 409\n",
      "Data columns (total 7 columns):\n",
      " #   Column     Non-Null Count  Dtype         \n",
      "---  ------     --------------  -----         \n",
      " 0   Date       410 non-null    datetime64[ns]\n",
      " 1   Open       410 non-null    float64       \n",
      " 2   High       410 non-null    float64       \n",
      " 3   Low        410 non-null    float64       \n",
      " 4   Close      410 non-null    float64       \n",
      " 5   Adj Close  410 non-null    float64       \n",
      " 6   Volume     410 non-null    int64         \n",
      "dtypes: datetime64[ns](1), float64(5), int64(1)\n",
      "memory usage: 22.5 KB\n"
     ]
    }
   ],
   "source": [
    "stock_df.info()"
   ]
  },
  {
   "cell_type": "code",
   "execution_count": 10,
   "id": "b1ffdeea",
   "metadata": {},
   "outputs": [
    {
     "data": {
      "text/plain": [
       "Date         0\n",
       "Open         0\n",
       "High         0\n",
       "Low          0\n",
       "Close        0\n",
       "Adj Close    0\n",
       "Volume       0\n",
       "dtype: int64"
      ]
     },
     "execution_count": 10,
     "metadata": {},
     "output_type": "execute_result"
    }
   ],
   "source": [
    "stock_df.isnull().sum()"
   ]
  },
  {
   "cell_type": "code",
   "execution_count": 15,
   "id": "edce183a",
   "metadata": {},
   "outputs": [],
   "source": [
    "stock_df.dropna(inplace=True)"
   ]
  },
  {
   "cell_type": "code",
   "execution_count": null,
   "id": "a544dde8",
   "metadata": {},
   "outputs": [],
   "source": [
    "stock_df.to_csv('D:\\Projects\\DATA_ANALYST_PROJECTS\\Time Series Forecasting Stock Market & Demand Prediction\\data/cleaned_stock_data.csv',index=False)\n"
   ]
  }
 ],
 "metadata": {
  "kernelspec": {
   "display_name": "base",
   "language": "python",
   "name": "python3"
  },
  "language_info": {
   "codemirror_mode": {
    "name": "ipython",
    "version": 3
   },
   "file_extension": ".py",
   "mimetype": "text/x-python",
   "name": "python",
   "nbconvert_exporter": "python",
   "pygments_lexer": "ipython3",
   "version": "3.9.13"
  }
 },
 "nbformat": 4,
 "nbformat_minor": 5
}
