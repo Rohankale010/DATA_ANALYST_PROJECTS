{
 "cells": [
  {
   "cell_type": "code",
   "execution_count": 1,
   "id": "760313cb",
   "metadata": {},
   "outputs": [],
   "source": [
    "import pandas as pd\n",
    "from statsmodels.tsa.stattools import adfuller"
   ]
  },
  {
   "cell_type": "code",
   "execution_count": 2,
   "id": "c502be1e",
   "metadata": {},
   "outputs": [],
   "source": [
    "demand_df=pd.read_csv(r'D:\\Projects\\DATA_ANALYST_PROJECTS\\Time_Series_Forecasting_Stock_Market_&_Demand_Prediction\\data\\product_demand_cleaned.csv',parse_dates=['Date'])"
   ]
  },
  {
   "cell_type": "code",
   "execution_count": 3,
   "id": "bc089ff5",
   "metadata": {},
   "outputs": [],
   "source": [
    "demand_df['Date']=demand_df['Date'].sort_values(ascending=True)"
   ]
  },
  {
   "cell_type": "code",
   "execution_count": 5,
   "id": "8a891aa0",
   "metadata": {},
   "outputs": [
    {
     "data": {
      "text/html": [
       "<div>\n",
       "<style scoped>\n",
       "    .dataframe tbody tr th:only-of-type {\n",
       "        vertical-align: middle;\n",
       "    }\n",
       "\n",
       "    .dataframe tbody tr th {\n",
       "        vertical-align: top;\n",
       "    }\n",
       "\n",
       "    .dataframe thead th {\n",
       "        text-align: right;\n",
       "    }\n",
       "</style>\n",
       "<table border=\"1\" class=\"dataframe\">\n",
       "  <thead>\n",
       "    <tr style=\"text-align: right;\">\n",
       "      <th></th>\n",
       "      <th>Product_Code</th>\n",
       "      <th>Warehouse</th>\n",
       "      <th>Product_Category</th>\n",
       "      <th>Date</th>\n",
       "      <th>Order_Demand</th>\n",
       "    </tr>\n",
       "  </thead>\n",
       "  <tbody>\n",
       "    <tr>\n",
       "      <th>0</th>\n",
       "      <td>Product_0965</td>\n",
       "      <td>Whse_A</td>\n",
       "      <td>Category_006</td>\n",
       "      <td>2011-01-08</td>\n",
       "      <td>2</td>\n",
       "    </tr>\n",
       "    <tr>\n",
       "      <th>1</th>\n",
       "      <td>Product_1724</td>\n",
       "      <td>Whse_A</td>\n",
       "      <td>Category_003</td>\n",
       "      <td>2011-05-31</td>\n",
       "      <td>108</td>\n",
       "    </tr>\n",
       "    <tr>\n",
       "      <th>2</th>\n",
       "      <td>Product_1521</td>\n",
       "      <td>Whse_S</td>\n",
       "      <td>Category_019</td>\n",
       "      <td>2011-06-24</td>\n",
       "      <td>85000</td>\n",
       "    </tr>\n",
       "    <tr>\n",
       "      <th>3</th>\n",
       "      <td>Product_1521</td>\n",
       "      <td>Whse_S</td>\n",
       "      <td>Category_019</td>\n",
       "      <td>2011-06-24</td>\n",
       "      <td>7000</td>\n",
       "    </tr>\n",
       "    <tr>\n",
       "      <th>4</th>\n",
       "      <td>Product_1507</td>\n",
       "      <td>Whse_C</td>\n",
       "      <td>Category_019</td>\n",
       "      <td>2011-09-02</td>\n",
       "      <td>1250</td>\n",
       "    </tr>\n",
       "  </tbody>\n",
       "</table>\n",
       "</div>"
      ],
      "text/plain": [
       "   Product_Code Warehouse Product_Category       Date  Order_Demand\n",
       "0  Product_0965    Whse_A     Category_006 2011-01-08             2\n",
       "1  Product_1724    Whse_A     Category_003 2011-05-31           108\n",
       "2  Product_1521    Whse_S     Category_019 2011-06-24         85000\n",
       "3  Product_1521    Whse_S     Category_019 2011-06-24          7000\n",
       "4  Product_1507    Whse_C     Category_019 2011-09-02          1250"
      ]
     },
     "execution_count": 5,
     "metadata": {},
     "output_type": "execute_result"
    }
   ],
   "source": [
    "demand_df.head()"
   ]
  },
  {
   "cell_type": "code",
   "execution_count": 6,
   "id": "33e62988",
   "metadata": {},
   "outputs": [],
   "source": [
    "# Feature engineering\n",
    "demand_df['Day']=demand_df['Date'].dt.day\n",
    "demand_df['Month']=demand_df['Date'].dt.month\n",
    "demand_df['Year']=demand_df['Date'].dt.year"
   ]
  },
  {
   "cell_type": "code",
   "execution_count": 7,
   "id": "192caf84",
   "metadata": {},
   "outputs": [],
   "source": [
    "# Aggregate demand per day\n",
    "agg_demand=demand_df.groupby('Date')['Order_Demand'].sum().reset_index(name='Total_Demand')"
   ]
  },
  {
   "cell_type": "code",
   "execution_count": 8,
   "id": "3d717236",
   "metadata": {},
   "outputs": [],
   "source": [
    "# Rolling and Lag features\n",
    "agg_demand['7D_MA_demand']=agg_demand['Total_Demand'].rolling(window=7).mean()\n",
    "agg_demand['30D_MA_demand']=agg_demand['Total_Demand'].rolling(window=30).mean()\n",
    "agg_demand['LAG_demand']=agg_demand['Total_Demand'].shift(1)"
   ]
  },
  {
   "cell_type": "code",
   "execution_count": 11,
   "id": "6fd828be",
   "metadata": {},
   "outputs": [
    {
     "name": "stdout",
     "output_type": "stream",
     "text": [
      "ADF Statistic: -7.196820959749565\n",
      "p-value: 2.422491542035692e-10\n"
     ]
    }
   ],
   "source": [
    "# ADF test\n",
    "adf_result=adfuller(agg_demand['Total_Demand'].dropna())\n",
    "print(f\"ADF Statistic: {adf_result[0]}\")\n",
    "print(f\"p-value: {adf_result[1]}\")"
   ]
  },
  {
   "cell_type": "code",
   "execution_count": null,
   "id": "d50a1b03",
   "metadata": {},
   "outputs": [],
   "source": []
  }
 ],
 "metadata": {
  "kernelspec": {
   "display_name": "base",
   "language": "python",
   "name": "python3"
  },
  "language_info": {
   "codemirror_mode": {
    "name": "ipython",
    "version": 3
   },
   "file_extension": ".py",
   "mimetype": "text/x-python",
   "name": "python",
   "nbconvert_exporter": "python",
   "pygments_lexer": "ipython3",
   "version": "3.9.13"
  }
 },
 "nbformat": 4,
 "nbformat_minor": 5
}
